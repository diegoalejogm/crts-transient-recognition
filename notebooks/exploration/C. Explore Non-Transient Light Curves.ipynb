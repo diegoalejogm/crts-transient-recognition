{
 "cells": [
  {
   "cell_type": "code",
   "execution_count": 2,
   "metadata": {},
   "outputs": [],
   "source": [
    "DATA_PATH = '../../data/'\n",
    "LIGHTCURVES_PATH = DATA_PATH + 'lightcurves/'"
   ]
  },
  {
   "cell_type": "code",
   "execution_count": 3,
   "metadata": {},
   "outputs": [],
   "source": [
    "import pandas as pd\n",
    "import numpy as np"
   ]
  },
  {
   "cell_type": "markdown",
   "metadata": {},
   "source": [
    "Load transient catalinaID Catalogue"
   ]
  },
  {
   "cell_type": "code",
   "execution_count": 16,
   "metadata": {
    "scrolled": true
   },
   "outputs": [
    {
     "name": "stdout",
     "output_type": "stream",
     "text": [
      "(4280, 5)\n"
     ]
    }
   ],
   "source": [
    "df_out = pd.read_pickle('../../data/' + 'transient_catalinaIDs.pickle')\n",
    "print(df_out.shape)"
   ]
  },
  {
   "cell_type": "markdown",
   "metadata": {},
   "source": [
    "Load non-transient Light Curves"
   ]
  },
  {
   "cell_type": "code",
   "execution_count": 17,
   "metadata": {},
   "outputs": [
    {
     "name": "stdout",
     "output_type": "stream",
     "text": [
      "(16940,)\n"
     ]
    }
   ],
   "source": [
    "filename = 'nontransient_lightcurves.pickle'\n",
    "indir = LIGHTCURVES_PATH; filepath = indir + filename\n",
    "df_lcs = pd.read_pickle(filepath)\n",
    "print(df_lcs.ID.unique().shape)"
   ]
  },
  {
   "cell_type": "markdown",
   "metadata": {},
   "source": [
    "Check that nontransient Lightcurve IDs are not in the transients CatalinaIDs"
   ]
  },
  {
   "cell_type": "code",
   "execution_count": 18,
   "metadata": {},
   "outputs": [
    {
     "name": "stdout",
     "output_type": "stream",
     "text": [
      "Any exist: False\n"
     ]
    }
   ],
   "source": [
    "any_exist = False\n",
    "catalinaID_list = df_out.CatalinaID.unique()\n",
    "for lcs_id in df_lcs.ID.astype(np.int64).unique():\n",
    "    curr_exists = lcs_id in catalinaID_list\n",
    "    any_exist = any_exist or curr_exists\n",
    "print('Any exist:', str(any_exist))"
   ]
  },
  {
   "cell_type": "markdown",
   "metadata": {},
   "source": [
    "Describre non-transients observation count"
   ]
  },
  {
   "cell_type": "code",
   "execution_count": 19,
   "metadata": {},
   "outputs": [],
   "source": [
    "df_lcs_numobs = df_lcs.groupby('ID')['Mag'].count()"
   ]
  },
  {
   "cell_type": "code",
   "execution_count": 20,
   "metadata": {},
   "outputs": [
    {
     "data": {
      "text/plain": [
       "count    16940.000000\n",
       "mean       113.601476\n",
       "std        129.259273\n",
       "min          1.000000\n",
       "25%         16.000000\n",
       "50%         61.000000\n",
       "75%        176.000000\n",
       "max       1266.000000\n",
       "Name: Mag, dtype: float64"
      ]
     },
     "execution_count": 20,
     "metadata": {},
     "output_type": "execute_result"
    }
   ],
   "source": [
    "df_lcs_numobs.describe()"
   ]
  },
  {
   "cell_type": "code",
   "execution_count": 21,
   "metadata": {},
   "outputs": [
    {
     "data": {
      "text/plain": [
       "53464.153989999999"
      ]
     },
     "execution_count": 21,
     "metadata": {},
     "output_type": "execute_result"
    }
   ],
   "source": [
    "df_lcs.sort_values(['MJD'])['MJD'].iloc[0]"
   ]
  },
  {
   "cell_type": "markdown",
   "metadata": {},
   "source": [
    "Count number of objects with at least 5 observations"
   ]
  },
  {
   "cell_type": "code",
   "execution_count": 22,
   "metadata": {
    "scrolled": true
   },
   "outputs": [
    {
     "data": {
      "text/plain": [
       "15263"
      ]
     },
     "execution_count": 22,
     "metadata": {},
     "output_type": "execute_result"
    }
   ],
   "source": [
    "df_filtered = df_lcs.groupby('ID', as_index=False).count()\n",
    "df_filtered = df_filtered.rename(columns={'Mag':'ObsCount'})\n",
    "df_filtered = df_filtered[df_filtered.ObsCount >= 5]\n",
    "df_filtered.shape[0]"
   ]
  },
  {
   "cell_type": "markdown",
   "metadata": {},
   "source": [
    "Describre non-transients observation count (with observations >= 5)"
   ]
  },
  {
   "cell_type": "code",
   "execution_count": 23,
   "metadata": {},
   "outputs": [],
   "source": [
    "df_lcs_numobs_filtered = df_lcs[df_lcs.ID.isin(df_filtered.ID)].groupby('ID')['Mag'].count()"
   ]
  },
  {
   "cell_type": "code",
   "execution_count": 24,
   "metadata": {},
   "outputs": [
    {
     "data": {
      "text/plain": [
       "count    15263.000000\n",
       "mean       125.816026\n",
       "std        130.524070\n",
       "min          5.000000\n",
       "25%         27.000000\n",
       "50%         75.000000\n",
       "75%        195.000000\n",
       "max       1266.000000\n",
       "Name: Mag, dtype: float64"
      ]
     },
     "execution_count": 24,
     "metadata": {},
     "output_type": "execute_result"
    }
   ],
   "source": [
    "df_lcs_numobs_filtered.describe()"
   ]
  }
 ],
 "metadata": {
  "kernelspec": {
   "display_name": "Python 3",
   "language": "python",
   "name": "python3"
  },
  "language_info": {
   "codemirror_mode": {
    "name": "ipython",
    "version": 3
   },
   "file_extension": ".py",
   "mimetype": "text/x-python",
   "name": "python",
   "nbconvert_exporter": "python",
   "pygments_lexer": "ipython3",
   "version": "3.4.0"
  }
 },
 "nbformat": 4,
 "nbformat_minor": 2
}
