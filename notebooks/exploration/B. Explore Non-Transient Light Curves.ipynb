{
 "cells": [
  {
   "cell_type": "code",
   "execution_count": 50,
   "metadata": {},
   "outputs": [],
   "source": [
    "DATA_PATH = '../../data/'\n",
    "LIGHTCURVES_PATH = DATA_PATH + 'lightcurves/'"
   ]
  },
  {
   "cell_type": "code",
   "execution_count": 51,
   "metadata": {},
   "outputs": [],
   "source": [
    "%matplotlib inline\n",
    "\n",
    "import matplotlib\n",
    "import numpy as np\n",
    "import matplotlib.pyplot as plt"
   ]
  },
  {
   "cell_type": "code",
   "execution_count": 52,
   "metadata": {},
   "outputs": [],
   "source": [
    "import pandas as pd\n",
    "import numpy as np"
   ]
  },
  {
   "cell_type": "markdown",
   "metadata": {},
   "source": [
    "Load transient catalinaID Catalogue"
   ]
  },
  {
   "cell_type": "code",
   "execution_count": 53,
   "metadata": {
    "scrolled": true
   },
   "outputs": [
    {
     "name": "stdout",
     "output_type": "stream",
     "text": [
      "(4280, 5)\n"
     ]
    }
   ],
   "source": [
    "df_out = pd.read_pickle('../../data/' + 'transient_catalinaIDs.pickle')\n",
    "print(df_out.shape)"
   ]
  },
  {
   "cell_type": "markdown",
   "metadata": {},
   "source": [
    "Load non-transient Light Curves"
   ]
  },
  {
   "cell_type": "code",
   "execution_count": 54,
   "metadata": {
    "scrolled": true
   },
   "outputs": [
    {
     "name": "stdout",
     "output_type": "stream",
     "text": [
      "(16940,)\n"
     ]
    }
   ],
   "source": [
    "filename = 'nontransient_lightcurves.pickle'\n",
    "indir = LIGHTCURVES_PATH; filepath = indir + filename\n",
    "df_lcs = pd.read_pickle(filepath)\n",
    "df_lcs['CatalinaID'] = pd.to_numeric(df_lcs.ID.str[6:])\n",
    "print(df_lcs.ID.unique().shape)"
   ]
  },
  {
   "cell_type": "markdown",
   "metadata": {},
   "source": [
    "Check that nontransient Lightcurve IDs are not in the transients CatalinaIDs"
   ]
  },
  {
   "cell_type": "code",
   "execution_count": 55,
   "metadata": {},
   "outputs": [
    {
     "name": "stdout",
     "output_type": "stream",
     "text": [
      "Any exist: False\n"
     ]
    }
   ],
   "source": [
    "any_exist = False\n",
    "catalinaID_list = df_out.CatalinaID.unique()\n",
    "for lcs_id in df_lcs.CatalinaID.astype(np.int64).unique():\n",
    "    curr_exists = lcs_id in catalinaID_list\n",
    "    any_exist = any_exist or curr_exists\n",
    "print('Any exist:', str(any_exist))"
   ]
  },
  {
   "cell_type": "markdown",
   "metadata": {},
   "source": [
    "Describre non-transients observation count"
   ]
  },
  {
   "cell_type": "code",
   "execution_count": 56,
   "metadata": {},
   "outputs": [],
   "source": [
    "df_lcs_numobs = df_lcs.groupby('ID')['Mag'].count()"
   ]
  },
  {
   "cell_type": "code",
   "execution_count": 57,
   "metadata": {},
   "outputs": [
    {
     "data": {
      "text/plain": [
       "count    16940.000000\n",
       "mean       113.601476\n",
       "std        129.259273\n",
       "min          1.000000\n",
       "25%         16.000000\n",
       "50%         61.000000\n",
       "75%        176.000000\n",
       "max       1266.000000\n",
       "Name: Mag, dtype: float64"
      ]
     },
     "execution_count": 57,
     "metadata": {},
     "output_type": "execute_result"
    }
   ],
   "source": [
    "df_lcs_numobs.describe()"
   ]
  },
  {
   "cell_type": "markdown",
   "metadata": {},
   "source": [
    "Date of first observation"
   ]
  },
  {
   "cell_type": "code",
   "execution_count": 58,
   "metadata": {},
   "outputs": [
    {
     "data": {
      "text/plain": [
       "53464.153989999999"
      ]
     },
     "execution_count": 58,
     "metadata": {},
     "output_type": "execute_result"
    }
   ],
   "source": [
    "df_lcs.sort_values(['MJD'])['MJD'].iloc[0]"
   ]
  },
  {
   "cell_type": "markdown",
   "metadata": {},
   "source": [
    "Count number of objects with at least 5 observations"
   ]
  },
  {
   "cell_type": "code",
   "execution_count": 59,
   "metadata": {},
   "outputs": [],
   "source": [
    "# Delete rows of blended observations\n",
    "df_lcs = df_lcs.drop_duplicates(['ID','MJD'], keep='first')\n",
    "# Add observation count to every nontransient\n",
    "df_count = df_lcs.groupby('ID', as_index=False).count()\n",
    "df_count['ObsCount'] = df_count['Mag']\n",
    "df_count = df_count[['ID', 'ObsCount']]\n",
    "df_lcs = df_lcs.merge(df_count, how='inner')"
   ]
  },
  {
   "cell_type": "markdown",
   "metadata": {},
   "source": [
    "Describe non-transients observation count (with observations >= 5)"
   ]
  },
  {
   "cell_type": "code",
   "execution_count": 60,
   "metadata": {},
   "outputs": [
    {
     "data": {
      "text/plain": [
       "(4384,)"
      ]
     },
     "execution_count": 60,
     "metadata": {},
     "output_type": "execute_result"
    }
   ],
   "source": [
    "# Remove nontransient objects with less than 5 observations\n",
    "df_lcs5 = df_lcs[df_lcs.ObsCount >= 5]\n",
    "np.random.seed(42)\n",
    "# Sample non-transient subset of same size as transients\n",
    "sample_size = 4384\n",
    "IDs = np.random.choice(df_lcs5.ID.unique(), size=sample_size, replace=False)\n",
    "df_lcs5 = df_lcs5[df_lcs5.ID.isin(IDs)]\n",
    "df_lcs5.ID.unique().shape"
   ]
  },
  {
   "cell_type": "code",
   "execution_count": 61,
   "metadata": {
    "scrolled": false
   },
   "outputs": [],
   "source": [
    "df_lcs_numobs_filtered = df_lcs5.groupby('ID')['Mag'].count()"
   ]
  },
  {
   "cell_type": "code",
   "execution_count": 62,
   "metadata": {},
   "outputs": [
    {
     "data": {
      "text/plain": [
       "count    4384.000000\n",
       "mean      120.373403\n",
       "std       115.846230\n",
       "min         5.000000\n",
       "25%        27.000000\n",
       "50%        73.000000\n",
       "75%       196.000000\n",
       "max       527.000000\n",
       "Name: Mag, dtype: float64"
      ]
     },
     "execution_count": 62,
     "metadata": {},
     "output_type": "execute_result"
    }
   ],
   "source": [
    "df_lcs_numobs_filtered.describe()"
   ]
  },
  {
   "cell_type": "markdown",
   "metadata": {},
   "source": [
    "Count number of objects with at least 10 observations"
   ]
  },
  {
   "cell_type": "code",
   "execution_count": 63,
   "metadata": {
    "scrolled": true
   },
   "outputs": [
    {
     "data": {
      "text/plain": [
       "(3728,)"
      ]
     },
     "execution_count": 63,
     "metadata": {},
     "output_type": "execute_result"
    }
   ],
   "source": [
    "# Remove nontransient objects with less than 5 observations\n",
    "df_lcs10 = df_lcs[df_lcs.ObsCount >= 10]\n",
    "np.random.seed(42)\n",
    "# Sample non-transient subset of same size as transients\n",
    "sample_size = 3728\n",
    "IDs = np.random.choice(df_lcs10.ID.unique(), size=sample_size, replace=False)\n",
    "df_lcs10 = df_lcs10[df_lcs10.ID.isin(IDs)]\n",
    "df_lcs10.ID.unique().shape"
   ]
  },
  {
   "cell_type": "markdown",
   "metadata": {},
   "source": [
    "Describe non-transients observation count (with observations >= 10)"
   ]
  },
  {
   "cell_type": "code",
   "execution_count": 64,
   "metadata": {},
   "outputs": [],
   "source": [
    "df_lcs_numobs_filtered = df_lcs10.groupby('ID')['Mag'].count()"
   ]
  },
  {
   "cell_type": "code",
   "execution_count": 65,
   "metadata": {},
   "outputs": [
    {
     "data": {
      "text/plain": [
       "count    3728.000000\n",
       "mean      128.918723\n",
       "std       117.190136\n",
       "min        10.000000\n",
       "25%        36.000000\n",
       "50%        81.000000\n",
       "75%       204.000000\n",
       "max       528.000000\n",
       "Name: Mag, dtype: float64"
      ]
     },
     "execution_count": 65,
     "metadata": {},
     "output_type": "execute_result"
    }
   ],
   "source": [
    "df_lcs_numobs_filtered.describe()"
   ]
  },
  {
   "cell_type": "code",
   "execution_count": 163,
   "metadata": {},
   "outputs": [],
   "source": [
    "def plot_lightcurve(lc):\n",
    "    plot = lc.plot(x='MJD', y='Mag', marker='.', markeredgecolor='black', linestyle='None', legend=False, figsize=(7,7),ylim=(10,30), yerr='Magerr', elinewidth=0.7)\n",
    "    plot.set_xlabel('Modified Julian Date')\n",
    "    plot.set_ylabel('Mag')"
   ]
  },
  {
   "cell_type": "code",
   "execution_count": 145,
   "metadata": {},
   "outputs": [],
   "source": [
    "def lightcurve(objid):\n",
    "    df_lc = df_lcs[df_lcs.ID == objid]\n",
    "    return df_lc"
   ]
  },
  {
   "cell_type": "code",
   "execution_count": 129,
   "metadata": {},
   "outputs": [],
   "source": [
    "df = df_lcs[df_lcs.ID.isin(df_lcs_numobs[((df_lcs_numobs <= 50) & (df_lcs_numobs >= 10))].index)]"
   ]
  },
  {
   "cell_type": "code",
   "execution_count": 130,
   "metadata": {},
   "outputs": [],
   "source": [
    "#df = df_lcs.copy()\n",
    "IDs = df.ID.unique()\n",
    "np.random.seed(42)\n",
    "rand = np.random.randint(0, IDs.shape[0]-1, 4)\n",
    "randIds = IDs[rand]"
   ]
  },
  {
   "cell_type": "code",
   "execution_count": 138,
   "metadata": {},
   "outputs": [
    {
     "name": "stdout",
     "output_type": "stream",
     "text": [
      "CataID2107022010130\n",
      "CataID2004185017956\n",
      "CataID2121100028895\n",
      "CataID1009084056473\n"
     ]
    }
   ],
   "source": [
    "for objID in randIds:\n",
    "    #objID = df.ID.unique()[84]#[79]\n",
    "    obj_lightcurve = lightcurve(objID)\n",
    "    print(objID)\n",
    "    plot_lightcurve(obj_lightcurve)\n",
    "    plt.savefig('./graphs/nont_{}.png'.format(objID))\n",
    "    plt.close()"
   ]
  },
  {
   "cell_type": "markdown",
   "metadata": {},
   "source": [
    "Visualize correctly classified in binary task"
   ]
  },
  {
   "cell_type": "code",
   "execution_count": 164,
   "metadata": {},
   "outputs": [
    {
     "data": {
      "image/png": "[encoded data removed]",
      "text/plain": [
       "<matplotlib.figure.Figure at 0x7fe27b3f3e48>"
      ]
     },
     "metadata": {},
     "output_type": "display_data"
    }
   ],
   "source": [
    "classified_ids = ['CataID1007113019532']\n",
    "for ix, _ in enumerate(classified_ids):\n",
    "    lc = lightcurve(classified_ids[ix])\n",
    "    plot_lightcurve(lc)\n",
    "#    plt.savefig('./graphs/binary/nont_corr_{}.png'.format(classified_ids[ix]))\n",
    "#    plt.close()"
   ]
  },
  {
   "cell_type": "markdown",
   "metadata": {},
   "source": [
    "Visualize incorrectly classified in binary task"
   ]
  },
  {
   "cell_type": "code",
   "execution_count": 161,
   "metadata": {},
   "outputs": [],
   "source": [
    "missclassified_ids = ['CataID1121045042989', 'CataID1007074062606', 'CataID2013203017370', 'CataID1001128050211']\n",
    "for ix, _ in enumerate(missclassified_ids):\n",
    "    lc = lightcurve(missclassified_ids[ix])\n",
    "    plot_lightcurve(lc)\n",
    "    plt.savefig('./graphs/binary/nont_incorr_{}.png'.format(missclassified_ids[ix]))\n",
    "    plt.close()"
   ]
  },
  {
   "cell_type": "code",
   "execution_count": null,
   "metadata": {},
   "outputs": [],
   "source": []
  }
 ],
 "metadata": {
  "kernelspec": {
   "display_name": "Python 3",
   "language": "python",
   "name": "python3"
  },
  "language_info": {
   "codemirror_mode": {
    "name": "ipython",
    "version": 3
   },
   "file_extension": ".py",
   "mimetype": "text/x-python",
   "name": "python",
   "nbconvert_exporter": "python",
   "pygments_lexer": "ipython3",
   "version": "3.4.0"
  }
 },
 "nbformat": 4,
 "nbformat_minor": 2
}
