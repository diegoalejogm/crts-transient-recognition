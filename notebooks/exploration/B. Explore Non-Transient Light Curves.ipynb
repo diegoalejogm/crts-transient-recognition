{
 "cells": [
  {
   "cell_type": "code",
   "execution_count": 1,
   "metadata": {},
   "outputs": [],
   "source": [
    "DATA_PATH = '../../data/'\n",
    "LIGHTCURVES_PATH = DATA_PATH + 'lightcurves/'"
   ]
  },
  {
   "cell_type": "code",
   "execution_count": 2,
   "metadata": {},
   "outputs": [],
   "source": [
    "%matplotlib inline\n",
    "\n",
    "import matplotlib\n",
    "import numpy as np\n",
    "import matplotlib.pyplot as plt"
   ]
  },
  {
   "cell_type": "code",
   "execution_count": 3,
   "metadata": {},
   "outputs": [],
   "source": [
    "import pandas as pd\n",
    "import numpy as np"
   ]
  },
  {
   "cell_type": "markdown",
   "metadata": {},
   "source": [
    "Load transient catalinaID Catalogue"
   ]
  },
  {
   "cell_type": "code",
   "execution_count": 4,
   "metadata": {
    "scrolled": true
   },
   "outputs": [
    {
     "name": "stdout",
     "output_type": "stream",
     "text": [
      "(4280, 5)\n"
     ]
    }
   ],
   "source": [
    "df_out = pd.read_pickle('../../data/' + 'transient_catalinaIDs.pickle')\n",
    "print(df_out.shape)"
   ]
  },
  {
   "cell_type": "markdown",
   "metadata": {},
   "source": [
    "Load non-transient Light Curves"
   ]
  },
  {
   "cell_type": "code",
   "execution_count": 5,
   "metadata": {},
   "outputs": [
    {
     "name": "stdout",
     "output_type": "stream",
     "text": [
      "(16940,)\n"
     ]
    }
   ],
   "source": [
    "filename = 'nontransient_lightcurves.pickle'\n",
    "indir = LIGHTCURVES_PATH; filepath = indir + filename\n",
    "df_lcs = pd.read_pickle(filepath)\n",
    "df_lcs['CatalinaID'] = pd.to_numeric(df_lcs.ID.str[6:])\n",
    "print(df_lcs.ID.unique().shape)"
   ]
  },
  {
   "cell_type": "markdown",
   "metadata": {},
   "source": [
    "Check that nontransient Lightcurve IDs are not in the transients CatalinaIDs"
   ]
  },
  {
   "cell_type": "code",
   "execution_count": 6,
   "metadata": {},
   "outputs": [
    {
     "name": "stdout",
     "output_type": "stream",
     "text": [
      "Any exist: False\n"
     ]
    }
   ],
   "source": [
    "any_exist = False\n",
    "catalinaID_list = df_out.CatalinaID.unique()\n",
    "for lcs_id in df_lcs.CatalinaID.astype(np.int64).unique():\n",
    "    curr_exists = lcs_id in catalinaID_list\n",
    "    any_exist = any_exist or curr_exists\n",
    "print('Any exist:', str(any_exist))"
   ]
  },
  {
   "cell_type": "markdown",
   "metadata": {},
   "source": [
    "Describre non-transients observation count"
   ]
  },
  {
   "cell_type": "code",
   "execution_count": 7,
   "metadata": {},
   "outputs": [],
   "source": [
    "df_lcs_numobs = df_lcs.groupby('ID')['Mag'].count()"
   ]
  },
  {
   "cell_type": "code",
   "execution_count": 8,
   "metadata": {},
   "outputs": [
    {
     "data": {
      "text/plain": [
       "count    16940.000000\n",
       "mean       113.601476\n",
       "std        129.259273\n",
       "min          1.000000\n",
       "25%         16.000000\n",
       "50%         61.000000\n",
       "75%        176.000000\n",
       "max       1266.000000\n",
       "Name: Mag, dtype: float64"
      ]
     },
     "execution_count": 8,
     "metadata": {},
     "output_type": "execute_result"
    }
   ],
   "source": [
    "df_lcs_numobs.describe()"
   ]
  },
  {
   "cell_type": "markdown",
   "metadata": {},
   "source": [
    "Date of first observation"
   ]
  },
  {
   "cell_type": "code",
   "execution_count": 9,
   "metadata": {},
   "outputs": [
    {
     "data": {
      "text/plain": [
       "53464.153989999999"
      ]
     },
     "execution_count": 9,
     "metadata": {},
     "output_type": "execute_result"
    }
   ],
   "source": [
    "df_lcs.sort_values(['MJD'])['MJD'].iloc[0]"
   ]
  },
  {
   "cell_type": "markdown",
   "metadata": {},
   "source": [
    "Count number of objects with at least 5 observations"
   ]
  },
  {
   "cell_type": "code",
   "execution_count": 10,
   "metadata": {
    "scrolled": true
   },
   "outputs": [
    {
     "data": {
      "text/plain": [
       "15263"
      ]
     },
     "execution_count": 10,
     "metadata": {},
     "output_type": "execute_result"
    }
   ],
   "source": [
    "df_filtered = df_lcs.groupby('ID', as_index=False).count()\n",
    "df_filtered = df_filtered.rename(columns={'Mag':'ObsCount'})\n",
    "df_filtered = df_filtered[df_filtered.ObsCount >= 5]\n",
    "df_filtered.shape[0]"
   ]
  },
  {
   "cell_type": "markdown",
   "metadata": {},
   "source": [
    "Describe non-transients observation count (with observations >= 5)"
   ]
  },
  {
   "cell_type": "code",
   "execution_count": 11,
   "metadata": {},
   "outputs": [],
   "source": [
    "df_lcs_numobs_filtered = df_lcs[df_lcs.ID.isin(df_filtered.ID)].groupby('ID')['Mag'].count()"
   ]
  },
  {
   "cell_type": "code",
   "execution_count": 12,
   "metadata": {
    "scrolled": false
   },
   "outputs": [
    {
     "data": {
      "text/plain": [
       "count    15263.000000\n",
       "mean       125.816026\n",
       "std        130.524070\n",
       "min          5.000000\n",
       "25%         27.000000\n",
       "50%         75.000000\n",
       "75%        195.000000\n",
       "max       1266.000000\n",
       "Name: Mag, dtype: float64"
      ]
     },
     "execution_count": 12,
     "metadata": {},
     "output_type": "execute_result"
    }
   ],
   "source": [
    "df_lcs_numobs_filtered.describe()"
   ]
  },
  {
   "cell_type": "markdown",
   "metadata": {},
   "source": [
    "Count number of objects with at least 10 observations"
   ]
  },
  {
   "cell_type": "code",
   "execution_count": 13,
   "metadata": {
    "scrolled": true
   },
   "outputs": [
    {
     "data": {
      "text/plain": [
       "13913"
      ]
     },
     "execution_count": 13,
     "metadata": {},
     "output_type": "execute_result"
    }
   ],
   "source": [
    "df_filtered = df_lcs.groupby('ID', as_index=False).count()\n",
    "df_filtered = df_filtered.rename(columns={'Mag':'ObsCount'})\n",
    "df_filtered = df_filtered[df_filtered.ObsCount >= 10]\n",
    "df_filtered.shape[0]"
   ]
  },
  {
   "cell_type": "markdown",
   "metadata": {},
   "source": [
    "Describe non-transients observation count (with observations >= 10)"
   ]
  },
  {
   "cell_type": "code",
   "execution_count": 14,
   "metadata": {},
   "outputs": [],
   "source": [
    "df_lcs_numobs_filtered = df_lcs[df_lcs.ID.isin(df_filtered.ID)].groupby('ID')['Mag'].count()"
   ]
  },
  {
   "cell_type": "code",
   "execution_count": 15,
   "metadata": {},
   "outputs": [
    {
     "data": {
      "text/plain": [
       "count    13913.000000\n",
       "mean       137.361676\n",
       "std        131.081377\n",
       "min         10.000000\n",
       "25%         38.000000\n",
       "50%         88.000000\n",
       "75%        210.000000\n",
       "max       1266.000000\n",
       "Name: Mag, dtype: float64"
      ]
     },
     "execution_count": 15,
     "metadata": {},
     "output_type": "execute_result"
    }
   ],
   "source": [
    "df_lcs_numobs_filtered.describe()"
   ]
  },
  {
   "cell_type": "code",
   "execution_count": 67,
   "metadata": {},
   "outputs": [],
   "source": [
    "def plot_lightcurve(lc):\n",
    "    plot = lc.plot(x='MJD', y='Mag', marker='x', markeredgecolor='black', linestyle='None', legend=False, figsize=(7,7),ylim=(17,22))\n",
    "    plot.set_xlabel('Modified Julian Date')\n",
    "    plot.set_ylabel('Mag')"
   ]
  },
  {
   "cell_type": "code",
   "execution_count": 68,
   "metadata": {},
   "outputs": [],
   "source": [
    "df = df_lcs[df_lcs.ID.isin(df_lcs_numobs[((df_lcs_numobs <= 20) & (df_lcs_numobs >= 10))].index)]"
   ]
  },
  {
   "cell_type": "code",
   "execution_count": 109,
   "metadata": {},
   "outputs": [
    {
     "data": {
      "image/png": "[encoded data removed]",
      "text/plain": [
       "<matplotlib.figure.Figure at 0x7fc2db809b70>"
      ]
     },
     "metadata": {},
     "output_type": "display_data"
    }
   ],
   "source": [
    "objID = df.ID.unique()[79]\n",
    "obj_lightcurve = df[df.ID == objID]\n",
    "plot_lightcurve(obj_lightcurve)\n",
    "plt.savefig('nontransient_lightcurves.png')"
   ]
  },
  {
   "cell_type": "code",
   "execution_count": null,
   "metadata": {},
   "outputs": [],
   "source": []
  }
 ],
 "metadata": {
  "kernelspec": {
   "display_name": "Python 3",
   "language": "python",
   "name": "python3"
  },
  "language_info": {
   "codemirror_mode": {
    "name": "ipython",
    "version": 3
   },
   "file_extension": ".py",
   "mimetype": "text/x-python",
   "name": "python",
   "nbconvert_exporter": "python",
   "pygments_lexer": "ipython3",
   "version": "3.4.0"
  }
 },
 "nbformat": 4,
 "nbformat_minor": 2
}
