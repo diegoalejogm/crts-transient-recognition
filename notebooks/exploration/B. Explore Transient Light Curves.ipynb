{
 "cells": [
  {
   "cell_type": "code",
   "execution_count": 6,
   "metadata": {},
   "outputs": [],
   "source": [
    "DATA_PATH = '../../data/'\n",
    "LIGHTCURVES_PATH = DATA_PATH + 'lightcurves/'"
   ]
  },
  {
   "cell_type": "code",
   "execution_count": 7,
   "metadata": {},
   "outputs": [],
   "source": [
    "import pandas as pd"
   ]
  },
  {
   "cell_type": "markdown",
   "metadata": {},
   "source": [
    "Load Transient Catalog"
   ]
  },
  {
   "cell_type": "code",
   "execution_count": 8,
   "metadata": {},
   "outputs": [
    {
     "name": "stdout",
     "output_type": "stream",
     "text": [
      "(5539,)\n"
     ]
    }
   ],
   "source": [
    "filename = 'transient_catalog.pickle'\n",
    "indir = DATA_PATH; filepath = indir + filename\n",
    "df_cat = pd.read_pickle(filepath)\n",
    "print(df_cat.TransientID.unique().shape)"
   ]
  },
  {
   "cell_type": "markdown",
   "metadata": {},
   "source": [
    "Load Transient Lightcurves"
   ]
  },
  {
   "cell_type": "code",
   "execution_count": 10,
   "metadata": {},
   "outputs": [
    {
     "name": "stdout",
     "output_type": "stream",
     "text": [
      "(4984,)\n"
     ]
    }
   ],
   "source": [
    "filename = 'transient_lightcurves.pickle'\n",
    "indir = LIGHTCURVES_PATH; filepath = indir + filename\n",
    "df_lcs = pd.read_pickle(filepath)\n",
    "print(df_lcs.TransientID.unique().shape)"
   ]
  },
  {
   "cell_type": "markdown",
   "metadata": {},
   "source": [
    "Check that all Lightcurves TransientID's are in Catalog"
   ]
  },
  {
   "cell_type": "code",
   "execution_count": 11,
   "metadata": {},
   "outputs": [
    {
     "name": "stdout",
     "output_type": "stream",
     "text": [
      "All exist: True\n"
     ]
    }
   ],
   "source": [
    "all_exist = True\n",
    "transID_cat_list = df_cat.TransientID.unique()\n",
    "for lcs_id in df_lcs.TransientID.unique():\n",
    "    all_exist = all_exist and (lcs_id in transID_cat_list)\n",
    "print('All exist:', str(all_exist))"
   ]
  },
  {
   "cell_type": "markdown",
   "metadata": {},
   "source": [
    "Check that all Catalog TransientID's are in Lightcurves "
   ]
  },
  {
   "cell_type": "code",
   "execution_count": 12,
   "metadata": {},
   "outputs": [
    {
     "name": "stdout",
     "output_type": "stream",
     "text": [
      "All exist: False\n",
      "Missing: 555 Transients\n"
     ]
    }
   ],
   "source": [
    "all_exist = True\n",
    "lcs_missing_transientID_list = []\n",
    "transID_lcs_list = df_lcs.TransientID.unique()\n",
    "for cat_id in df_cat.TransientID.unique():\n",
    "    id_exists = (cat_id in transID_lcs_list)\n",
    "    all_exist = all_exist and id_exists\n",
    "    if not id_exists: lcs_missing_transientID_list.append(cat_id)\n",
    "print('All exist:', str(all_exist))\n",
    "print('Missing: {} Transients'.format(len(lcs_missing_transientID_list)))"
   ]
  },
  {
   "cell_type": "markdown",
   "metadata": {},
   "source": [
    "Merge dataframes with inner join"
   ]
  },
  {
   "cell_type": "code",
   "execution_count": 13,
   "metadata": {},
   "outputs": [],
   "source": [
    "df_merge = df_cat.copy().merge(df_lcs.copy().groupby('TransientID',as_index=False).count(), how='inner')\n",
    "df_merge.rename(columns={'Mag':'ObsCount'}, inplace=True)\n",
    "df_merge = df_merge[['TransientID', 'Classification', 'ObsCount']]"
   ]
  },
  {
   "cell_type": "code",
   "execution_count": 14,
   "metadata": {},
   "outputs": [
    {
     "name": "stdout",
     "output_type": "stream",
     "text": [
      "(4984, 3)\n"
     ]
    }
   ],
   "source": [
    "print(df_merge.shape)"
   ]
  },
  {
   "cell_type": "markdown",
   "metadata": {},
   "source": [
    "Top 10 count of transients by class"
   ]
  },
  {
   "cell_type": "code",
   "execution_count": 15,
   "metadata": {},
   "outputs": [
    {
     "data": {
      "text/html": [
       "<div>\n",
       "<style scoped>\n",
       "    .dataframe tbody tr th:only-of-type {\n",
       "        vertical-align: middle;\n",
       "    }\n",
       "\n",
       "    .dataframe tbody tr th {\n",
       "        vertical-align: top;\n",
       "    }\n",
       "\n",
       "    .dataframe thead th {\n",
       "        text-align: right;\n",
       "    }\n",
       "</style>\n",
       "<table border=\"1\" class=\"dataframe\">\n",
       "  <thead>\n",
       "    <tr style=\"text-align: right;\">\n",
       "      <th>Classification</th>\n",
       "      <th>SN</th>\n",
       "      <th>CV</th>\n",
       "      <th>HPM</th>\n",
       "      <th>AGN</th>\n",
       "      <th>SN?</th>\n",
       "      <th>Blazar</th>\n",
       "      <th>Flare</th>\n",
       "      <th>Unknown</th>\n",
       "      <th>AGN?</th>\n",
       "      <th>CV?</th>\n",
       "    </tr>\n",
       "  </thead>\n",
       "  <tbody>\n",
       "    <tr>\n",
       "      <th>ObjCount</th>\n",
       "      <td>1539</td>\n",
       "      <td>943</td>\n",
       "      <td>436</td>\n",
       "      <td>429</td>\n",
       "      <td>294</td>\n",
       "      <td>239</td>\n",
       "      <td>215</td>\n",
       "      <td>188</td>\n",
       "      <td>133</td>\n",
       "      <td>68</td>\n",
       "    </tr>\n",
       "  </tbody>\n",
       "</table>\n",
       "</div>"
      ],
      "text/plain": [
       "Classification    SN   CV  HPM  AGN  SN?  Blazar  Flare  Unknown  AGN?  CV?\n",
       "ObjCount        1539  943  436  429  294     239    215      188   133   68"
      ]
     },
     "execution_count": 15,
     "metadata": {},
     "output_type": "execute_result"
    }
   ],
   "source": [
    "df = df_merge[['Classification','ObsCount']].groupby('Classification').count()\n",
    "df = df.rename(columns={'ObsCount':'ObjCount'}).sort_values('ObjCount', ascending=False)\n",
    "df.head(10).transpose()"
   ]
  },
  {
   "cell_type": "markdown",
   "metadata": {},
   "source": [
    "Describe transients observation count"
   ]
  },
  {
   "cell_type": "code",
   "execution_count": 16,
   "metadata": {},
   "outputs": [
    {
     "data": {
      "text/plain": [
       "53464.153988194696"
      ]
     },
     "execution_count": 16,
     "metadata": {},
     "output_type": "execute_result"
    }
   ],
   "source": [
    "df_lcs.sort_values(['MJD'])['MJD'].iloc[0]"
   ]
  },
  {
   "cell_type": "code",
   "execution_count": 17,
   "metadata": {},
   "outputs": [
    {
     "data": {
      "text/html": [
       "<div>\n",
       "<style scoped>\n",
       "    .dataframe tbody tr th:only-of-type {\n",
       "        vertical-align: middle;\n",
       "    }\n",
       "\n",
       "    .dataframe tbody tr th {\n",
       "        vertical-align: top;\n",
       "    }\n",
       "\n",
       "    .dataframe thead th {\n",
       "        text-align: right;\n",
       "    }\n",
       "</style>\n",
       "<table border=\"1\" class=\"dataframe\">\n",
       "  <thead>\n",
       "    <tr style=\"text-align: right;\">\n",
       "      <th></th>\n",
       "      <th>Mag</th>\n",
       "      <th>Magerr</th>\n",
       "      <th>MJD</th>\n",
       "    </tr>\n",
       "  </thead>\n",
       "  <tbody>\n",
       "    <tr>\n",
       "      <th>count</th>\n",
       "      <td>4984.000000</td>\n",
       "      <td>4984.000000</td>\n",
       "      <td>4984.000000</td>\n",
       "    </tr>\n",
       "    <tr>\n",
       "      <th>mean</th>\n",
       "      <td>90.584671</td>\n",
       "      <td>90.584671</td>\n",
       "      <td>90.584671</td>\n",
       "    </tr>\n",
       "    <tr>\n",
       "      <th>std</th>\n",
       "      <td>112.330606</td>\n",
       "      <td>112.330606</td>\n",
       "      <td>112.330606</td>\n",
       "    </tr>\n",
       "    <tr>\n",
       "      <th>min</th>\n",
       "      <td>1.000000</td>\n",
       "      <td>1.000000</td>\n",
       "      <td>1.000000</td>\n",
       "    </tr>\n",
       "    <tr>\n",
       "      <th>25%</th>\n",
       "      <td>9.000000</td>\n",
       "      <td>9.000000</td>\n",
       "      <td>9.000000</td>\n",
       "    </tr>\n",
       "    <tr>\n",
       "      <th>50%</th>\n",
       "      <td>35.000000</td>\n",
       "      <td>35.000000</td>\n",
       "      <td>35.000000</td>\n",
       "    </tr>\n",
       "    <tr>\n",
       "      <th>75%</th>\n",
       "      <td>140.000000</td>\n",
       "      <td>140.000000</td>\n",
       "      <td>140.000000</td>\n",
       "    </tr>\n",
       "    <tr>\n",
       "      <th>max</th>\n",
       "      <td>880.000000</td>\n",
       "      <td>880.000000</td>\n",
       "      <td>880.000000</td>\n",
       "    </tr>\n",
       "  </tbody>\n",
       "</table>\n",
       "</div>"
      ],
      "text/plain": [
       "               Mag       Magerr          MJD\n",
       "count  4984.000000  4984.000000  4984.000000\n",
       "mean     90.584671    90.584671    90.584671\n",
       "std     112.330606   112.330606   112.330606\n",
       "min       1.000000     1.000000     1.000000\n",
       "25%       9.000000     9.000000     9.000000\n",
       "50%      35.000000    35.000000    35.000000\n",
       "75%     140.000000   140.000000   140.000000\n",
       "max     880.000000   880.000000   880.000000"
      ]
     },
     "execution_count": 17,
     "metadata": {},
     "output_type": "execute_result"
    }
   ],
   "source": [
    "df_lcs.groupby('TransientID').count().describe()"
   ]
  },
  {
   "cell_type": "markdown",
   "metadata": {},
   "source": [
    "Count number of objects with at least 5 observations"
   ]
  },
  {
   "cell_type": "code",
   "execution_count": 18,
   "metadata": {
    "scrolled": true
   },
   "outputs": [
    {
     "data": {
      "text/plain": [
       "4384"
      ]
     },
     "execution_count": 18,
     "metadata": {},
     "output_type": "execute_result"
    }
   ],
   "source": [
    "df_merge_filtered = df_merge[df_merge.ObsCount >= 5]\n",
    "df_merge_filtered.shape[0]"
   ]
  },
  {
   "cell_type": "markdown",
   "metadata": {},
   "source": [
    "Top 10 count of transients by class (with at least 5 observations)"
   ]
  },
  {
   "cell_type": "code",
   "execution_count": 19,
   "metadata": {},
   "outputs": [
    {
     "data": {
      "text/html": [
       "<div>\n",
       "<style scoped>\n",
       "    .dataframe tbody tr th:only-of-type {\n",
       "        vertical-align: middle;\n",
       "    }\n",
       "\n",
       "    .dataframe tbody tr th {\n",
       "        vertical-align: top;\n",
       "    }\n",
       "\n",
       "    .dataframe thead th {\n",
       "        text-align: right;\n",
       "    }\n",
       "</style>\n",
       "<table border=\"1\" class=\"dataframe\">\n",
       "  <thead>\n",
       "    <tr style=\"text-align: right;\">\n",
       "      <th>Classification</th>\n",
       "      <th>SN</th>\n",
       "      <th>CV</th>\n",
       "      <th>AGN</th>\n",
       "      <th>HPM</th>\n",
       "      <th>SN?</th>\n",
       "      <th>Blazar</th>\n",
       "      <th>Flare</th>\n",
       "      <th>AGN?</th>\n",
       "      <th>Unknown</th>\n",
       "      <th>CV?</th>\n",
       "      <th>Var</th>\n",
       "      <th>Ast?</th>\n",
       "      <th>SN/CV</th>\n",
       "      <th>SN/AGN</th>\n",
       "      <th>YSO</th>\n",
       "      <th>Mira</th>\n",
       "      <th>Blazar?</th>\n",
       "      <th>Flare?</th>\n",
       "      <th>Var?</th>\n",
       "      <th>Ast</th>\n",
       "    </tr>\n",
       "  </thead>\n",
       "  <tbody>\n",
       "    <tr>\n",
       "      <th>ObjCount</th>\n",
       "      <td>1295</td>\n",
       "      <td>862</td>\n",
       "      <td>427</td>\n",
       "      <td>412</td>\n",
       "      <td>239</td>\n",
       "      <td>237</td>\n",
       "      <td>207</td>\n",
       "      <td>132</td>\n",
       "      <td>114</td>\n",
       "      <td>55</td>\n",
       "      <td>47</td>\n",
       "      <td>31</td>\n",
       "      <td>28</td>\n",
       "      <td>23</td>\n",
       "      <td>21</td>\n",
       "      <td>20</td>\n",
       "      <td>19</td>\n",
       "      <td>18</td>\n",
       "      <td>12</td>\n",
       "      <td>12</td>\n",
       "    </tr>\n",
       "  </tbody>\n",
       "</table>\n",
       "</div>"
      ],
      "text/plain": [
       "Classification    SN   CV  AGN  HPM  SN?  Blazar  Flare  AGN?  Unknown  CV?  \\\n",
       "ObjCount        1295  862  427  412  239     237    207   132      114   55   \n",
       "\n",
       "Classification  Var  Ast?  SN/CV  SN/AGN  YSO  Mira  Blazar?  Flare?  Var?  \\\n",
       "ObjCount         47    31     28      23   21    20       19      18    12   \n",
       "\n",
       "Classification  Ast  \n",
       "ObjCount         12  "
      ]
     },
     "execution_count": 19,
     "metadata": {},
     "output_type": "execute_result"
    }
   ],
   "source": [
    "df = df_merge_filtered[['Classification','ObsCount']].groupby('Classification').count()\n",
    "df = df.rename(columns={'ObsCount':'ObjCount'}).sort_values('ObjCount', ascending=False)\n",
    "df.head(20).transpose()"
   ]
  },
  {
   "cell_type": "markdown",
   "metadata": {},
   "source": [
    "Describe observation count for transients with at least 5 observations"
   ]
  },
  {
   "cell_type": "code",
   "execution_count": 20,
   "metadata": {},
   "outputs": [
    {
     "data": {
      "text/html": [
       "<div>\n",
       "<style scoped>\n",
       "    .dataframe tbody tr th:only-of-type {\n",
       "        vertical-align: middle;\n",
       "    }\n",
       "\n",
       "    .dataframe tbody tr th {\n",
       "        vertical-align: top;\n",
       "    }\n",
       "\n",
       "    .dataframe thead th {\n",
       "        text-align: right;\n",
       "    }\n",
       "</style>\n",
       "<table border=\"1\" class=\"dataframe\">\n",
       "  <thead>\n",
       "    <tr style=\"text-align: right;\">\n",
       "      <th></th>\n",
       "      <th>Mag</th>\n",
       "      <th>Magerr</th>\n",
       "      <th>MJD</th>\n",
       "    </tr>\n",
       "  </thead>\n",
       "  <tbody>\n",
       "    <tr>\n",
       "      <th>count</th>\n",
       "      <td>4384.000000</td>\n",
       "      <td>4384.000000</td>\n",
       "      <td>4384.000000</td>\n",
       "    </tr>\n",
       "    <tr>\n",
       "      <th>mean</th>\n",
       "      <td>102.623631</td>\n",
       "      <td>102.623631</td>\n",
       "      <td>102.623631</td>\n",
       "    </tr>\n",
       "    <tr>\n",
       "      <th>std</th>\n",
       "      <td>114.634489</td>\n",
       "      <td>114.634489</td>\n",
       "      <td>114.634489</td>\n",
       "    </tr>\n",
       "    <tr>\n",
       "      <th>min</th>\n",
       "      <td>5.000000</td>\n",
       "      <td>5.000000</td>\n",
       "      <td>5.000000</td>\n",
       "    </tr>\n",
       "    <tr>\n",
       "      <th>25%</th>\n",
       "      <td>15.000000</td>\n",
       "      <td>15.000000</td>\n",
       "      <td>15.000000</td>\n",
       "    </tr>\n",
       "    <tr>\n",
       "      <th>50%</th>\n",
       "      <td>48.000000</td>\n",
       "      <td>48.000000</td>\n",
       "      <td>48.000000</td>\n",
       "    </tr>\n",
       "    <tr>\n",
       "      <th>75%</th>\n",
       "      <td>163.250000</td>\n",
       "      <td>163.250000</td>\n",
       "      <td>163.250000</td>\n",
       "    </tr>\n",
       "    <tr>\n",
       "      <th>max</th>\n",
       "      <td>880.000000</td>\n",
       "      <td>880.000000</td>\n",
       "      <td>880.000000</td>\n",
       "    </tr>\n",
       "  </tbody>\n",
       "</table>\n",
       "</div>"
      ],
      "text/plain": [
       "               Mag       Magerr          MJD\n",
       "count  4384.000000  4384.000000  4384.000000\n",
       "mean    102.623631   102.623631   102.623631\n",
       "std     114.634489   114.634489   114.634489\n",
       "min       5.000000     5.000000     5.000000\n",
       "25%      15.000000    15.000000    15.000000\n",
       "50%      48.000000    48.000000    48.000000\n",
       "75%     163.250000   163.250000   163.250000\n",
       "max     880.000000   880.000000   880.000000"
      ]
     },
     "execution_count": 20,
     "metadata": {},
     "output_type": "execute_result"
    }
   ],
   "source": [
    "df_lcs[df_lcs.TransientID.isin(df_merge_filtered.TransientID)].groupby('TransientID').count().describe()"
   ]
  }
 ],
 "metadata": {
  "kernelspec": {
   "display_name": "Python 3",
   "language": "python",
   "name": "python3"
  },
  "language_info": {
   "codemirror_mode": {
    "name": "ipython",
    "version": 3
   },
   "file_extension": ".py",
   "mimetype": "text/x-python",
   "name": "python",
   "nbconvert_exporter": "python",
   "pygments_lexer": "ipython3",
   "version": "3.4.0"
  }
 },
 "nbformat": 4,
 "nbformat_minor": 2
}
