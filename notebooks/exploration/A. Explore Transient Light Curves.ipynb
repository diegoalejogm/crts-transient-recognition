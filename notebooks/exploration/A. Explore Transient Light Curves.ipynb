{
 "cells": [
  {
   "cell_type": "code",
   "execution_count": 46,
   "metadata": {},
   "outputs": [],
   "source": [
    "DATA_PATH = '../../data/'\n",
    "LIGHTCURVES_PATH = DATA_PATH + 'lightcurves/'"
   ]
  },
  {
   "cell_type": "code",
   "execution_count": 47,
   "metadata": {},
   "outputs": [],
   "source": [
    "import pandas as pd"
   ]
  },
  {
   "cell_type": "markdown",
   "metadata": {},
   "source": [
    "Load Transient Catalog"
   ]
  },
  {
   "cell_type": "code",
   "execution_count": 48,
   "metadata": {},
   "outputs": [
    {
     "name": "stdout",
     "output_type": "stream",
     "text": [
      "(5539,)\n"
     ]
    }
   ],
   "source": [
    "filename = 'transient_catalog.pickle'\n",
    "indir = DATA_PATH; filepath = indir + filename\n",
    "df_cat = pd.read_pickle(filepath)\n",
    "df_cat = pd.read_pickle(filepath)\n",
    "print(df_cat.TransientID.unique().shape)"
   ]
  },
  {
   "cell_type": "code",
   "execution_count": 49,
   "metadata": {
    "scrolled": false
   },
   "outputs": [
    {
     "data": {
      "text/html": [
       "<div>\n",
       "<style scoped>\n",
       "    .dataframe tbody tr th:only-of-type {\n",
       "        vertical-align: middle;\n",
       "    }\n",
       "\n",
       "    .dataframe tbody tr th {\n",
       "        vertical-align: top;\n",
       "    }\n",
       "\n",
       "    .dataframe thead th {\n",
       "        text-align: right;\n",
       "    }\n",
       "</style>\n",
       "<table border=\"1\" class=\"dataframe\">\n",
       "  <thead>\n",
       "    <tr style=\"text-align: right;\">\n",
       "      <th></th>\n",
       "      <th>Classification</th>\n",
       "      <th>TransientID</th>\n",
       "    </tr>\n",
       "  </thead>\n",
       "  <tbody>\n",
       "    <tr>\n",
       "      <th>0</th>\n",
       "      <td>Flare</td>\n",
       "      <td>1611101400424116462</td>\n",
       "    </tr>\n",
       "    <tr>\n",
       "      <th>1</th>\n",
       "      <td>HPM</td>\n",
       "      <td>1611101210274176502</td>\n",
       "    </tr>\n",
       "    <tr>\n",
       "      <th>2</th>\n",
       "      <td>HPM</td>\n",
       "      <td>1611101150154137989</td>\n",
       "    </tr>\n",
       "    <tr>\n",
       "      <th>3</th>\n",
       "      <td>HPM</td>\n",
       "      <td>1611091630244128695</td>\n",
       "    </tr>\n",
       "    <tr>\n",
       "      <th>4</th>\n",
       "      <td>CV</td>\n",
       "      <td>1611091600294129774</td>\n",
       "    </tr>\n",
       "  </tbody>\n",
       "</table>\n",
       "</div>"
      ],
      "text/plain": [
       "  Classification          TransientID\n",
       "0          Flare  1611101400424116462\n",
       "1            HPM  1611101210274176502\n",
       "2            HPM  1611101150154137989\n",
       "3            HPM  1611091630244128695\n",
       "4             CV  1611091600294129774"
      ]
     },
     "execution_count": 49,
     "metadata": {},
     "output_type": "execute_result"
    }
   ],
   "source": [
    "df_cat.head()"
   ]
  },
  {
   "cell_type": "code",
   "execution_count": 50,
   "metadata": {},
   "outputs": [
    {
     "data": {
      "text/html": [
       "<div>\n",
       "<style scoped>\n",
       "    .dataframe tbody tr th:only-of-type {\n",
       "        vertical-align: middle;\n",
       "    }\n",
       "\n",
       "    .dataframe tbody tr th {\n",
       "        vertical-align: top;\n",
       "    }\n",
       "\n",
       "    .dataframe thead th {\n",
       "        text-align: right;\n",
       "    }\n",
       "</style>\n",
       "<table border=\"1\" class=\"dataframe\">\n",
       "  <thead>\n",
       "    <tr style=\"text-align: right;\">\n",
       "      <th></th>\n",
       "      <th>Classification</th>\n",
       "      <th>TransientID</th>\n",
       "    </tr>\n",
       "  </thead>\n",
       "  <tbody>\n",
       "    <tr>\n",
       "      <th>2013</th>\n",
       "      <td>HPM</td>\n",
       "      <td>1306151290014118570</td>\n",
       "    </tr>\n",
       "  </tbody>\n",
       "</table>\n",
       "</div>"
      ],
      "text/plain": [
       "     Classification          TransientID\n",
       "2013            HPM  1306151290014118570"
      ]
     },
     "execution_count": 50,
     "metadata": {},
     "output_type": "execute_result"
    }
   ],
   "source": [
    "df_cat[df_cat.TransientID==1306151290014118570]"
   ]
  },
  {
   "cell_type": "markdown",
   "metadata": {},
   "source": [
    "Load Transient Lightcurves"
   ]
  },
  {
   "cell_type": "code",
   "execution_count": 62,
   "metadata": {},
   "outputs": [
    {
     "name": "stdout",
     "output_type": "stream",
     "text": [
      "(4984,)\n"
     ]
    }
   ],
   "source": [
    "filename = 'transient_lightcurves.pickle'\n",
    "indir = LIGHTCURVES_PATH; filepath = indir + filename\n",
    "df_lcs = pd.read_pickle(filepath)\n",
    "df_lcs['TransientID'] = pd.to_numeric(df_lcs['TransientID'].str[6:])\n",
    "print(df_lcs.TransientID.unique().shape)"
   ]
  },
  {
   "cell_type": "markdown",
   "metadata": {},
   "source": [
    "Check that all Lightcurves TransientID's are in Catalog"
   ]
  },
  {
   "cell_type": "code",
   "execution_count": 63,
   "metadata": {},
   "outputs": [
    {
     "name": "stdout",
     "output_type": "stream",
     "text": [
      "All exist: True\n"
     ]
    }
   ],
   "source": [
    "all_exist = True\n",
    "transID_cat_list = df_cat.TransientID.unique()\n",
    "for lcs_id in df_lcs.TransientID.unique():\n",
    "    all_exist = all_exist and (lcs_id in transID_cat_list)\n",
    "print('All exist:', str(all_exist))"
   ]
  },
  {
   "cell_type": "markdown",
   "metadata": {},
   "source": [
    "Check that all Catalog TransientID's are in Lightcurves "
   ]
  },
  {
   "cell_type": "code",
   "execution_count": 64,
   "metadata": {},
   "outputs": [
    {
     "name": "stdout",
     "output_type": "stream",
     "text": [
      "All exist: False\n",
      "Missing: 555 Transients\n"
     ]
    }
   ],
   "source": [
    "all_exist = True\n",
    "lcs_missing_transientID_list = []\n",
    "transID_lcs_list = df_lcs.TransientID.unique()\n",
    "for cat_id in df_cat.TransientID.unique():\n",
    "    id_exists = (cat_id in transID_lcs_list)\n",
    "    all_exist = all_exist and id_exists\n",
    "    if not id_exists: lcs_missing_transientID_list.append(cat_id)\n",
    "print('All exist:', str(all_exist))\n",
    "print('Missing: {} Transients'.format(len(lcs_missing_transientID_list)))"
   ]
  },
  {
   "cell_type": "markdown",
   "metadata": {},
   "source": [
    "Merge dataframes with inner join"
   ]
  },
  {
   "cell_type": "code",
   "execution_count": 65,
   "metadata": {},
   "outputs": [],
   "source": [
    "df_merge = df_cat.copy().merge(df_lcs.copy().groupby('TransientID',as_index=False).count(), how='inner')\n",
    "df_merge.rename(columns={'Mag':'ObsCount'}, inplace=True)\n",
    "df_merge = df_merge[['TransientID', 'Classification', 'ObsCount']]"
   ]
  },
  {
   "cell_type": "code",
   "execution_count": 66,
   "metadata": {},
   "outputs": [
    {
     "name": "stdout",
     "output_type": "stream",
     "text": [
      "(4984, 3)\n"
     ]
    }
   ],
   "source": [
    "print(df_merge.shape)"
   ]
  },
  {
   "cell_type": "markdown",
   "metadata": {},
   "source": [
    "Top 10 count of transients by class"
   ]
  },
  {
   "cell_type": "code",
   "execution_count": 67,
   "metadata": {},
   "outputs": [
    {
     "data": {
      "text/html": [
       "<div>\n",
       "<style scoped>\n",
       "    .dataframe tbody tr th:only-of-type {\n",
       "        vertical-align: middle;\n",
       "    }\n",
       "\n",
       "    .dataframe tbody tr th {\n",
       "        vertical-align: top;\n",
       "    }\n",
       "\n",
       "    .dataframe thead th {\n",
       "        text-align: right;\n",
       "    }\n",
       "</style>\n",
       "<table border=\"1\" class=\"dataframe\">\n",
       "  <thead>\n",
       "    <tr style=\"text-align: right;\">\n",
       "      <th>Classification</th>\n",
       "      <th>SN</th>\n",
       "      <th>CV</th>\n",
       "      <th>HPM</th>\n",
       "      <th>AGN</th>\n",
       "      <th>SN?</th>\n",
       "      <th>Blazar</th>\n",
       "      <th>Flare</th>\n",
       "      <th>Unknown</th>\n",
       "      <th>AGN?</th>\n",
       "      <th>CV?</th>\n",
       "    </tr>\n",
       "  </thead>\n",
       "  <tbody>\n",
       "    <tr>\n",
       "      <th>ObjCount</th>\n",
       "      <td>1539</td>\n",
       "      <td>943</td>\n",
       "      <td>436</td>\n",
       "      <td>429</td>\n",
       "      <td>294</td>\n",
       "      <td>239</td>\n",
       "      <td>215</td>\n",
       "      <td>188</td>\n",
       "      <td>133</td>\n",
       "      <td>68</td>\n",
       "    </tr>\n",
       "  </tbody>\n",
       "</table>\n",
       "</div>"
      ],
      "text/plain": [
       "Classification    SN   CV  HPM  AGN  SN?  Blazar  Flare  Unknown  AGN?  CV?\n",
       "ObjCount        1539  943  436  429  294     239    215      188   133   68"
      ]
     },
     "execution_count": 67,
     "metadata": {},
     "output_type": "execute_result"
    }
   ],
   "source": [
    "df = df_merge[['Classification','ObsCount']].groupby('Classification').count()\n",
    "df = df.rename(columns={'ObsCount':'ObjCount'}).sort_values('ObjCount', ascending=False)\n",
    "df.head(10).transpose()"
   ]
  },
  {
   "cell_type": "markdown",
   "metadata": {},
   "source": [
    "Describe transients observation count"
   ]
  },
  {
   "cell_type": "code",
   "execution_count": 68,
   "metadata": {},
   "outputs": [
    {
     "data": {
      "text/plain": [
       "53464.153988194696"
      ]
     },
     "execution_count": 68,
     "metadata": {},
     "output_type": "execute_result"
    }
   ],
   "source": [
    "df_lcs.sort_values(['MJD'])['MJD'].iloc[0]"
   ]
  },
  {
   "cell_type": "code",
   "execution_count": 69,
   "metadata": {},
   "outputs": [
    {
     "data": {
      "text/html": [
       "<div>\n",
       "<style scoped>\n",
       "    .dataframe tbody tr th:only-of-type {\n",
       "        vertical-align: middle;\n",
       "    }\n",
       "\n",
       "    .dataframe tbody tr th {\n",
       "        vertical-align: top;\n",
       "    }\n",
       "\n",
       "    .dataframe thead th {\n",
       "        text-align: right;\n",
       "    }\n",
       "</style>\n",
       "<table border=\"1\" class=\"dataframe\">\n",
       "  <thead>\n",
       "    <tr style=\"text-align: right;\">\n",
       "      <th></th>\n",
       "      <th>Mag</th>\n",
       "      <th>Magerr</th>\n",
       "      <th>MJD</th>\n",
       "    </tr>\n",
       "  </thead>\n",
       "  <tbody>\n",
       "    <tr>\n",
       "      <th>count</th>\n",
       "      <td>4984.000000</td>\n",
       "      <td>4984.000000</td>\n",
       "      <td>4984.000000</td>\n",
       "    </tr>\n",
       "    <tr>\n",
       "      <th>mean</th>\n",
       "      <td>90.584671</td>\n",
       "      <td>90.584671</td>\n",
       "      <td>90.584671</td>\n",
       "    </tr>\n",
       "    <tr>\n",
       "      <th>std</th>\n",
       "      <td>112.330606</td>\n",
       "      <td>112.330606</td>\n",
       "      <td>112.330606</td>\n",
       "    </tr>\n",
       "    <tr>\n",
       "      <th>min</th>\n",
       "      <td>1.000000</td>\n",
       "      <td>1.000000</td>\n",
       "      <td>1.000000</td>\n",
       "    </tr>\n",
       "    <tr>\n",
       "      <th>25%</th>\n",
       "      <td>9.000000</td>\n",
       "      <td>9.000000</td>\n",
       "      <td>9.000000</td>\n",
       "    </tr>\n",
       "    <tr>\n",
       "      <th>50%</th>\n",
       "      <td>35.000000</td>\n",
       "      <td>35.000000</td>\n",
       "      <td>35.000000</td>\n",
       "    </tr>\n",
       "    <tr>\n",
       "      <th>75%</th>\n",
       "      <td>140.000000</td>\n",
       "      <td>140.000000</td>\n",
       "      <td>140.000000</td>\n",
       "    </tr>\n",
       "    <tr>\n",
       "      <th>max</th>\n",
       "      <td>880.000000</td>\n",
       "      <td>880.000000</td>\n",
       "      <td>880.000000</td>\n",
       "    </tr>\n",
       "  </tbody>\n",
       "</table>\n",
       "</div>"
      ],
      "text/plain": [
       "               Mag       Magerr          MJD\n",
       "count  4984.000000  4984.000000  4984.000000\n",
       "mean     90.584671    90.584671    90.584671\n",
       "std     112.330606   112.330606   112.330606\n",
       "min       1.000000     1.000000     1.000000\n",
       "25%       9.000000     9.000000     9.000000\n",
       "50%      35.000000    35.000000    35.000000\n",
       "75%     140.000000   140.000000   140.000000\n",
       "max     880.000000   880.000000   880.000000"
      ]
     },
     "execution_count": 69,
     "metadata": {},
     "output_type": "execute_result"
    }
   ],
   "source": [
    "df_lcs.groupby('TransientID').count().describe()"
   ]
  },
  {
   "cell_type": "markdown",
   "metadata": {},
   "source": [
    "Count number of objects with at least 5 observations"
   ]
  },
  {
   "cell_type": "code",
   "execution_count": 70,
   "metadata": {
    "scrolled": true
   },
   "outputs": [
    {
     "data": {
      "text/plain": [
       "4384"
      ]
     },
     "execution_count": 70,
     "metadata": {},
     "output_type": "execute_result"
    }
   ],
   "source": [
    "df_merge_filtered = df_merge[df_merge.ObsCount >= 5]\n",
    "df_merge_filtered.shape[0]"
   ]
  },
  {
   "cell_type": "markdown",
   "metadata": {},
   "source": [
    "Top 10 count of transients by class (with at least 5 observations)"
   ]
  },
  {
   "cell_type": "code",
   "execution_count": 71,
   "metadata": {},
   "outputs": [
    {
     "data": {
      "text/html": [
       "<div>\n",
       "<style scoped>\n",
       "    .dataframe tbody tr th:only-of-type {\n",
       "        vertical-align: middle;\n",
       "    }\n",
       "\n",
       "    .dataframe tbody tr th {\n",
       "        vertical-align: top;\n",
       "    }\n",
       "\n",
       "    .dataframe thead th {\n",
       "        text-align: right;\n",
       "    }\n",
       "</style>\n",
       "<table border=\"1\" class=\"dataframe\">\n",
       "  <thead>\n",
       "    <tr style=\"text-align: right;\">\n",
       "      <th>Classification</th>\n",
       "      <th>SN</th>\n",
       "      <th>CV</th>\n",
       "      <th>AGN</th>\n",
       "      <th>HPM</th>\n",
       "      <th>SN?</th>\n",
       "      <th>Blazar</th>\n",
       "      <th>Flare</th>\n",
       "      <th>AGN?</th>\n",
       "      <th>Unknown</th>\n",
       "      <th>CV?</th>\n",
       "      <th>Var</th>\n",
       "      <th>Ast?</th>\n",
       "      <th>SN/CV</th>\n",
       "      <th>SN/AGN</th>\n",
       "      <th>YSO</th>\n",
       "      <th>Mira</th>\n",
       "      <th>Blazar?</th>\n",
       "      <th>Flare?</th>\n",
       "      <th>Var?</th>\n",
       "      <th>Ast</th>\n",
       "    </tr>\n",
       "  </thead>\n",
       "  <tbody>\n",
       "    <tr>\n",
       "      <th>ObjCount</th>\n",
       "      <td>1295</td>\n",
       "      <td>862</td>\n",
       "      <td>427</td>\n",
       "      <td>412</td>\n",
       "      <td>239</td>\n",
       "      <td>237</td>\n",
       "      <td>207</td>\n",
       "      <td>132</td>\n",
       "      <td>114</td>\n",
       "      <td>55</td>\n",
       "      <td>47</td>\n",
       "      <td>31</td>\n",
       "      <td>28</td>\n",
       "      <td>23</td>\n",
       "      <td>21</td>\n",
       "      <td>20</td>\n",
       "      <td>19</td>\n",
       "      <td>18</td>\n",
       "      <td>12</td>\n",
       "      <td>12</td>\n",
       "    </tr>\n",
       "  </tbody>\n",
       "</table>\n",
       "</div>"
      ],
      "text/plain": [
       "Classification    SN   CV  AGN  HPM  SN?  Blazar  Flare  AGN?  Unknown  CV?  \\\n",
       "ObjCount        1295  862  427  412  239     237    207   132      114   55   \n",
       "\n",
       "Classification  Var  Ast?  SN/CV  SN/AGN  YSO  Mira  Blazar?  Flare?  Var?  \\\n",
       "ObjCount         47    31     28      23   21    20       19      18    12   \n",
       "\n",
       "Classification  Ast  \n",
       "ObjCount         12  "
      ]
     },
     "execution_count": 71,
     "metadata": {},
     "output_type": "execute_result"
    }
   ],
   "source": [
    "df = df_merge_filtered[['Classification','ObsCount']].groupby('Classification').count()\n",
    "df = df.rename(columns={'ObsCount':'ObjCount'}).sort_values('ObjCount', ascending=False)\n",
    "df.head(20).transpose()"
   ]
  },
  {
   "cell_type": "markdown",
   "metadata": {},
   "source": [
    "Describe observation count for transients with at least 5 observations"
   ]
  },
  {
   "cell_type": "code",
   "execution_count": 72,
   "metadata": {
    "scrolled": true
   },
   "outputs": [
    {
     "data": {
      "text/html": [
       "<div>\n",
       "<style scoped>\n",
       "    .dataframe tbody tr th:only-of-type {\n",
       "        vertical-align: middle;\n",
       "    }\n",
       "\n",
       "    .dataframe tbody tr th {\n",
       "        vertical-align: top;\n",
       "    }\n",
       "\n",
       "    .dataframe thead th {\n",
       "        text-align: right;\n",
       "    }\n",
       "</style>\n",
       "<table border=\"1\" class=\"dataframe\">\n",
       "  <thead>\n",
       "    <tr style=\"text-align: right;\">\n",
       "      <th></th>\n",
       "      <th>Mag</th>\n",
       "      <th>Magerr</th>\n",
       "      <th>MJD</th>\n",
       "    </tr>\n",
       "  </thead>\n",
       "  <tbody>\n",
       "    <tr>\n",
       "      <th>count</th>\n",
       "      <td>4384.000000</td>\n",
       "      <td>4384.000000</td>\n",
       "      <td>4384.000000</td>\n",
       "    </tr>\n",
       "    <tr>\n",
       "      <th>mean</th>\n",
       "      <td>102.623631</td>\n",
       "      <td>102.623631</td>\n",
       "      <td>102.623631</td>\n",
       "    </tr>\n",
       "    <tr>\n",
       "      <th>std</th>\n",
       "      <td>114.634489</td>\n",
       "      <td>114.634489</td>\n",
       "      <td>114.634489</td>\n",
       "    </tr>\n",
       "    <tr>\n",
       "      <th>min</th>\n",
       "      <td>5.000000</td>\n",
       "      <td>5.000000</td>\n",
       "      <td>5.000000</td>\n",
       "    </tr>\n",
       "    <tr>\n",
       "      <th>25%</th>\n",
       "      <td>15.000000</td>\n",
       "      <td>15.000000</td>\n",
       "      <td>15.000000</td>\n",
       "    </tr>\n",
       "    <tr>\n",
       "      <th>50%</th>\n",
       "      <td>48.000000</td>\n",
       "      <td>48.000000</td>\n",
       "      <td>48.000000</td>\n",
       "    </tr>\n",
       "    <tr>\n",
       "      <th>75%</th>\n",
       "      <td>163.250000</td>\n",
       "      <td>163.250000</td>\n",
       "      <td>163.250000</td>\n",
       "    </tr>\n",
       "    <tr>\n",
       "      <th>max</th>\n",
       "      <td>880.000000</td>\n",
       "      <td>880.000000</td>\n",
       "      <td>880.000000</td>\n",
       "    </tr>\n",
       "  </tbody>\n",
       "</table>\n",
       "</div>"
      ],
      "text/plain": [
       "               Mag       Magerr          MJD\n",
       "count  4384.000000  4384.000000  4384.000000\n",
       "mean    102.623631   102.623631   102.623631\n",
       "std     114.634489   114.634489   114.634489\n",
       "min       5.000000     5.000000     5.000000\n",
       "25%      15.000000    15.000000    15.000000\n",
       "50%      48.000000    48.000000    48.000000\n",
       "75%     163.250000   163.250000   163.250000\n",
       "max     880.000000   880.000000   880.000000"
      ]
     },
     "execution_count": 72,
     "metadata": {},
     "output_type": "execute_result"
    }
   ],
   "source": [
    "df_lcs[df_lcs.TransientID.isin(df_merge_filtered.TransientID)].groupby('TransientID').count().describe()"
   ]
  },
  {
   "cell_type": "markdown",
   "metadata": {},
   "source": [
    "Count number of objects with at least 5 observations"
   ]
  },
  {
   "cell_type": "code",
   "execution_count": 73,
   "metadata": {
    "scrolled": true
   },
   "outputs": [
    {
     "data": {
      "text/plain": [
       "3728"
      ]
     },
     "execution_count": 73,
     "metadata": {},
     "output_type": "execute_result"
    }
   ],
   "source": [
    "df_merge_filtered = df_merge[df_merge.ObsCount >= 10]\n",
    "df_merge_filtered.shape[0]"
   ]
  },
  {
   "cell_type": "markdown",
   "metadata": {},
   "source": [
    "Top 10 count of transients by class (with at least 5 observations)"
   ]
  },
  {
   "cell_type": "code",
   "execution_count": 74,
   "metadata": {},
   "outputs": [
    {
     "data": {
      "text/html": [
       "<div>\n",
       "<style scoped>\n",
       "    .dataframe tbody tr th:only-of-type {\n",
       "        vertical-align: middle;\n",
       "    }\n",
       "\n",
       "    .dataframe tbody tr th {\n",
       "        vertical-align: top;\n",
       "    }\n",
       "\n",
       "    .dataframe thead th {\n",
       "        text-align: right;\n",
       "    }\n",
       "</style>\n",
       "<table border=\"1\" class=\"dataframe\">\n",
       "  <thead>\n",
       "    <tr style=\"text-align: right;\">\n",
       "      <th>Classification</th>\n",
       "      <th>SN</th>\n",
       "      <th>CV</th>\n",
       "      <th>AGN</th>\n",
       "      <th>HPM</th>\n",
       "      <th>Blazar</th>\n",
       "      <th>Flare</th>\n",
       "      <th>SN?</th>\n",
       "      <th>AGN?</th>\n",
       "      <th>Unknown</th>\n",
       "      <th>Var</th>\n",
       "      <th>CV?</th>\n",
       "      <th>YSO</th>\n",
       "      <th>Mira</th>\n",
       "      <th>Blazar?</th>\n",
       "      <th>SN/AGN</th>\n",
       "      <th>SN/CV</th>\n",
       "      <th>LPV</th>\n",
       "      <th>Flare?</th>\n",
       "      <th>SN/AGN?</th>\n",
       "      <th>Var?</th>\n",
       "    </tr>\n",
       "  </thead>\n",
       "  <tbody>\n",
       "    <tr>\n",
       "      <th>ObjCount</th>\n",
       "      <td>1050</td>\n",
       "      <td>782</td>\n",
       "      <td>426</td>\n",
       "      <td>400</td>\n",
       "      <td>232</td>\n",
       "      <td>188</td>\n",
       "      <td>136</td>\n",
       "      <td>127</td>\n",
       "      <td>65</td>\n",
       "      <td>47</td>\n",
       "      <td>39</td>\n",
       "      <td>21</td>\n",
       "      <td>20</td>\n",
       "      <td>19</td>\n",
       "      <td>18</td>\n",
       "      <td>16</td>\n",
       "      <td>11</td>\n",
       "      <td>10</td>\n",
       "      <td>9</td>\n",
       "      <td>8</td>\n",
       "    </tr>\n",
       "  </tbody>\n",
       "</table>\n",
       "</div>"
      ],
      "text/plain": [
       "Classification    SN   CV  AGN  HPM  Blazar  Flare  SN?  AGN?  Unknown  Var  \\\n",
       "ObjCount        1050  782  426  400     232    188  136   127       65   47   \n",
       "\n",
       "Classification  CV?  YSO  Mira  Blazar?  SN/AGN  SN/CV  LPV  Flare?  SN/AGN?  \\\n",
       "ObjCount         39   21    20       19      18     16   11      10        9   \n",
       "\n",
       "Classification  Var?  \n",
       "ObjCount           8  "
      ]
     },
     "execution_count": 74,
     "metadata": {},
     "output_type": "execute_result"
    }
   ],
   "source": [
    "df = df_merge_filtered[['Classification','ObsCount']].groupby('Classification').count()\n",
    "df = df.rename(columns={'ObsCount':'ObjCount'}).sort_values('ObjCount', ascending=False)\n",
    "df.head(20).transpose()"
   ]
  },
  {
   "cell_type": "markdown",
   "metadata": {},
   "source": [
    "Describe observation count for transients with at least 5 observations"
   ]
  },
  {
   "cell_type": "code",
   "execution_count": 75,
   "metadata": {
    "scrolled": true
   },
   "outputs": [
    {
     "data": {
      "text/html": [
       "<div>\n",
       "<style scoped>\n",
       "    .dataframe tbody tr th:only-of-type {\n",
       "        vertical-align: middle;\n",
       "    }\n",
       "\n",
       "    .dataframe tbody tr th {\n",
       "        vertical-align: top;\n",
       "    }\n",
       "\n",
       "    .dataframe thead th {\n",
       "        text-align: right;\n",
       "    }\n",
       "</style>\n",
       "<table border=\"1\" class=\"dataframe\">\n",
       "  <thead>\n",
       "    <tr style=\"text-align: right;\">\n",
       "      <th></th>\n",
       "      <th>Mag</th>\n",
       "      <th>Magerr</th>\n",
       "      <th>MJD</th>\n",
       "    </tr>\n",
       "  </thead>\n",
       "  <tbody>\n",
       "    <tr>\n",
       "      <th>count</th>\n",
       "      <td>3728.000000</td>\n",
       "      <td>3728.000000</td>\n",
       "      <td>3728.000000</td>\n",
       "    </tr>\n",
       "    <tr>\n",
       "      <th>mean</th>\n",
       "      <td>119.501341</td>\n",
       "      <td>119.501341</td>\n",
       "      <td>119.501341</td>\n",
       "    </tr>\n",
       "    <tr>\n",
       "      <th>std</th>\n",
       "      <td>116.402319</td>\n",
       "      <td>116.402319</td>\n",
       "      <td>116.402319</td>\n",
       "    </tr>\n",
       "    <tr>\n",
       "      <th>min</th>\n",
       "      <td>10.000000</td>\n",
       "      <td>10.000000</td>\n",
       "      <td>10.000000</td>\n",
       "    </tr>\n",
       "    <tr>\n",
       "      <th>25%</th>\n",
       "      <td>24.000000</td>\n",
       "      <td>24.000000</td>\n",
       "      <td>24.000000</td>\n",
       "    </tr>\n",
       "    <tr>\n",
       "      <th>50%</th>\n",
       "      <td>72.000000</td>\n",
       "      <td>72.000000</td>\n",
       "      <td>72.000000</td>\n",
       "    </tr>\n",
       "    <tr>\n",
       "      <th>75%</th>\n",
       "      <td>188.000000</td>\n",
       "      <td>188.000000</td>\n",
       "      <td>188.000000</td>\n",
       "    </tr>\n",
       "    <tr>\n",
       "      <th>max</th>\n",
       "      <td>880.000000</td>\n",
       "      <td>880.000000</td>\n",
       "      <td>880.000000</td>\n",
       "    </tr>\n",
       "  </tbody>\n",
       "</table>\n",
       "</div>"
      ],
      "text/plain": [
       "               Mag       Magerr          MJD\n",
       "count  3728.000000  3728.000000  3728.000000\n",
       "mean    119.501341   119.501341   119.501341\n",
       "std     116.402319   116.402319   116.402319\n",
       "min      10.000000    10.000000    10.000000\n",
       "25%      24.000000    24.000000    24.000000\n",
       "50%      72.000000    72.000000    72.000000\n",
       "75%     188.000000   188.000000   188.000000\n",
       "max     880.000000   880.000000   880.000000"
      ]
     },
     "execution_count": 75,
     "metadata": {},
     "output_type": "execute_result"
    }
   ],
   "source": [
    "df_lcs[df_lcs.TransientID.isin(df_merge_filtered.TransientID)].groupby('TransientID').count().describe()"
   ]
  },
  {
   "cell_type": "markdown",
   "metadata": {},
   "source": [
    "Visualize transient light curves"
   ]
  },
  {
   "cell_type": "code",
   "execution_count": 248,
   "metadata": {},
   "outputs": [],
   "source": [
    "def representative_lightcurve(klass, i):\n",
    "    df_class = df_merge[df_merge.Classification == klass]\n",
    "    df_class = df_class[(df_class.ObsCount <= 30) & (df_class.ObsCount >= 5)]\n",
    "    objID = df_class.iloc[i].TransientID\n",
    "    df_lc = df_lcs[df_lcs.TransientID == objID]\n",
    "    return df_lc"
   ]
  },
  {
   "cell_type": "code",
   "execution_count": 293,
   "metadata": {},
   "outputs": [],
   "source": [
    "def subplot_lightcurve(lc, axes):\n",
    "    plot = lc.plot(x='MJD', y='Mag', marker='x', markeredgecolor='black', linestyle='None', legend=False, ax=axes, ylim=(17,22))\n",
    "    plot.set_xlabel('Modified Julian Date')\n",
    "    plot.set_ylabel('Mag')"
   ]
  },
  {
   "cell_type": "code",
   "execution_count": 295,
   "metadata": {},
   "outputs": [
    {
     "data": {
      "image/png": "[encoded data removed]",
      "text/plain": [
       "<matplotlib.figure.Figure at 0x7f4f33225048>"
      ]
     },
     "metadata": {},
     "output_type": "display_data"
    }
   ],
   "source": [
    "top_classes = ['SN', 'CV', 'AGN', 'Blazar']\n",
    "top_index = [1, 2, 5, 1]\n",
    "\n",
    "fig, axes = plt.subplots(nrows=2, ncols=2, figsize=(13,13))\n",
    "ax = [(0,0), (0,1), (1,0), (1,1)]\n",
    "for i, klass in enumerate(top_classes):\n",
    "    lc = representative_lightcurve(klass, top_index[i])\n",
    "    subplot_lightcurve(lc, axes[ax[i]])\n",
    "plt.savefig('transient_lightcurves.png')"
   ]
  },
  {
   "cell_type": "code",
   "execution_count": null,
   "metadata": {},
   "outputs": [],
   "source": []
  }
 ],
 "metadata": {
  "kernelspec": {
   "display_name": "Python 3",
   "language": "python",
   "name": "python3"
  },
  "language_info": {
   "codemirror_mode": {
    "name": "ipython",
    "version": 3
   },
   "file_extension": ".py",
   "mimetype": "text/x-python",
   "name": "python",
   "nbconvert_exporter": "python",
   "pygments_lexer": "ipython3",
   "version": "3.4.0"
  }
 },
 "nbformat": 4,
 "nbformat_minor": 2
}
