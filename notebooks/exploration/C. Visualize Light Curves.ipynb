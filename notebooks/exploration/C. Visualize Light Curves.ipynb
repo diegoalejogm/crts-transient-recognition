{
 "cells": [
  {
   "cell_type": "code",
   "execution_count": 96,
   "metadata": {},
   "outputs": [],
   "source": [
    "%matplotlib inline\n",
    "\n",
    "import matplotlib\n",
    "import numpy as np\n",
    "import matplotlib.pyplot as plt\n",
    "import pandas as pd\n",
    "import os"
   ]
  },
  {
   "cell_type": "code",
   "execution_count": 97,
   "metadata": {},
   "outputs": [],
   "source": [
    "### FORMAT: [task, class, correct, task_nice, class_nice, correct_nice, id1, id1_nice, ..., idN, idN_nice]\n",
    "tex_table_format =  \\\n",
    "'''\\\\begin{{figure}}[H]\n",
    "  \\centering\n",
    "  \\\\begin{{subfigure}}[b]{{0.4\\linewidth}}\n",
    "    \\includegraphics[width=\\linewidth]{{images/{0}/{1}/{2}/{6}.png}}\n",
    "    \\caption{{Light Curve of \\\\textit{{{4}}} with {7}.}}\n",
    "  \\end{{subfigure}}\n",
    "  \\\\begin{{subfigure}}[b]{{0.4\\linewidth}}\n",
    "    \\includegraphics[width=\\linewidth]{{images/{0}/{1}/{2}/{8}.png}}\n",
    "    \\caption{{Light Curve of \\\\textit{{{4}}} with {9}.}}\n",
    "  \\end{{subfigure}}\n",
    "  \\\\begin{{subfigure}}[b]{{0.4\\linewidth}}\n",
    "    \\includegraphics[width=\\linewidth]{{images/{0}/{1}/{2}/{10}.png}}\n",
    "    \\caption{{Light Curve of \\\\textit{{{4}}} with {11}.}}\n",
    "  \\end{{subfigure}}\n",
    "  \\\\begin{{subfigure}}[b]{{0.4\\linewidth}}\n",
    "    \\includegraphics[width=\\linewidth]{{images/{0}/{1}/{2}/{12}.png}}\n",
    "    \\caption{{Light Curve of \\\\textit{{{4}}} with {13}.}}\n",
    "  \\end{{subfigure}}\n",
    "  \\caption{{Light Curves of four {5} classified {4} sources in the {3} Classification task.}}\n",
    "  \\label{{fig:{0}_{1}_{2}}}\n",
    "\\end{{figure}}'''"
   ]
  },
  {
   "cell_type": "code",
   "execution_count": 98,
   "metadata": {},
   "outputs": [],
   "source": [
    "DATA_PATH = '../../data/'\n",
    "LIGHTCURVES_PATH = DATA_PATH + 'lightcurves/'"
   ]
  },
  {
   "cell_type": "code",
   "execution_count": 99,
   "metadata": {},
   "outputs": [
    {
     "name": "stdout",
     "output_type": "stream",
     "text": [
      "(16940,)\n"
     ]
    }
   ],
   "source": [
    "filename = 'nontransient_lightcurves.pickle'\n",
    "indir = LIGHTCURVES_PATH; filepath = indir + filename\n",
    "df_nontr = pd.read_pickle(filepath)\n",
    "print(df_nontr.ID.unique().shape)"
   ]
  },
  {
   "cell_type": "code",
   "execution_count": 100,
   "metadata": {},
   "outputs": [
    {
     "name": "stdout",
     "output_type": "stream",
     "text": [
      "(4984,)\n"
     ]
    }
   ],
   "source": [
    "filename = 'transient_lightcurves.pickle'\n",
    "indir = LIGHTCURVES_PATH; filepath = indir + filename\n",
    "df_trans = pd.read_pickle(filepath)\n",
    "print(df_trans.TransientID.unique().shape)"
   ]
  },
  {
   "cell_type": "code",
   "execution_count": 122,
   "metadata": {},
   "outputs": [],
   "source": [
    "def plot_lightcurve(lc):\n",
    "    mean = round(lc.Mag.mean())\n",
    "    plot = lc.plot(x='MJD', y='Mag', marker='.', markeredgecolor='black', linestyle='None', legend=False, figsize=(7,7), ylim=(mean-4,mean+4), yerr='Magerr', elinewidth=0.7)\n",
    "    plot.set_xlabel('Modified Julian Date')\n",
    "    plot.set_ylabel('Mag')"
   ]
  },
  {
   "cell_type": "code",
   "execution_count": 123,
   "metadata": {},
   "outputs": [],
   "source": [
    "def transient_lightcurve(objid):\n",
    "    df_lc = df_trans[df_trans.TransientID == objid]\n",
    "    return df_lc\n",
    "\n",
    "def non_transient_lightcurve(objid):\n",
    "    df_lc = df_nontr[df_nontr.ID == objid]\n",
    "    return df_lc"
   ]
  },
  {
   "cell_type": "code",
   "execution_count": 124,
   "metadata": {
    "scrolled": true
   },
   "outputs": [],
   "source": [
    "def visualize_lcs(task, klass, correct, ids):\n",
    "    for idx in ids:\n",
    "        if 'Tran' in idx:\n",
    "            lc = transient_lightcurve(idx)\n",
    "        elif 'Cata' in idx:\n",
    "            lc = non_transient_lightcurve(idx)\n",
    "        plot_lightcurve(lc)\n",
    "        outdir = '../../results/graphs/{}/{}/{}/'.format(task, klass, correct)\n",
    "        if not os.path.exists(outdir):\n",
    "            os.makedirs(outdir)\n",
    "        plt.savefig(outdir + '{}.png'.format(idx))\n",
    "        plt.close()\n",
    "\n",
    "        \n",
    "def tex_table(task, klass, correct, ids):\n",
    "    \n",
    "    task_nice = lambda x: x.replace('_', '-').title()\n",
    "    class_nice = { 'transient': 'Transient', 'non-transient':'Non-Transient', 'SN':'Supernova' }\n",
    "    correct_nice = lambda x: x + 'ly'\n",
    "    id_nice = lambda x: 'Transient ID {}'.format(x[6:]) if 'Tran' in x else 'Catalina ID {}'.format(x[6:])\n",
    "    \n",
    "    ### Format: [task, class, correct, task_nice, class_nice, correct_nice, id1, id1_nice, ..., idN, idN_nice]\n",
    "    # Tex Table params\n",
    "    tex_table_params = [task, klass, correct, task_nice(task), class_nice.get(klass, klass), correct_nice(correct)]\n",
    "\n",
    "    for idx in ids:\n",
    "        tex_table_params.append(idx)\n",
    "        tex_table_params.append(id_nice(idx))\n",
    "        \n",
    "\n",
    "    tex_table = tex_table_format.format(*tex_table_params)\n",
    "    outdir = '../../results/graphs/{}/{}/{}/'.format(task, klass, correct)\n",
    "    with open(outdir+'table.txt' ,'w') as f:\n",
    "        f.write(tex_table)"
   ]
  },
  {
   "cell_type": "code",
   "execution_count": 138,
   "metadata": {
    "scrolled": true
   },
   "outputs": [],
   "source": [
    "for bool_correct in [True, False]:\n",
    "    correct = 'correct' if bool_correct else 'incorrect'\n",
    "    with open('../{}.txt'.format(correct) ,'r') as f:\n",
    "        dict_from_file = eval(f.read())\n",
    "    \n",
    "    task = dict_from_file['task']\n",
    "    dict_from_file.pop('task', None)\n",
    "    \n",
    "    for klass, ids in dict_from_file.items():\n",
    "        visualize_lcs(task, klass, correct, ids)\n",
    "        tex_table(task, klass, correct, ids)"
   ]
  }
 ],
 "metadata": {
  "kernelspec": {
   "display_name": "Python 3",
   "language": "python",
   "name": "python3"
  },
  "language_info": {
   "codemirror_mode": {
    "name": "ipython",
    "version": 3
   },
   "file_extension": ".py",
   "mimetype": "text/x-python",
   "name": "python",
   "nbconvert_exporter": "python",
   "pygments_lexer": "ipython3",
   "version": "3.4.0"
  }
 },
 "nbformat": 4,
 "nbformat_minor": 2
}
