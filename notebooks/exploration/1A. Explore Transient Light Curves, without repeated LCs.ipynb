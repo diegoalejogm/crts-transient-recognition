{
 "cells": [
  {
   "cell_type": "code",
   "execution_count": 1,
   "metadata": {},
   "outputs": [],
   "source": [
    "DATA_PATH = '../../data/'\n",
    "LIGHTCURVES_PATH = DATA_PATH + 'lightcurves/'"
   ]
  },
  {
   "cell_type": "code",
   "execution_count": 2,
   "metadata": {},
   "outputs": [],
   "source": [
    "import pandas as pd"
   ]
  },
  {
   "cell_type": "markdown",
   "metadata": {},
   "source": [
    "Load Transient Catalog"
   ]
  },
  {
   "cell_type": "code",
   "execution_count": 5,
   "metadata": {},
   "outputs": [
    {
     "name": "stdout",
     "output_type": "stream",
     "text": [
      "(5539,)\n"
     ]
    }
   ],
   "source": [
    "filename = 'transient_catalog.pickle'\n",
    "indir = DATA_PATH; filepath = indir + filename\n",
    "df_cat = pd.read_pickle(filepath)\n",
    "print(df_cat.TransientID.unique().shape)"
   ]
  },
  {
   "cell_type": "code",
   "execution_count": 6,
   "metadata": {
    "scrolled": true
   },
   "outputs": [
    {
     "data": {
      "text/html": [
       "<div>\n",
       "<style scoped>\n",
       "    .dataframe tbody tr th:only-of-type {\n",
       "        vertical-align: middle;\n",
       "    }\n",
       "\n",
       "    .dataframe tbody tr th {\n",
       "        vertical-align: top;\n",
       "    }\n",
       "\n",
       "    .dataframe thead th {\n",
       "        text-align: right;\n",
       "    }\n",
       "</style>\n",
       "<table border=\"1\" class=\"dataframe\">\n",
       "  <thead>\n",
       "    <tr style=\"text-align: right;\">\n",
       "      <th></th>\n",
       "      <th>Classification</th>\n",
       "      <th>TransientID</th>\n",
       "    </tr>\n",
       "  </thead>\n",
       "  <tbody>\n",
       "    <tr>\n",
       "      <th>0</th>\n",
       "      <td>Flare</td>\n",
       "      <td>1611101400424116462</td>\n",
       "    </tr>\n",
       "    <tr>\n",
       "      <th>1</th>\n",
       "      <td>HPM</td>\n",
       "      <td>1611101210274176502</td>\n",
       "    </tr>\n",
       "    <tr>\n",
       "      <th>2</th>\n",
       "      <td>HPM</td>\n",
       "      <td>1611101150154137989</td>\n",
       "    </tr>\n",
       "    <tr>\n",
       "      <th>3</th>\n",
       "      <td>HPM</td>\n",
       "      <td>1611091630244128695</td>\n",
       "    </tr>\n",
       "    <tr>\n",
       "      <th>4</th>\n",
       "      <td>CV</td>\n",
       "      <td>1611091600294129774</td>\n",
       "    </tr>\n",
       "  </tbody>\n",
       "</table>\n",
       "</div>"
      ],
      "text/plain": [
       "  Classification          TransientID\n",
       "0          Flare  1611101400424116462\n",
       "1            HPM  1611101210274176502\n",
       "2            HPM  1611101150154137989\n",
       "3            HPM  1611091630244128695\n",
       "4             CV  1611091600294129774"
      ]
     },
     "execution_count": 6,
     "metadata": {},
     "output_type": "execute_result"
    }
   ],
   "source": [
    "df_cat.head()"
   ]
  },
  {
   "cell_type": "markdown",
   "metadata": {},
   "source": [
    "Load Transient Lightcurves"
   ]
  },
  {
   "cell_type": "code",
   "execution_count": 11,
   "metadata": {},
   "outputs": [
    {
     "data": {
      "text/html": [
       "<div>\n",
       "<style scoped>\n",
       "    .dataframe tbody tr th:only-of-type {\n",
       "        vertical-align: middle;\n",
       "    }\n",
       "\n",
       "    .dataframe tbody tr th {\n",
       "        vertical-align: top;\n",
       "    }\n",
       "\n",
       "    .dataframe thead th {\n",
       "        text-align: right;\n",
       "    }\n",
       "</style>\n",
       "<table border=\"1\" class=\"dataframe\">\n",
       "  <thead>\n",
       "    <tr style=\"text-align: right;\">\n",
       "      <th></th>\n",
       "      <th></th>\n",
       "      <th>Mag</th>\n",
       "      <th>Magerr</th>\n",
       "      <th>MJD</th>\n",
       "    </tr>\n",
       "    <tr>\n",
       "      <th>ID</th>\n",
       "      <th>observation_id</th>\n",
       "      <th></th>\n",
       "      <th></th>\n",
       "      <th></th>\n",
       "    </tr>\n",
       "  </thead>\n",
       "  <tbody>\n",
       "    <tr>\n",
       "      <th rowspan=\"5\" valign=\"top\">TranID1409030010044114444</th>\n",
       "      <th>0</th>\n",
       "      <td>18.8765</td>\n",
       "      <td>0.166417</td>\n",
       "      <td>53766.089871</td>\n",
       "    </tr>\n",
       "    <tr>\n",
       "      <th>1</th>\n",
       "      <td>20.0519</td>\n",
       "      <td>0.281733</td>\n",
       "      <td>53990.458866</td>\n",
       "    </tr>\n",
       "    <tr>\n",
       "      <th>2</th>\n",
       "      <td>20.2199</td>\n",
       "      <td>0.295764</td>\n",
       "      <td>53996.286004</td>\n",
       "    </tr>\n",
       "    <tr>\n",
       "      <th>3</th>\n",
       "      <td>21.1192</td>\n",
       "      <td>0.495390</td>\n",
       "      <td>54385.205789</td>\n",
       "    </tr>\n",
       "    <tr>\n",
       "      <th>4</th>\n",
       "      <td>19.3289</td>\n",
       "      <td>0.195002</td>\n",
       "      <td>54355.282285</td>\n",
       "    </tr>\n",
       "  </tbody>\n",
       "</table>\n",
       "</div>"
      ],
      "text/plain": [
       "                                              Mag    Magerr           MJD\n",
       "ID                        observation_id                                 \n",
       "TranID1409030010044114444 0               18.8765  0.166417  53766.089871\n",
       "                          1               20.0519  0.281733  53990.458866\n",
       "                          2               20.2199  0.295764  53996.286004\n",
       "                          3               21.1192  0.495390  54385.205789\n",
       "                          4               19.3289  0.195002  54355.282285"
      ]
     },
     "execution_count": 11,
     "metadata": {},
     "output_type": "execute_result"
    }
   ],
   "source": [
    "filename = 'transient_lightcurves_clean.pickle'\n",
    "indir = LIGHTCURVES_PATH; filepath = indir + filename\n",
    "df_lcs = pd.read_pickle(filepath)\n",
    "df_lcs.head()"
   ]
  },
  {
   "cell_type": "code",
   "execution_count": 12,
   "metadata": {},
   "outputs": [
    {
     "ename": "AttributeError",
     "evalue": "'DataFrame' object has no attribute 'TransientID'",
     "output_type": "error",
     "traceback": [
      "\u001b[0;31m---------------------------------------------------------------------------\u001b[0m",
      "\u001b[0;31mAttributeError\u001b[0m                            Traceback (most recent call last)",
      "\u001b[0;32m<ipython-input-12-959e3b8e0f5e>\u001b[0m in \u001b[0;36m<module>\u001b[0;34m()\u001b[0m\n\u001b[1;32m      1\u001b[0m \u001b[0mall_exist\u001b[0m \u001b[0;34m=\u001b[0m \u001b[0;32mTrue\u001b[0m\u001b[0;34m\u001b[0m\u001b[0m\n\u001b[1;32m      2\u001b[0m \u001b[0mtransID_cat_list\u001b[0m \u001b[0;34m=\u001b[0m \u001b[0mdf_cat\u001b[0m\u001b[0;34m.\u001b[0m\u001b[0mTransientID\u001b[0m\u001b[0;34m.\u001b[0m\u001b[0munique\u001b[0m\u001b[0;34m(\u001b[0m\u001b[0;34m)\u001b[0m\u001b[0;34m\u001b[0m\u001b[0m\n\u001b[0;32m----> 3\u001b[0;31m \u001b[0;32mfor\u001b[0m \u001b[0mlcs_id\u001b[0m \u001b[0;32min\u001b[0m \u001b[0mdf_lcs\u001b[0m\u001b[0;34m.\u001b[0m\u001b[0mTransientID\u001b[0m\u001b[0;34m.\u001b[0m\u001b[0munique\u001b[0m\u001b[0;34m(\u001b[0m\u001b[0;34m)\u001b[0m\u001b[0;34m:\u001b[0m\u001b[0;34m\u001b[0m\u001b[0m\n\u001b[0m\u001b[1;32m      4\u001b[0m     \u001b[0mall_exist\u001b[0m \u001b[0;34m=\u001b[0m \u001b[0mall_exist\u001b[0m \u001b[0;32mand\u001b[0m \u001b[0;34m(\u001b[0m\u001b[0mlcs_id\u001b[0m \u001b[0;32min\u001b[0m \u001b[0mtransID_cat_list\u001b[0m\u001b[0;34m)\u001b[0m\u001b[0;34m\u001b[0m\u001b[0m\n\u001b[1;32m      5\u001b[0m \u001b[0mprint\u001b[0m\u001b[0;34m(\u001b[0m\u001b[0;34m'All exist:'\u001b[0m\u001b[0;34m,\u001b[0m \u001b[0mstr\u001b[0m\u001b[0;34m(\u001b[0m\u001b[0mall_exist\u001b[0m\u001b[0;34m)\u001b[0m\u001b[0;34m)\u001b[0m\u001b[0;34m\u001b[0m\u001b[0m\n",
      "\u001b[0;32m~/.pyenv/versions/3.5.0/lib/python3.5/site-packages/pandas/core/generic.py\u001b[0m in \u001b[0;36m__getattr__\u001b[0;34m(self, name)\u001b[0m\n\u001b[1;32m   3612\u001b[0m             \u001b[0;32mif\u001b[0m \u001b[0mname\u001b[0m \u001b[0;32min\u001b[0m \u001b[0mself\u001b[0m\u001b[0;34m.\u001b[0m\u001b[0m_info_axis\u001b[0m\u001b[0;34m:\u001b[0m\u001b[0;34m\u001b[0m\u001b[0m\n\u001b[1;32m   3613\u001b[0m                 \u001b[0;32mreturn\u001b[0m \u001b[0mself\u001b[0m\u001b[0;34m[\u001b[0m\u001b[0mname\u001b[0m\u001b[0;34m]\u001b[0m\u001b[0;34m\u001b[0m\u001b[0m\n\u001b[0;32m-> 3614\u001b[0;31m             \u001b[0;32mreturn\u001b[0m \u001b[0mobject\u001b[0m\u001b[0;34m.\u001b[0m\u001b[0m__getattribute__\u001b[0m\u001b[0;34m(\u001b[0m\u001b[0mself\u001b[0m\u001b[0;34m,\u001b[0m \u001b[0mname\u001b[0m\u001b[0;34m)\u001b[0m\u001b[0;34m\u001b[0m\u001b[0m\n\u001b[0m\u001b[1;32m   3615\u001b[0m \u001b[0;34m\u001b[0m\u001b[0m\n\u001b[1;32m   3616\u001b[0m     \u001b[0;32mdef\u001b[0m \u001b[0m__setattr__\u001b[0m\u001b[0;34m(\u001b[0m\u001b[0mself\u001b[0m\u001b[0;34m,\u001b[0m \u001b[0mname\u001b[0m\u001b[0;34m,\u001b[0m \u001b[0mvalue\u001b[0m\u001b[0;34m)\u001b[0m\u001b[0;34m:\u001b[0m\u001b[0;34m\u001b[0m\u001b[0m\n",
      "\u001b[0;31mAttributeError\u001b[0m: 'DataFrame' object has no attribute 'TransientID'"
     ]
    }
   ],
   "source": [
    "all_exist = True\n",
    "transID_cat_list = df_cat.TransientID.unique()\n",
    "for lcs_id in df_lcs.TransientID.unique():\n",
    "    all_exist = all_exist and (lcs_id in transID_cat_list)\n",
    "print('All exist:', str(all_exist))"
   ]
  },
  {
   "cell_type": "markdown",
   "metadata": {},
   "source": [
    "Check that all Catalog TransientID's are in Lightcurves "
   ]
  },
  {
   "cell_type": "code",
   "execution_count": 184,
   "metadata": {},
   "outputs": [
    {
     "name": "stdout",
     "output_type": "stream",
     "text": [
      "All exist: False\n",
      "Missing: 555 Transients\n"
     ]
    }
   ],
   "source": [
    "all_exist = True\n",
    "lcs_missing_transientID_list = []\n",
    "transID_lcs_list = df_lcs.TransientID.unique()\n",
    "for cat_id in df_cat.TransientID.unique():\n",
    "    id_exists = (cat_id in transID_lcs_list)\n",
    "    all_exist = all_exist and id_exists\n",
    "    if not id_exists: lcs_missing_transientID_list.append(cat_id)\n",
    "print('All exist:', str(all_exist))\n",
    "print('Missing: {} Transients'.format(len(lcs_missing_transientID_list)))"
   ]
  },
  {
   "cell_type": "markdown",
   "metadata": {},
   "source": [
    "Remove copied light curves"
   ]
  },
  {
   "cell_type": "code",
   "execution_count": 205,
   "metadata": {},
   "outputs": [],
   "source": [
    "df_unique_lcs = df_lcs.copy()\n",
    "for group in repeated_groups:\n",
    "    df_unique_lcs = df_unique_lcs[~df_unique_lcs.TransientID.isin(group[1:])]"
   ]
  },
  {
   "cell_type": "markdown",
   "metadata": {},
   "source": [
    "Merge dataframes with inner join"
   ]
  },
  {
   "cell_type": "code",
   "execution_count": 206,
   "metadata": {},
   "outputs": [],
   "source": [
    "df_merge = df_cat.copy().merge(df_unique_lcs.copy().groupby('TransientID',as_index=False).count(), how='inner')\n",
    "df_merge.rename(columns={'Mag':'ObsCount'}, inplace=True)\n",
    "df_merge = df_merge[['TransientID', 'Classification', 'ObsCount']]"
   ]
  },
  {
   "cell_type": "code",
   "execution_count": 207,
   "metadata": {},
   "outputs": [
    {
     "name": "stdout",
     "output_type": "stream",
     "text": [
      "(4869, 3)\n"
     ]
    }
   ],
   "source": [
    "print(df_merge.shape)"
   ]
  },
  {
   "cell_type": "markdown",
   "metadata": {},
   "source": [
    "Top 10 count of transients by class"
   ]
  },
  {
   "cell_type": "code",
   "execution_count": 209,
   "metadata": {},
   "outputs": [
    {
     "data": {
      "text/html": [
       "<div>\n",
       "<style scoped>\n",
       "    .dataframe tbody tr th:only-of-type {\n",
       "        vertical-align: middle;\n",
       "    }\n",
       "\n",
       "    .dataframe tbody tr th {\n",
       "        vertical-align: top;\n",
       "    }\n",
       "\n",
       "    .dataframe thead th {\n",
       "        text-align: right;\n",
       "    }\n",
       "</style>\n",
       "<table border=\"1\" class=\"dataframe\">\n",
       "  <thead>\n",
       "    <tr style=\"text-align: right;\">\n",
       "      <th>Classification</th>\n",
       "      <th>SN</th>\n",
       "      <th>CV</th>\n",
       "      <th>AGN</th>\n",
       "      <th>HPM</th>\n",
       "      <th>SN?</th>\n",
       "      <th>Blazar</th>\n",
       "      <th>Flare</th>\n",
       "      <th>Unknown</th>\n",
       "      <th>AGN?</th>\n",
       "      <th>CV?</th>\n",
       "    </tr>\n",
       "  </thead>\n",
       "  <tbody>\n",
       "    <tr>\n",
       "      <th>ObjCount</th>\n",
       "      <td>1537</td>\n",
       "      <td>943</td>\n",
       "      <td>427</td>\n",
       "      <td>330</td>\n",
       "      <td>291</td>\n",
       "      <td>239</td>\n",
       "      <td>215</td>\n",
       "      <td>188</td>\n",
       "      <td>131</td>\n",
       "      <td>68</td>\n",
       "    </tr>\n",
       "  </tbody>\n",
       "</table>\n",
       "</div>"
      ],
      "text/plain": [
       "Classification    SN   CV  AGN  HPM  SN?  Blazar  Flare  Unknown  AGN?  CV?\n",
       "ObjCount        1537  943  427  330  291     239    215      188   131   68"
      ]
     },
     "execution_count": 209,
     "metadata": {},
     "output_type": "execute_result"
    }
   ],
   "source": [
    "df = df_merge[['Classification','ObsCount']].groupby('Classification').count()\n",
    "df = df.rename(columns={'ObsCount':'ObjCount'}).sort_values('ObjCount', ascending=False)\n",
    "df.head(10).transpose()"
   ]
  },
  {
   "cell_type": "markdown",
   "metadata": {},
   "source": [
    "Describe transients observation count"
   ]
  },
  {
   "cell_type": "code",
   "execution_count": 210,
   "metadata": {},
   "outputs": [
    {
     "data": {
      "text/plain": [
       "53464.153988194696"
      ]
     },
     "execution_count": 210,
     "metadata": {},
     "output_type": "execute_result"
    }
   ],
   "source": [
    "df_lcs.sort_values(['MJD'])['MJD'].iloc[0]"
   ]
  },
  {
   "cell_type": "code",
   "execution_count": 211,
   "metadata": {},
   "outputs": [
    {
     "data": {
      "text/html": [
       "<div>\n",
       "<style scoped>\n",
       "    .dataframe tbody tr th:only-of-type {\n",
       "        vertical-align: middle;\n",
       "    }\n",
       "\n",
       "    .dataframe tbody tr th {\n",
       "        vertical-align: top;\n",
       "    }\n",
       "\n",
       "    .dataframe thead th {\n",
       "        text-align: right;\n",
       "    }\n",
       "</style>\n",
       "<table border=\"1\" class=\"dataframe\">\n",
       "  <thead>\n",
       "    <tr style=\"text-align: right;\">\n",
       "      <th></th>\n",
       "      <th>Mag</th>\n",
       "      <th>Magerr</th>\n",
       "      <th>MJD</th>\n",
       "    </tr>\n",
       "  </thead>\n",
       "  <tbody>\n",
       "    <tr>\n",
       "      <th>count</th>\n",
       "      <td>4984.000000</td>\n",
       "      <td>4984.000000</td>\n",
       "      <td>4984.000000</td>\n",
       "    </tr>\n",
       "    <tr>\n",
       "      <th>mean</th>\n",
       "      <td>90.584671</td>\n",
       "      <td>90.584671</td>\n",
       "      <td>90.584671</td>\n",
       "    </tr>\n",
       "    <tr>\n",
       "      <th>std</th>\n",
       "      <td>112.330606</td>\n",
       "      <td>112.330606</td>\n",
       "      <td>112.330606</td>\n",
       "    </tr>\n",
       "    <tr>\n",
       "      <th>min</th>\n",
       "      <td>1.000000</td>\n",
       "      <td>1.000000</td>\n",
       "      <td>1.000000</td>\n",
       "    </tr>\n",
       "    <tr>\n",
       "      <th>25%</th>\n",
       "      <td>9.000000</td>\n",
       "      <td>9.000000</td>\n",
       "      <td>9.000000</td>\n",
       "    </tr>\n",
       "    <tr>\n",
       "      <th>50%</th>\n",
       "      <td>35.000000</td>\n",
       "      <td>35.000000</td>\n",
       "      <td>35.000000</td>\n",
       "    </tr>\n",
       "    <tr>\n",
       "      <th>75%</th>\n",
       "      <td>140.000000</td>\n",
       "      <td>140.000000</td>\n",
       "      <td>140.000000</td>\n",
       "    </tr>\n",
       "    <tr>\n",
       "      <th>max</th>\n",
       "      <td>880.000000</td>\n",
       "      <td>880.000000</td>\n",
       "      <td>880.000000</td>\n",
       "    </tr>\n",
       "  </tbody>\n",
       "</table>\n",
       "</div>"
      ],
      "text/plain": [
       "               Mag       Magerr          MJD\n",
       "count  4984.000000  4984.000000  4984.000000\n",
       "mean     90.584671    90.584671    90.584671\n",
       "std     112.330606   112.330606   112.330606\n",
       "min       1.000000     1.000000     1.000000\n",
       "25%       9.000000     9.000000     9.000000\n",
       "50%      35.000000    35.000000    35.000000\n",
       "75%     140.000000   140.000000   140.000000\n",
       "max     880.000000   880.000000   880.000000"
      ]
     },
     "execution_count": 211,
     "metadata": {},
     "output_type": "execute_result"
    }
   ],
   "source": [
    "df_lcs.groupby('TransientID').count().describe()"
   ]
  },
  {
   "cell_type": "markdown",
   "metadata": {},
   "source": [
    "Count number of objects with at least 5 observations"
   ]
  },
  {
   "cell_type": "code",
   "execution_count": 212,
   "metadata": {
    "scrolled": true
   },
   "outputs": [
    {
     "data": {
      "text/plain": [
       "4269"
      ]
     },
     "execution_count": 212,
     "metadata": {},
     "output_type": "execute_result"
    }
   ],
   "source": [
    "df_merge_filtered = df_merge[df_merge.ObsCount >= 5]\n",
    "df_merge_filtered.shape[0]"
   ]
  },
  {
   "cell_type": "markdown",
   "metadata": {},
   "source": [
    "Top 10 count of transients by class (with at least 5 observations)"
   ]
  },
  {
   "cell_type": "code",
   "execution_count": 213,
   "metadata": {},
   "outputs": [
    {
     "data": {
      "text/html": [
       "<div>\n",
       "<style scoped>\n",
       "    .dataframe tbody tr th:only-of-type {\n",
       "        vertical-align: middle;\n",
       "    }\n",
       "\n",
       "    .dataframe tbody tr th {\n",
       "        vertical-align: top;\n",
       "    }\n",
       "\n",
       "    .dataframe thead th {\n",
       "        text-align: right;\n",
       "    }\n",
       "</style>\n",
       "<table border=\"1\" class=\"dataframe\">\n",
       "  <thead>\n",
       "    <tr style=\"text-align: right;\">\n",
       "      <th>Classification</th>\n",
       "      <th>SN</th>\n",
       "      <th>CV</th>\n",
       "      <th>AGN</th>\n",
       "      <th>HPM</th>\n",
       "      <th>Blazar</th>\n",
       "      <th>SN?</th>\n",
       "      <th>Flare</th>\n",
       "      <th>AGN?</th>\n",
       "      <th>Unknown</th>\n",
       "      <th>CV?</th>\n",
       "      <th>Var</th>\n",
       "      <th>Ast?</th>\n",
       "      <th>SN/CV</th>\n",
       "      <th>SN/AGN</th>\n",
       "      <th>YSO</th>\n",
       "      <th>Mira</th>\n",
       "      <th>Blazar?</th>\n",
       "      <th>Flare?</th>\n",
       "      <th>Var?</th>\n",
       "      <th>Ast</th>\n",
       "    </tr>\n",
       "  </thead>\n",
       "  <tbody>\n",
       "    <tr>\n",
       "      <th>ObjCount</th>\n",
       "      <td>1293</td>\n",
       "      <td>862</td>\n",
       "      <td>425</td>\n",
       "      <td>306</td>\n",
       "      <td>237</td>\n",
       "      <td>236</td>\n",
       "      <td>207</td>\n",
       "      <td>130</td>\n",
       "      <td>114</td>\n",
       "      <td>55</td>\n",
       "      <td>47</td>\n",
       "      <td>31</td>\n",
       "      <td>28</td>\n",
       "      <td>23</td>\n",
       "      <td>21</td>\n",
       "      <td>20</td>\n",
       "      <td>19</td>\n",
       "      <td>18</td>\n",
       "      <td>12</td>\n",
       "      <td>12</td>\n",
       "    </tr>\n",
       "  </tbody>\n",
       "</table>\n",
       "</div>"
      ],
      "text/plain": [
       "Classification    SN   CV  AGN  HPM  Blazar  SN?  Flare  AGN?  Unknown  CV?  \\\n",
       "ObjCount        1293  862  425  306     237  236    207   130      114   55   \n",
       "\n",
       "Classification  Var  Ast?  SN/CV  SN/AGN  YSO  Mira  Blazar?  Flare?  Var?  \\\n",
       "ObjCount         47    31     28      23   21    20       19      18    12   \n",
       "\n",
       "Classification  Ast  \n",
       "ObjCount         12  "
      ]
     },
     "execution_count": 213,
     "metadata": {},
     "output_type": "execute_result"
    }
   ],
   "source": [
    "df = df_merge_filtered[['Classification','ObsCount']].groupby('Classification').count()\n",
    "df = df.rename(columns={'ObsCount':'ObjCount'}).sort_values('ObjCount', ascending=False)\n",
    "df.head(20).transpose()"
   ]
  },
  {
   "cell_type": "markdown",
   "metadata": {},
   "source": [
    "Describe observation count for transients with at least 5 observations"
   ]
  },
  {
   "cell_type": "code",
   "execution_count": 214,
   "metadata": {
    "scrolled": true
   },
   "outputs": [
    {
     "data": {
      "text/html": [
       "<div>\n",
       "<style scoped>\n",
       "    .dataframe tbody tr th:only-of-type {\n",
       "        vertical-align: middle;\n",
       "    }\n",
       "\n",
       "    .dataframe tbody tr th {\n",
       "        vertical-align: top;\n",
       "    }\n",
       "\n",
       "    .dataframe thead th {\n",
       "        text-align: right;\n",
       "    }\n",
       "</style>\n",
       "<table border=\"1\" class=\"dataframe\">\n",
       "  <thead>\n",
       "    <tr style=\"text-align: right;\">\n",
       "      <th></th>\n",
       "      <th>Mag</th>\n",
       "      <th>Magerr</th>\n",
       "      <th>MJD</th>\n",
       "    </tr>\n",
       "  </thead>\n",
       "  <tbody>\n",
       "    <tr>\n",
       "      <th>count</th>\n",
       "      <td>4269.000000</td>\n",
       "      <td>4269.000000</td>\n",
       "      <td>4269.000000</td>\n",
       "    </tr>\n",
       "    <tr>\n",
       "      <th>mean</th>\n",
       "      <td>103.793394</td>\n",
       "      <td>103.793394</td>\n",
       "      <td>103.793394</td>\n",
       "    </tr>\n",
       "    <tr>\n",
       "      <th>std</th>\n",
       "      <td>115.792718</td>\n",
       "      <td>115.792718</td>\n",
       "      <td>115.792718</td>\n",
       "    </tr>\n",
       "    <tr>\n",
       "      <th>min</th>\n",
       "      <td>5.000000</td>\n",
       "      <td>5.000000</td>\n",
       "      <td>5.000000</td>\n",
       "    </tr>\n",
       "    <tr>\n",
       "      <th>25%</th>\n",
       "      <td>14.000000</td>\n",
       "      <td>14.000000</td>\n",
       "      <td>14.000000</td>\n",
       "    </tr>\n",
       "    <tr>\n",
       "      <th>50%</th>\n",
       "      <td>48.000000</td>\n",
       "      <td>48.000000</td>\n",
       "      <td>48.000000</td>\n",
       "    </tr>\n",
       "    <tr>\n",
       "      <th>75%</th>\n",
       "      <td>168.000000</td>\n",
       "      <td>168.000000</td>\n",
       "      <td>168.000000</td>\n",
       "    </tr>\n",
       "    <tr>\n",
       "      <th>max</th>\n",
       "      <td>880.000000</td>\n",
       "      <td>880.000000</td>\n",
       "      <td>880.000000</td>\n",
       "    </tr>\n",
       "  </tbody>\n",
       "</table>\n",
       "</div>"
      ],
      "text/plain": [
       "               Mag       Magerr          MJD\n",
       "count  4269.000000  4269.000000  4269.000000\n",
       "mean    103.793394   103.793394   103.793394\n",
       "std     115.792718   115.792718   115.792718\n",
       "min       5.000000     5.000000     5.000000\n",
       "25%      14.000000    14.000000    14.000000\n",
       "50%      48.000000    48.000000    48.000000\n",
       "75%     168.000000   168.000000   168.000000\n",
       "max     880.000000   880.000000   880.000000"
      ]
     },
     "execution_count": 214,
     "metadata": {},
     "output_type": "execute_result"
    }
   ],
   "source": [
    "df_lcs[df_lcs.TransientID.isin(df_merge_filtered.TransientID)].groupby('TransientID').count().describe()"
   ]
  },
  {
   "cell_type": "markdown",
   "metadata": {},
   "source": [
    "Count number of objects with at least 5 observations"
   ]
  },
  {
   "cell_type": "code",
   "execution_count": 215,
   "metadata": {
    "scrolled": true
   },
   "outputs": [
    {
     "data": {
      "text/plain": [
       "3616"
      ]
     },
     "execution_count": 215,
     "metadata": {},
     "output_type": "execute_result"
    }
   ],
   "source": [
    "df_merge_filtered = df_merge[df_merge.ObsCount >= 10]\n",
    "df_merge_filtered.shape[0]"
   ]
  },
  {
   "cell_type": "markdown",
   "metadata": {},
   "source": [
    "Top 10 count of transients by class (with at least 10 observations)"
   ]
  },
  {
   "cell_type": "code",
   "execution_count": 216,
   "metadata": {},
   "outputs": [
    {
     "data": {
      "text/html": [
       "<div>\n",
       "<style scoped>\n",
       "    .dataframe tbody tr th:only-of-type {\n",
       "        vertical-align: middle;\n",
       "    }\n",
       "\n",
       "    .dataframe tbody tr th {\n",
       "        vertical-align: top;\n",
       "    }\n",
       "\n",
       "    .dataframe thead th {\n",
       "        text-align: right;\n",
       "    }\n",
       "</style>\n",
       "<table border=\"1\" class=\"dataframe\">\n",
       "  <thead>\n",
       "    <tr style=\"text-align: right;\">\n",
       "      <th>Classification</th>\n",
       "      <th>SN</th>\n",
       "      <th>CV</th>\n",
       "      <th>AGN</th>\n",
       "      <th>HPM</th>\n",
       "      <th>Blazar</th>\n",
       "      <th>Flare</th>\n",
       "      <th>SN?</th>\n",
       "      <th>AGN?</th>\n",
       "      <th>Unknown</th>\n",
       "      <th>Var</th>\n",
       "      <th>CV?</th>\n",
       "      <th>YSO</th>\n",
       "      <th>Mira</th>\n",
       "      <th>Blazar?</th>\n",
       "      <th>SN/AGN</th>\n",
       "      <th>SN/CV</th>\n",
       "      <th>LPV</th>\n",
       "      <th>Flare?</th>\n",
       "      <th>SN/AGN?</th>\n",
       "      <th>Var?</th>\n",
       "    </tr>\n",
       "  </thead>\n",
       "  <tbody>\n",
       "    <tr>\n",
       "      <th>ObjCount</th>\n",
       "      <td>1049</td>\n",
       "      <td>782</td>\n",
       "      <td>424</td>\n",
       "      <td>295</td>\n",
       "      <td>232</td>\n",
       "      <td>188</td>\n",
       "      <td>134</td>\n",
       "      <td>125</td>\n",
       "      <td>65</td>\n",
       "      <td>47</td>\n",
       "      <td>39</td>\n",
       "      <td>21</td>\n",
       "      <td>20</td>\n",
       "      <td>19</td>\n",
       "      <td>18</td>\n",
       "      <td>16</td>\n",
       "      <td>11</td>\n",
       "      <td>10</td>\n",
       "      <td>9</td>\n",
       "      <td>8</td>\n",
       "    </tr>\n",
       "  </tbody>\n",
       "</table>\n",
       "</div>"
      ],
      "text/plain": [
       "Classification    SN   CV  AGN  HPM  Blazar  Flare  SN?  AGN?  Unknown  Var  \\\n",
       "ObjCount        1049  782  424  295     232    188  134   125       65   47   \n",
       "\n",
       "Classification  CV?  YSO  Mira  Blazar?  SN/AGN  SN/CV  LPV  Flare?  SN/AGN?  \\\n",
       "ObjCount         39   21    20       19      18     16   11      10        9   \n",
       "\n",
       "Classification  Var?  \n",
       "ObjCount           8  "
      ]
     },
     "execution_count": 216,
     "metadata": {},
     "output_type": "execute_result"
    }
   ],
   "source": [
    "df = df_merge_filtered[['Classification','ObsCount']].groupby('Classification').count()\n",
    "df = df.rename(columns={'ObsCount':'ObjCount'}).sort_values('ObjCount', ascending=False)\n",
    "df.head(20).transpose()"
   ]
  },
  {
   "cell_type": "markdown",
   "metadata": {},
   "source": [
    "Describe observation count for transients with at least 5 observations"
   ]
  },
  {
   "cell_type": "code",
   "execution_count": 217,
   "metadata": {
    "scrolled": true
   },
   "outputs": [
    {
     "data": {
      "text/html": [
       "<div>\n",
       "<style scoped>\n",
       "    .dataframe tbody tr th:only-of-type {\n",
       "        vertical-align: middle;\n",
       "    }\n",
       "\n",
       "    .dataframe tbody tr th {\n",
       "        vertical-align: top;\n",
       "    }\n",
       "\n",
       "    .dataframe thead th {\n",
       "        text-align: right;\n",
       "    }\n",
       "</style>\n",
       "<table border=\"1\" class=\"dataframe\">\n",
       "  <thead>\n",
       "    <tr style=\"text-align: right;\">\n",
       "      <th></th>\n",
       "      <th>Mag</th>\n",
       "      <th>Magerr</th>\n",
       "      <th>MJD</th>\n",
       "    </tr>\n",
       "  </thead>\n",
       "  <tbody>\n",
       "    <tr>\n",
       "      <th>count</th>\n",
       "      <td>3616.000000</td>\n",
       "      <td>3616.000000</td>\n",
       "      <td>3616.000000</td>\n",
       "    </tr>\n",
       "    <tr>\n",
       "      <th>mean</th>\n",
       "      <td>121.326327</td>\n",
       "      <td>121.326327</td>\n",
       "      <td>121.326327</td>\n",
       "    </tr>\n",
       "    <tr>\n",
       "      <th>std</th>\n",
       "      <td>117.555596</td>\n",
       "      <td>117.555596</td>\n",
       "      <td>117.555596</td>\n",
       "    </tr>\n",
       "    <tr>\n",
       "      <th>min</th>\n",
       "      <td>10.000000</td>\n",
       "      <td>10.000000</td>\n",
       "      <td>10.000000</td>\n",
       "    </tr>\n",
       "    <tr>\n",
       "      <th>25%</th>\n",
       "      <td>24.000000</td>\n",
       "      <td>24.000000</td>\n",
       "      <td>24.000000</td>\n",
       "    </tr>\n",
       "    <tr>\n",
       "      <th>50%</th>\n",
       "      <td>74.500000</td>\n",
       "      <td>74.500000</td>\n",
       "      <td>74.500000</td>\n",
       "    </tr>\n",
       "    <tr>\n",
       "      <th>75%</th>\n",
       "      <td>193.000000</td>\n",
       "      <td>193.000000</td>\n",
       "      <td>193.000000</td>\n",
       "    </tr>\n",
       "    <tr>\n",
       "      <th>max</th>\n",
       "      <td>880.000000</td>\n",
       "      <td>880.000000</td>\n",
       "      <td>880.000000</td>\n",
       "    </tr>\n",
       "  </tbody>\n",
       "</table>\n",
       "</div>"
      ],
      "text/plain": [
       "               Mag       Magerr          MJD\n",
       "count  3616.000000  3616.000000  3616.000000\n",
       "mean    121.326327   121.326327   121.326327\n",
       "std     117.555596   117.555596   117.555596\n",
       "min      10.000000    10.000000    10.000000\n",
       "25%      24.000000    24.000000    24.000000\n",
       "50%      74.500000    74.500000    74.500000\n",
       "75%     193.000000   193.000000   193.000000\n",
       "max     880.000000   880.000000   880.000000"
      ]
     },
     "execution_count": 217,
     "metadata": {},
     "output_type": "execute_result"
    }
   ],
   "source": [
    "df_lcs[df_lcs.TransientID.isin(df_merge_filtered.TransientID)].groupby('TransientID').count().describe()"
   ]
  },
  {
   "cell_type": "markdown",
   "metadata": {},
   "source": [
    "Visualize transient light curves"
   ]
  },
  {
   "cell_type": "code",
   "execution_count": 218,
   "metadata": {},
   "outputs": [],
   "source": [
    "def lightcurve(transID):\n",
    "    df_lc = df_lcs[df_lcs.TransientID == transID]\n",
    "    return df_lc"
   ]
  },
  {
   "cell_type": "code",
   "execution_count": 219,
   "metadata": {},
   "outputs": [],
   "source": [
    "def class_random_ids(klass):\n",
    "    df_class = df_merge[df_merge.Classification == klass]\n",
    "    df_class = df_class[(df_class.ObsCount <= 40) & (df_class.ObsCount >= 10)]\n",
    "    IDs = df_class.TransientID.unique()\n",
    "    np.random.seed(40)\n",
    "    rand = np.random.randint(0, IDs.shape[0]-1, 4)\n",
    "    randIds = IDs[rand]\n",
    "    return randIds"
   ]
  },
  {
   "cell_type": "code",
   "execution_count": 220,
   "metadata": {},
   "outputs": [],
   "source": [
    "def plot_lightcurve(lc):\n",
    "    plot = lc.plot(x='MJD', y='Mag', marker='.', markeredgecolor='black', linestyle='None', legend=False, figsize=(7,7),ylim=(0,30),  yerr='Magerr', elinewidth=0.7)\n",
    "    plot.set_xlabel('Modified Julian Date')\n",
    "    plot.set_ylabel('Mag')"
   ]
  },
  {
   "cell_type": "code",
   "execution_count": 221,
   "metadata": {},
   "outputs": [
    {
     "ename": "NameError",
     "evalue": "name 'np' is not defined",
     "output_type": "error",
     "traceback": [
      "\u001b[0;31m---------------------------------------------------------------------------\u001b[0m",
      "\u001b[0;31mNameError\u001b[0m                                 Traceback (most recent call last)",
      "\u001b[0;32m<ipython-input-221-01e8f8f38daf>\u001b[0m in \u001b[0;36m<module>\u001b[0;34m()\u001b[0m\n\u001b[1;32m      2\u001b[0m \u001b[0;34m\u001b[0m\u001b[0m\n\u001b[1;32m      3\u001b[0m \u001b[0;32mfor\u001b[0m \u001b[0mi\u001b[0m\u001b[0;34m,\u001b[0m \u001b[0mklass\u001b[0m \u001b[0;32min\u001b[0m \u001b[0menumerate\u001b[0m\u001b[0;34m(\u001b[0m\u001b[0mtop_classes\u001b[0m\u001b[0;34m)\u001b[0m\u001b[0;34m:\u001b[0m\u001b[0;34m\u001b[0m\u001b[0m\n\u001b[0;32m----> 4\u001b[0;31m     \u001b[0mids\u001b[0m \u001b[0;34m=\u001b[0m \u001b[0mclass_random_ids\u001b[0m\u001b[0;34m(\u001b[0m\u001b[0mklass\u001b[0m\u001b[0;34m)\u001b[0m\u001b[0;34m\u001b[0m\u001b[0m\n\u001b[0m\u001b[1;32m      5\u001b[0m     \u001b[0;32mfor\u001b[0m \u001b[0midx\u001b[0m \u001b[0;32min\u001b[0m \u001b[0mids\u001b[0m\u001b[0;34m:\u001b[0m\u001b[0;34m\u001b[0m\u001b[0m\n\u001b[1;32m      6\u001b[0m         \u001b[0mlc\u001b[0m \u001b[0;34m=\u001b[0m \u001b[0mlightcurve\u001b[0m\u001b[0;34m(\u001b[0m\u001b[0midx\u001b[0m\u001b[0;34m)\u001b[0m\u001b[0;34m\u001b[0m\u001b[0m\n",
      "\u001b[0;32m<ipython-input-219-612fa76f82b2>\u001b[0m in \u001b[0;36mclass_random_ids\u001b[0;34m(klass)\u001b[0m\n\u001b[1;32m      3\u001b[0m     \u001b[0mdf_class\u001b[0m \u001b[0;34m=\u001b[0m \u001b[0mdf_class\u001b[0m\u001b[0;34m[\u001b[0m\u001b[0;34m(\u001b[0m\u001b[0mdf_class\u001b[0m\u001b[0;34m.\u001b[0m\u001b[0mObsCount\u001b[0m \u001b[0;34m<=\u001b[0m \u001b[0;36m40\u001b[0m\u001b[0;34m)\u001b[0m \u001b[0;34m&\u001b[0m \u001b[0;34m(\u001b[0m\u001b[0mdf_class\u001b[0m\u001b[0;34m.\u001b[0m\u001b[0mObsCount\u001b[0m \u001b[0;34m>=\u001b[0m \u001b[0;36m10\u001b[0m\u001b[0;34m)\u001b[0m\u001b[0;34m]\u001b[0m\u001b[0;34m\u001b[0m\u001b[0m\n\u001b[1;32m      4\u001b[0m     \u001b[0mIDs\u001b[0m \u001b[0;34m=\u001b[0m \u001b[0mdf_class\u001b[0m\u001b[0;34m.\u001b[0m\u001b[0mTransientID\u001b[0m\u001b[0;34m.\u001b[0m\u001b[0munique\u001b[0m\u001b[0;34m(\u001b[0m\u001b[0;34m)\u001b[0m\u001b[0;34m\u001b[0m\u001b[0m\n\u001b[0;32m----> 5\u001b[0;31m     \u001b[0mnp\u001b[0m\u001b[0;34m.\u001b[0m\u001b[0mrandom\u001b[0m\u001b[0;34m.\u001b[0m\u001b[0mseed\u001b[0m\u001b[0;34m(\u001b[0m\u001b[0;36m40\u001b[0m\u001b[0;34m)\u001b[0m\u001b[0;34m\u001b[0m\u001b[0m\n\u001b[0m\u001b[1;32m      6\u001b[0m     \u001b[0mrand\u001b[0m \u001b[0;34m=\u001b[0m \u001b[0mnp\u001b[0m\u001b[0;34m.\u001b[0m\u001b[0mrandom\u001b[0m\u001b[0;34m.\u001b[0m\u001b[0mrandint\u001b[0m\u001b[0;34m(\u001b[0m\u001b[0;36m0\u001b[0m\u001b[0;34m,\u001b[0m \u001b[0mIDs\u001b[0m\u001b[0;34m.\u001b[0m\u001b[0mshape\u001b[0m\u001b[0;34m[\u001b[0m\u001b[0;36m0\u001b[0m\u001b[0;34m]\u001b[0m\u001b[0;34m-\u001b[0m\u001b[0;36m1\u001b[0m\u001b[0;34m,\u001b[0m \u001b[0;36m4\u001b[0m\u001b[0;34m)\u001b[0m\u001b[0;34m\u001b[0m\u001b[0m\n\u001b[1;32m      7\u001b[0m     \u001b[0mrandIds\u001b[0m \u001b[0;34m=\u001b[0m \u001b[0mIDs\u001b[0m\u001b[0;34m[\u001b[0m\u001b[0mrand\u001b[0m\u001b[0;34m]\u001b[0m\u001b[0;34m\u001b[0m\u001b[0m\n",
      "\u001b[0;31mNameError\u001b[0m: name 'np' is not defined"
     ]
    }
   ],
   "source": [
    "top_classes = ['SN', 'CV', 'AGN', 'Blazar']\n",
    "\n",
    "for i, klass in enumerate(top_classes):\n",
    "    ids = class_random_ids(klass)\n",
    "    for idx in ids:\n",
    "        lc = lightcurve(idx)\n",
    "        plot_lightcurve(lc)\n",
    "        plt.savefig('graphs/{}_{}.png'.format(klass, idx))\n",
    "        plt.close()"
   ]
  },
  {
   "cell_type": "markdown",
   "metadata": {},
   "source": [
    "Visualize correctly classified in binary task"
   ]
  },
  {
   "cell_type": "code",
   "execution_count": 425,
   "metadata": {},
   "outputs": [
    {
     "name": "stdout",
     "output_type": "stream",
     "text": [
      "     Classification          TransientID\n",
      "3342            HPM  1111031520324144272\n"
     ]
    },
    {
     "data": {
      "image/png": "[encoded data removed]",
      "text/plain": [
       "<matplotlib.figure.Figure at 0x7f4f32edc7b8>"
      ]
     },
     "metadata": {},
     "output_type": "display_data"
    }
   ],
   "source": [
    "classified_ids = [1111031520324144272]\n",
    "for ix, _ in enumerate(classified_ids):\n",
    "    lc = lightcurve(classified_ids[ix])\n",
    "    print(df_cat[df_cat.TransientID == classified_ids[ix]])\n",
    "    plot_lightcurve(lc)\n",
    "#    plt.savefig('graphs/binary/trans_corr_{}.png'.format(classified_ids[ix]))\n",
    "#    plt.close()"
   ]
  },
  {
   "cell_type": "markdown",
   "metadata": {},
   "source": [
    "Visualize incorrectly classified in binary task"
   ]
  },
  {
   "cell_type": "code",
   "execution_count": 422,
   "metadata": {},
   "outputs": [
    {
     "name": "stdout",
     "output_type": "stream",
     "text": [
      "    Classification          TransientID\n",
      "709             CV  1509251350694128317\n",
      "    Classification          TransientID\n",
      "365             SN  1603021070274145695\n",
      "     Classification          TransientID\n",
      "1449             SN  1404301350644109127\n",
      "    Classification          TransientID\n",
      "146           AGN?  1607060121174118737\n"
     ]
    }
   ],
   "source": [
    "missclassified_ids = [1509251350694128317, 1603021070274145695, 1404301350644109127, 1607060121174118737]\n",
    "for ix, _ in enumerate(missclassified_ids):\n",
    "    lc = lightcurve(missclassified_ids[ix])\n",
    "    print(df_cat[df_cat.TransientID == missclassified_ids[ix]])\n",
    "    plot_lightcurve(lc)\n",
    "    plt.savefig('graphs/binary/trans_incorr_{}.png'.format(missclassified_ids[ix]))\n",
    "    plt.close()"
   ]
  }
 ],
 "metadata": {
  "kernelspec": {
   "display_name": "Python 3",
   "language": "python",
   "name": "python3"
  },
  "language_info": {
   "codemirror_mode": {
    "name": "ipython",
    "version": 3
   },
   "file_extension": ".py",
   "mimetype": "text/x-python",
   "name": "python",
   "nbconvert_exporter": "python",
   "pygments_lexer": "ipython3",
   "version": "3.5.0"
  }
 },
 "nbformat": 4,
 "nbformat_minor": 2
}
