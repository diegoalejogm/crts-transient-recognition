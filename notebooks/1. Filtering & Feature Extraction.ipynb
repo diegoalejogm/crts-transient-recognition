{
 "cells": [
  {
   "cell_type": "code",
   "execution_count": null,
   "metadata": {},
   "outputs": [],
   "source": [
    "DATA_PATH = '../data/'\n",
    "LIGHTCURVES_PATH = DATA_PATH + 'lightcurves/'\n",
    "FEATURES_PATH = DATA_PATH + 'features/'"
   ]
  },
  {
   "cell_type": "code",
   "execution_count": null,
   "metadata": {
    "scrolled": true
   },
   "outputs": [],
   "source": [
    "import numpy as np\n",
    "import pandas as pd\n",
    "import measurements, extract\n",
    "import matplotlib.pyplot as plt"
   ]
  },
  {
   "cell_type": "code",
   "execution_count": null,
   "metadata": {},
   "outputs": [],
   "source": [
    "np.random.seed(42)"
   ]
  },
  {
   "cell_type": "markdown",
   "metadata": {},
   "source": [
    "Import transient lightcurves"
   ]
  },
  {
   "cell_type": "code",
   "execution_count": null,
   "metadata": {},
   "outputs": [],
   "source": [
    "filename = 'transient_lightcurves.pickle'\n",
    "indir = LIGHTCURVES_PATH; filepath = indir + filename\n",
    "df_tra = pd.read_pickle(filepath)\n",
    "df_tra.shape"
   ]
  },
  {
   "cell_type": "markdown",
   "metadata": {},
   "source": [
    "Filter transient lightcurves"
   ]
  },
  {
   "cell_type": "code",
   "execution_count": null,
   "metadata": {},
   "outputs": [],
   "source": [
    "# Minimum number of observations for each light curve used\n",
    "min_obs = 10"
   ]
  },
  {
   "cell_type": "code",
   "execution_count": null,
   "metadata": {},
   "outputs": [],
   "source": [
    "# Delete rows of blended observations\n",
    "df_tra = df_tra.drop_duplicates(['TransientID','MJD'], keep='first')\n",
    "# Add observation count to every transient\n",
    "df_count = df_tra.groupby('TransientID', as_index=False).count()\n",
    "df_count['ObsCount'] = df_count['Mag']\n",
    "df_count = df_count[['TransientID', 'ObsCount']]\n",
    "df_tra = df_tra.merge(df_count, how='inner')\n",
    "# Remove objects with less than min_obs\n",
    "df_tra = df_tra[df_tra.ObsCount >= min_obs]"
   ]
  },
  {
   "cell_type": "markdown",
   "metadata": {},
   "source": [
    "Import non-transient light curves"
   ]
  },
  {
   "cell_type": "code",
   "execution_count": null,
   "metadata": {},
   "outputs": [],
   "source": [
    "filename = 'nontransient_lightcurves.pickle'\n",
    "indir = LIGHTCURVES_PATH; filepath = indir + filename\n",
    "df_nont = pd.read_pickle(filepath)\n",
    "df_nont.shape"
   ]
  },
  {
   "cell_type": "markdown",
   "metadata": {},
   "source": [
    "Filter non-transient lightcurves"
   ]
  },
  {
   "cell_type": "code",
   "execution_count": null,
   "metadata": {},
   "outputs": [],
   "source": [
    "# Delete rows of blended observations\n",
    "df_nont = df_nont.drop_duplicates(['ID','MJD'], keep='first')\n",
    "# Add observation count to every nontransient\n",
    "df_count = df_nont.groupby('ID', as_index=False).count()\n",
    "df_count['ObsCount'] = df_count['Mag']\n",
    "df_count = df_count[['ID', 'ObsCount']]\n",
    "df_nont = df_nont.merge(df_count, how='inner')\n",
    "# Remove nontransient objects with less than 5 observations\n",
    "df_nont = df_nont[df_nont.ObsCount >= min_obs]\n",
    "df_nont.shape"
   ]
  },
  {
   "cell_type": "code",
   "execution_count": null,
   "metadata": {},
   "outputs": [],
   "source": [
    "# Sample non-transient subset of same size as transients\n",
    "sample_size = df_tra.TransientID.unique().shape[0]\n",
    "IDs = np.random.choice(df_nont.ID.unique(), size=sample_size, replace=False)\n",
    "df_nont = df_nont[df_nont.ID.isin(IDs)]\n",
    "df_nont.ID.unique().shape, df_nont.shape"
   ]
  },
  {
   "cell_type": "markdown",
   "metadata": {},
   "source": [
    "Feature dict creation method"
   ]
  },
  {
   "cell_type": "code",
   "execution_count": null,
   "metadata": {},
   "outputs": [],
   "source": [
    "def feature_dict(num_features=21):\n",
    "    features = [\n",
    "        'ID', 'skew', 'std', 'kurtosis', 'beyond1st', 'stetson_j', 'stetson_k', 'max_slope',\n",
    "        'amplitude', 'median_absolute_deviation', 'median_buffer_range_percentage', 'pair_slope_trend',\n",
    "         'flux_percentile_ratio_mid20', 'flux_percentile_ratio_mid35', 'flux_percentile_ratio_mid50',\n",
    "         'flux_percentile_ratio_mid65', 'flux_percentile_ratio_mid80', 'percent_amplitude',\n",
    "         'percent_difference_flux_percentile', 'linear_trend', 'percent_difference_flux_percentile', 'linear_trend'\n",
    "    ]\n",
    "    if num_features > 21:\n",
    "        features.append(['poly1_a','poly2_a','poly2_b','poly3_a','poly3_b','poly3_c'])\n",
    "    if num_features > 27:\n",
    "         features.append(['poly4_a', 'poly4_b', 'poly4_c', 'poly4_d'])\n",
    "    return { k:[] for k in features}"
   ]
  },
  {
   "cell_type": "code",
   "execution_count": null,
   "metadata": {},
   "outputs": [],
   "source": [
    "# Define number of features to be extracted\n",
    "num_features = 21"
   ]
  },
  {
   "cell_type": "markdown",
   "metadata": {},
   "source": [
    "Extract transient features"
   ]
  },
  {
   "cell_type": "code",
   "execution_count": null,
   "metadata": {
    "scrolled": true
   },
   "outputs": [],
   "source": [
    "# Create empty feature dict\n",
    "tran_feats = feature_dict(num_features)\n",
    "for trID in df_tra.TransientID.unique():\n",
    "    # Get current object light curve\n",
    "    df = df_tra[df_tra.TransientID == trID]\n",
    "    # Get features\n",
    "    obj_feats = extract.features(df, feature_dict)\n",
    "    # Append features\n",
    "    for k,v in tran_feats.items():\n",
    "        if k != 'ID': tran_feats[k].append(obj_feats[k])\n",
    "    tran_feats['ID'].append(trID)\n",
    "# Create feature dataframe\n",
    "df_feat_tran = pd.DataFrame(tran_feats)"
   ]
  },
  {
   "cell_type": "markdown",
   "metadata": {},
   "source": [
    "Count number of features"
   ]
  },
  {
   "cell_type": "code",
   "execution_count": null,
   "metadata": {
    "scrolled": false
   },
   "outputs": [],
   "source": [
    "df_feat_tran.count()"
   ]
  },
  {
   "cell_type": "markdown",
   "metadata": {},
   "source": [
    "Count number of unique features"
   ]
  },
  {
   "cell_type": "code",
   "execution_count": null,
   "metadata": {},
   "outputs": [],
   "source": [
    "df_feat_tran.T.apply(lambda x: x.nunique(), axis=1)"
   ]
  },
  {
   "cell_type": "markdown",
   "metadata": {},
   "source": [
    "Save transient features"
   ]
  },
  {
   "cell_type": "code",
   "execution_count": null,
   "metadata": {},
   "outputs": [],
   "source": [
    "num_features = df_feat_tran.shape[1]-1\n",
    "outdir = FEATURES_PATH\n",
    "filename = 'transient_{}feats_{}obs.pickle'.format(min_obs, num_features) \n",
    "outpath = outdir + filename\n",
    "df_feat_tran.to_pickle(outpath)"
   ]
  },
  {
   "cell_type": "markdown",
   "metadata": {},
   "source": [
    "Extract nontransient features"
   ]
  },
  {
   "cell_type": "code",
   "execution_count": null,
   "metadata": {},
   "outputs": [],
   "source": [
    "# Create empty feature dict\n",
    "nontran_feats = feature_dict(num_features)\n",
    "for ID in df_nont.ID.unique():\n",
    "    # Get current object light curve\n",
    "    df = df_nont[df_nont.ID == ID]\n",
    "    # Get features\n",
    "    obj_feats = extract.features(df, feature_dict)\n",
    "    # Append features\n",
    "    for k,v in nontran_feats.items():\n",
    "        if k != 'ID': nontran_feats[k].append(obj_feats[k])\n",
    "    nontran_feats['ID'].append(trID)\n",
    "# Create feature dataframe\n",
    "df_feat_nontran = pd.DataFrame(nontran_feats)"
   ]
  },
  {
   "cell_type": "markdown",
   "metadata": {},
   "source": [
    "Count number of features"
   ]
  },
  {
   "cell_type": "code",
   "execution_count": null,
   "metadata": {
    "scrolled": false
   },
   "outputs": [],
   "source": [
    "df_feat_nontran.count()"
   ]
  },
  {
   "cell_type": "markdown",
   "metadata": {},
   "source": [
    "Count number of unique features"
   ]
  },
  {
   "cell_type": "code",
   "execution_count": null,
   "metadata": {},
   "outputs": [],
   "source": [
    "df_feat_nontran.T.apply(lambda x: x.nunique(), axis=1)"
   ]
  },
  {
   "cell_type": "markdown",
   "metadata": {},
   "source": [
    "Save nontransient features"
   ]
  },
  {
   "cell_type": "code",
   "execution_count": null,
   "metadata": {},
   "outputs": [],
   "source": [
    "num_features = df_feat_nontran.shape[1]-1\n",
    "outdir = FEATURES_PATH\n",
    "filename = 'nontransient{}feats_{}obs.pickle'.format(min_obs, num_features) \n",
    "outpath = outdir + filename\n",
    "df_feat_nontran.to_pickle(outpath)"
   ]
  }
 ],
 "metadata": {
  "kernelspec": {
   "display_name": "Python 3",
   "language": "python",
   "name": "python3"
  },
  "language_info": {
   "codemirror_mode": {
    "name": "ipython",
    "version": 3
   },
   "file_extension": ".py",
   "mimetype": "text/x-python",
   "name": "python",
   "nbconvert_exporter": "python",
   "pygments_lexer": "ipython3",
   "version": "3.4.0"
  }
 },
 "nbformat": 4,
 "nbformat_minor": 2
}
