{
 "cells": [
  {
   "cell_type": "code",
   "execution_count": 25,
   "metadata": {},
   "outputs": [],
   "source": [
    "%reload_ext autoreload\n",
    "%autoreload 2"
   ]
  },
  {
   "cell_type": "code",
   "execution_count": 1,
   "metadata": {},
   "outputs": [],
   "source": [
    "DATA_PATH = '../data/'\n",
    "LIGHTCURVES_PATH = DATA_PATH + 'lightcurves/'\n",
    "FEATURES_PATH = DATA_PATH + 'features/'"
   ]
  },
  {
   "cell_type": "code",
   "execution_count": 2,
   "metadata": {
    "scrolled": true
   },
   "outputs": [],
   "source": [
    "import numpy as np\n",
    "import pandas as pd\n",
    "import measurements, extract\n",
    "import matplotlib.pyplot as plt"
   ]
  },
  {
   "cell_type": "code",
   "execution_count": 3,
   "metadata": {},
   "outputs": [],
   "source": [
    "def unique_ids_list(df_lcs):\n",
    "    return df_lcs.index.get_level_values('ID').unique().format()\n",
    "\n",
    "def print_num_ids_shape(df_lcs):\n",
    "    unique_ids = unique_ids_list(df_lcs)\n",
    "    print('Num IDs: {}  Shape: {}'.format(len(unique_ids), df_lcs.shape))"
   ]
  },
  {
   "cell_type": "markdown",
   "metadata": {},
   "source": [
    "#### Import"
   ]
  },
  {
   "cell_type": "markdown",
   "metadata": {},
   "source": [
    "Import __transient__ lightcurves"
   ]
  },
  {
   "cell_type": "code",
   "execution_count": 160,
   "metadata": {
    "scrolled": true
   },
   "outputs": [
    {
     "name": "stdout",
     "output_type": "stream",
     "text": [
      "Num IDs: 4869  Shape: (440469, 3)\n"
     ]
    }
   ],
   "source": [
    "filename = 'transient_lightcurves_clean.pickle'\n",
    "indir = LIGHTCURVES_PATH; filepath = indir + filename\n",
    "df_tra = pd.read_pickle(filepath)\n",
    "print_num_ids_shape(df_tra)"
   ]
  },
  {
   "cell_type": "markdown",
   "metadata": {},
   "source": [
    "Import __non-transient__ light curves"
   ]
  },
  {
   "cell_type": "code",
   "execution_count": 161,
   "metadata": {},
   "outputs": [
    {
     "name": "stdout",
     "output_type": "stream",
     "text": [
      "Num IDs: 16940  Shape: (1802695, 3)\n"
     ]
    }
   ],
   "source": [
    "filename = 'nontransient_lightcurves_clean.pickle'\n",
    "indir = LIGHTCURVES_PATH; filepath = indir + filename\n",
    "df_nont = pd.read_pickle(filepath)\n",
    "print_num_ids_shape(df_nont)"
   ]
  },
  {
   "cell_type": "markdown",
   "metadata": {},
   "source": [
    "#### Filter"
   ]
  },
  {
   "cell_type": "code",
   "execution_count": 162,
   "metadata": {},
   "outputs": [],
   "source": [
    "def filter_light_curves(df_lcs, min_obs):\n",
    "    df_count = df_lcs.groupby('ID', as_index=True).count()\n",
    "    df_count['ObsCount'] = df_count['Mag']\n",
    "    df_count = df_count[['ObsCount']]\n",
    "    df_lcs_with_counts = df_lcs.join(df_count, how='inner')\n",
    "    # Remove objects with less than min_obs\n",
    "    df_filtered = df_lcs_with_counts[df_lcs_with_counts.ObsCount >= min_obs]\n",
    "    # Remove ObsCount\n",
    "    df_filtered = df_filtered.drop(['ObsCount'], axis=1)\n",
    "    return df_filtered\n",
    "\n",
    "def sample(df_lcs, num_samples):\n",
    "    # Set random seed\n",
    "    np.random.seed(42)\n",
    "    # Sample non-transient subset of same size as transients\n",
    "    IDs = np.random.choice(unique_ids_list(df_lcs), size=num_samples, replace=False)\n",
    "#     print(IDs); return\n",
    "    df_sampled = df_nont.loc[IDs]\n",
    "    return df_sampled"
   ]
  },
  {
   "cell_type": "markdown",
   "metadata": {},
   "source": [
    "Filter __transient__ light curves"
   ]
  },
  {
   "cell_type": "code",
   "execution_count": 163,
   "metadata": {
    "scrolled": true
   },
   "outputs": [
    {
     "name": "stdout",
     "output_type": "stream",
     "text": [
      "Num IDs: 4269  Shape: (438897, 3)\n",
      "Num IDs: 3615  Shape: (434513, 3)\n"
     ]
    }
   ],
   "source": [
    "df_tra_5 = filter_light_curves(df_tra, 5)\n",
    "print_num_ids_shape(df_tra_5)\n",
    "\n",
    "df_tra_10 = filter_light_curves(df_tra, 10)\n",
    "print_num_ids_shape(df_tra_10)\n",
    "\n",
    "del df_tra"
   ]
  },
  {
   "cell_type": "markdown",
   "metadata": {},
   "source": [
    "Filter __non-transient__ lightcurves"
   ]
  },
  {
   "cell_type": "code",
   "execution_count": 164,
   "metadata": {},
   "outputs": [
    {
     "name": "stdout",
     "output_type": "stream",
     "text": [
      "Num IDs: 15193  Shape: (1798465, 3)\n",
      "Num IDs: 4269  Shape: (513533, 3)\n",
      "---\n",
      "Num IDs: 13801  Shape: (1788967, 3)\n",
      "Num IDs: 3615  Shape: (468588, 3)\n"
     ]
    }
   ],
   "source": [
    "df_nont_5 = filter_light_curves(df_nont, 5)\n",
    "print_num_ids_shape(df_nont_5)\n",
    "df_nont_5 = sample(df_nont_5, len(unique_ids_list(df_tra_5)))\n",
    "print_num_ids_shape(df_nont_5)\n",
    "\n",
    "print('---')\n",
    "\n",
    "df_nont_10 = filter_light_curves(df_nont, 10)\n",
    "print_num_ids_shape(df_nont_10)\n",
    "df_nont_10 = sample(df_nont_10, len(unique_ids_list(df_tra_10)))\n",
    "print_num_ids_shape(df_nont_10)"
   ]
  },
  {
   "cell_type": "markdown",
   "metadata": {},
   "source": [
    "#### Oversample"
   ]
  },
  {
   "cell_type": "code",
   "execution_count": 165,
   "metadata": {},
   "outputs": [],
   "source": [
    "def oversample(df_lcs, copies=0):\n",
    "    df_oversample = df_lcs.copy()\n",
    "    df_oversample['copy_num'] = 0\n",
    "    for i in range(1, copies+1):\n",
    "        df_temp = df_lcs.copy()\n",
    "        df_temp['copy_num'] = i\n",
    "        df_temp['Mag'] = np.random.normal(df_lcs.Mag, df_lcs.Magerr)\n",
    "        df_oversample = df_oversample.append(df_temp)\n",
    "        \n",
    "    df_oversample = df_oversample.set_index(['copy_num'], append=True)\n",
    "    return df_oversample"
   ]
  },
  {
   "cell_type": "markdown",
   "metadata": {},
   "source": [
    "Oversample __transient__ light curves"
   ]
  },
  {
   "cell_type": "code",
   "execution_count": 166,
   "metadata": {},
   "outputs": [
    {
     "name": "stdout",
     "output_type": "stream",
     "text": [
      "Num IDs: 4269  Shape: (3072279, 3)\n",
      "Num IDs: 3615  Shape: (3041591, 3)\n"
     ]
    }
   ],
   "source": [
    "df_tra_5_os = oversample(df_tra_5, 6)\n",
    "print_num_ids_shape(df_tra_5_os)\n",
    "\n",
    "df_tra_10_os = oversample(df_tra_10, 6)\n",
    "print_num_ids_shape(df_tra_10_os)"
   ]
  },
  {
   "cell_type": "code",
   "execution_count": 167,
   "metadata": {},
   "outputs": [],
   "source": [
    "df_tra_5 = oversample(df_tra_5, 0)\n",
    "df_tra_10 = oversample(df_tra_10, 0)"
   ]
  },
  {
   "cell_type": "markdown",
   "metadata": {},
   "source": [
    "\"Oversample\" __nontransient__ light curves"
   ]
  },
  {
   "cell_type": "code",
   "execution_count": 168,
   "metadata": {},
   "outputs": [
    {
     "name": "stdout",
     "output_type": "stream",
     "text": [
      "Num IDs: 4269  Shape: (513533, 3)\n",
      "Num IDs: 3615  Shape: (468588, 3)\n"
     ]
    }
   ],
   "source": [
    "df_nont_5_os = oversample(df_nont_5, 0)\n",
    "print_num_ids_shape(df_nont_5)\n",
    "\n",
    "df_nont_10_os = oversample(df_nont_10, 0)\n",
    "print_num_ids_shape(df_nont_10)"
   ]
  },
  {
   "cell_type": "code",
   "execution_count": 169,
   "metadata": {},
   "outputs": [],
   "source": [
    "df_nont_5 = oversample(df_nont_5, 0)\n",
    "df_nont_10 = oversample(df_nont_10, 0)"
   ]
  },
  {
   "cell_type": "markdown",
   "metadata": {},
   "source": [
    "#### Feature Extraction"
   ]
  },
  {
   "cell_type": "code",
   "execution_count": 196,
   "metadata": {},
   "outputs": [],
   "source": [
    "def extract_features(df_lcs):\n",
    "    # Extract num_copy list\n",
    "    num_copy_list = df_lcs.index.get_level_values('copy_num').unique()    \n",
    "    num_copies = len(num_copy_list)\n",
    "    \n",
    "    # Extract IDs list\n",
    "    unique_ids_list = df_lcs.index.get_level_values('ID').unique()\n",
    "    num_ids = len(unique_ids_list)\n",
    "\n",
    "    # Create empty feature dict\n",
    "    feats_dict = extract.feature_dict(31)\n",
    "    # Add 'ID' and 'copy_num' index lists\n",
    "    index_id_list = []\n",
    "    index_copy_num_list = []\n",
    "    \n",
    "    for num_copy in num_copy_list:\n",
    "        for i, obj_id in enumerate(unique_ids_list):\n",
    "            # Print status\n",
    "            if(i% int(num_ids*num_copies/10) == 0):\n",
    "                print(i, '/', num_ids*num_copies)\n",
    "            # Get current object light curve\n",
    "            df_object = df_lcs.loc[obj_id,:,num_copy]\n",
    "            # Get features\n",
    "            obj_feats = extract.features(df_object, feats_dict)\n",
    "            # Append features\n",
    "            for k,v in feats_dict.items():\n",
    "                feats_dict[k].append(obj_feats[k])\n",
    "            # Append Indexes\n",
    "            index_id_list.append(obj_id)\n",
    "            index_copy_num_list.append(num_copy)\n",
    "    # Create feature dataframe\n",
    "    df_feats = pd.DataFrame(feats_dict).set_index([index_id_list,index_copy_num_list])\n",
    "    df_feats.index.names = ['ID', 'copy_num']\n",
    "    return df_feats\n",
    "\n",
    "def save_features(df_feats, obj_type, min_obs, oversample):\n",
    "    outdir = FEATURES_PATH\n",
    "    filename_raw = '{}_{}obs_{}feat{}.pickle'\n",
    "    oversample_text = '_os' if oversample else ''\n",
    "    \n",
    "    drop_feats_list = [\n",
    "        [], ['poly4_a', 'poly4_b', 'poly4_c', 'poly4_d'],\n",
    "        ['poly1_a','poly2_a','poly2_b','poly3_a','poly3_b','poly3_c']\n",
    "    ]\n",
    "    num_features_list = [30, 26, 20]\n",
    "    \n",
    "    for i in range(3):\n",
    "        df_feats = df_feats.drop(drop_feats_list[i], axis=1)\n",
    "        num_features = df_feats.shape[1]\n",
    "        filename = filename_raw.format(obj_type, min_obs, num_features, oversample_text)\n",
    "        assert(num_features==num_features_list[i])\n",
    "        df_feats.to_pickle(outdir + filename)"
   ]
  },
  {
   "cell_type": "markdown",
   "metadata": {},
   "source": [
    "#### Generate Features"
   ]
  },
  {
   "cell_type": "code",
   "execution_count": 197,
   "metadata": {},
   "outputs": [],
   "source": [
    "def generate_features(df_all, transient, min_obs, oversample):\n",
    "    obj_type = 'T' if transient else 'NT'\n",
    "    # Generate features based on light curves\n",
    "    df_feats = extract_features(df_all)\n",
    "    # Save features\n",
    "    save_features(df_feats, obj_type, min_obs, oversample)\n",
    "    # Log Finished\n",
    "    print('Finished task type={} obs={} is_oversampled={}'.format(\n",
    "        obj_type, min_obs, oversample)\n",
    "         )\n",
    "    return df_feats"
   ]
  },
  {
   "cell_type": "markdown",
   "metadata": {},
   "source": [
    "Generate features __transient__ light curves"
   ]
  },
  {
   "cell_type": "code",
   "execution_count": 198,
   "metadata": {
    "scrolled": true
   },
   "outputs": [
    {
     "name": "stdout",
     "output_type": "stream",
     "text": [
      "0 / 4269\n",
      "426 / 4269\n",
      "852 / 4269\n",
      "1278 / 4269\n",
      "1704 / 4269\n",
      "2130 / 4269\n"
     ]
    },
    {
     "name": "stderr",
     "output_type": "stream",
     "text": [
      "/Users/diego/Desktop/astro/repo/notebooks/measurements.py:221: RankWarning: Polyfit may be poorly conditioned\n",
      "/Users/diego/Desktop/astro/repo/notebooks/measurements.py:221: RankWarning: Polyfit may be poorly conditioned\n",
      "/Users/diego/Desktop/astro/repo/notebooks/measurements.py:221: RankWarning: Polyfit may be poorly conditioned\n",
      "/Users/diego/Desktop/astro/repo/notebooks/measurements.py:221: RankWarning: Polyfit may be poorly conditioned\n",
      "/Users/diego/Desktop/astro/repo/notebooks/measurements.py:221: RankWarning: Polyfit may be poorly conditioned\n",
      "/Users/diego/Desktop/astro/repo/notebooks/measurements.py:221: RankWarning: Polyfit may be poorly conditioned\n",
      "/Users/diego/Desktop/astro/repo/notebooks/measurements.py:221: RankWarning: Polyfit may be poorly conditioned\n",
      "/Users/diego/Desktop/astro/repo/notebooks/measurements.py:221: RankWarning: Polyfit may be poorly conditioned\n",
      "/Users/diego/Desktop/astro/repo/notebooks/measurements.py:221: RankWarning: Polyfit may be poorly conditioned\n",
      "/Users/diego/Desktop/astro/repo/notebooks/measurements.py:221: RankWarning: Polyfit may be poorly conditioned\n",
      "/Users/diego/Desktop/astro/repo/notebooks/measurements.py:221: RankWarning: Polyfit may be poorly conditioned\n",
      "/Users/diego/Desktop/astro/repo/notebooks/measurements.py:221: RankWarning: Polyfit may be poorly conditioned\n",
      "/Users/diego/Desktop/astro/repo/notebooks/measurements.py:221: RankWarning: Polyfit may be poorly conditioned\n",
      "/Users/diego/Desktop/astro/repo/notebooks/measurements.py:221: RankWarning: Polyfit may be poorly conditioned\n",
      "/Users/diego/Desktop/astro/repo/notebooks/measurements.py:221: RankWarning: Polyfit may be poorly conditioned\n",
      "/Users/diego/Desktop/astro/repo/notebooks/measurements.py:221: RankWarning: Polyfit may be poorly conditioned\n"
     ]
    },
    {
     "name": "stdout",
     "output_type": "stream",
     "text": [
      "2556 / 4269\n"
     ]
    },
    {
     "name": "stderr",
     "output_type": "stream",
     "text": [
      "/Users/diego/Desktop/astro/repo/notebooks/measurements.py:221: RankWarning: Polyfit may be poorly conditioned\n",
      "/Users/diego/Desktop/astro/repo/notebooks/measurements.py:221: RankWarning: Polyfit may be poorly conditioned\n",
      "/Users/diego/Desktop/astro/repo/notebooks/measurements.py:221: RankWarning: Polyfit may be poorly conditioned\n",
      "/Users/diego/Desktop/astro/repo/notebooks/measurements.py:221: RankWarning: Polyfit may be poorly conditioned\n",
      "/Users/diego/Desktop/astro/repo/notebooks/measurements.py:221: RankWarning: Polyfit may be poorly conditioned\n",
      "/Users/diego/Desktop/astro/repo/notebooks/measurements.py:221: RankWarning: Polyfit may be poorly conditioned\n",
      "/Users/diego/Desktop/astro/repo/notebooks/measurements.py:221: RankWarning: Polyfit may be poorly conditioned\n",
      "/Users/diego/Desktop/astro/repo/notebooks/measurements.py:221: RankWarning: Polyfit may be poorly conditioned\n",
      "/Users/diego/Desktop/astro/repo/notebooks/measurements.py:221: RankWarning: Polyfit may be poorly conditioned\n",
      "/Users/diego/Desktop/astro/repo/notebooks/measurements.py:221: RankWarning: Polyfit may be poorly conditioned\n",
      "/Users/diego/Desktop/astro/repo/notebooks/measurements.py:221: RankWarning: Polyfit may be poorly conditioned\n",
      "/Users/diego/Desktop/astro/repo/notebooks/measurements.py:221: RankWarning: Polyfit may be poorly conditioned\n",
      "/Users/diego/Desktop/astro/repo/notebooks/measurements.py:221: RankWarning: Polyfit may be poorly conditioned\n",
      "/Users/diego/Desktop/astro/repo/notebooks/measurements.py:221: RankWarning: Polyfit may be poorly conditioned\n",
      "/Users/diego/Desktop/astro/repo/notebooks/measurements.py:221: RankWarning: Polyfit may be poorly conditioned\n",
      "/Users/diego/Desktop/astro/repo/notebooks/measurements.py:221: RankWarning: Polyfit may be poorly conditioned\n",
      "/Users/diego/Desktop/astro/repo/notebooks/measurements.py:221: RankWarning: Polyfit may be poorly conditioned\n",
      "/Users/diego/Desktop/astro/repo/notebooks/measurements.py:221: RankWarning: Polyfit may be poorly conditioned\n",
      "/Users/diego/Desktop/astro/repo/notebooks/measurements.py:221: RankWarning: Polyfit may be poorly conditioned\n",
      "/Users/diego/Desktop/astro/repo/notebooks/measurements.py:221: RankWarning: Polyfit may be poorly conditioned\n",
      "/Users/diego/Desktop/astro/repo/notebooks/measurements.py:221: RankWarning: Polyfit may be poorly conditioned\n"
     ]
    },
    {
     "name": "stdout",
     "output_type": "stream",
     "text": [
      "2982 / 4269\n"
     ]
    },
    {
     "name": "stderr",
     "output_type": "stream",
     "text": [
      "/Users/diego/Desktop/astro/repo/notebooks/measurements.py:221: RankWarning: Polyfit may be poorly conditioned\n",
      "/Users/diego/Desktop/astro/repo/notebooks/measurements.py:221: RankWarning: Polyfit may be poorly conditioned\n",
      "/Users/diego/Desktop/astro/repo/notebooks/measurements.py:221: RankWarning: Polyfit may be poorly conditioned\n",
      "/Users/diego/Desktop/astro/repo/notebooks/measurements.py:221: RankWarning: Polyfit may be poorly conditioned\n",
      "/Users/diego/Desktop/astro/repo/notebooks/measurements.py:221: RankWarning: Polyfit may be poorly conditioned\n",
      "/Users/diego/Desktop/astro/repo/notebooks/measurements.py:221: RankWarning: Polyfit may be poorly conditioned\n",
      "/Users/diego/Desktop/astro/repo/notebooks/measurements.py:221: RankWarning: Polyfit may be poorly conditioned\n",
      "/Users/diego/Desktop/astro/repo/notebooks/measurements.py:221: RankWarning: Polyfit may be poorly conditioned\n",
      "/Users/diego/Desktop/astro/repo/notebooks/measurements.py:221: RankWarning: Polyfit may be poorly conditioned\n",
      "/Users/diego/Desktop/astro/repo/notebooks/measurements.py:221: RankWarning: Polyfit may be poorly conditioned\n",
      "/Users/diego/Desktop/astro/repo/notebooks/measurements.py:221: RankWarning: Polyfit may be poorly conditioned\n",
      "/Users/diego/Desktop/astro/repo/notebooks/measurements.py:221: RankWarning: Polyfit may be poorly conditioned\n",
      "/Users/diego/Desktop/astro/repo/notebooks/measurements.py:221: RankWarning: Polyfit may be poorly conditioned\n",
      "/Users/diego/Desktop/astro/repo/notebooks/measurements.py:221: RankWarning: Polyfit may be poorly conditioned\n",
      "/Users/diego/Desktop/astro/repo/notebooks/measurements.py:221: RankWarning: Polyfit may be poorly conditioned\n",
      "/Users/diego/Desktop/astro/repo/notebooks/measurements.py:221: RankWarning: Polyfit may be poorly conditioned\n",
      "/Users/diego/Desktop/astro/repo/notebooks/measurements.py:221: RankWarning: Polyfit may be poorly conditioned\n",
      "/Users/diego/Desktop/astro/repo/notebooks/measurements.py:221: RankWarning: Polyfit may be poorly conditioned\n"
     ]
    },
    {
     "name": "stdout",
     "output_type": "stream",
     "text": [
      "3408 / 4269\n"
     ]
    },
    {
     "name": "stderr",
     "output_type": "stream",
     "text": [
      "/Users/diego/Desktop/astro/repo/notebooks/measurements.py:221: RankWarning: Polyfit may be poorly conditioned\n",
      "/Users/diego/Desktop/astro/repo/notebooks/measurements.py:221: RankWarning: Polyfit may be poorly conditioned\n",
      "/Users/diego/Desktop/astro/repo/notebooks/measurements.py:221: RankWarning: Polyfit may be poorly conditioned\n",
      "/Users/diego/Desktop/astro/repo/notebooks/measurements.py:221: RankWarning: Polyfit may be poorly conditioned\n",
      "/Users/diego/Desktop/astro/repo/notebooks/measurements.py:221: RankWarning: Polyfit may be poorly conditioned\n",
      "/Users/diego/Desktop/astro/repo/notebooks/measurements.py:221: RankWarning: Polyfit may be poorly conditioned\n",
      "/Users/diego/Desktop/astro/repo/notebooks/measurements.py:221: RankWarning: Polyfit may be poorly conditioned\n",
      "/Users/diego/Desktop/astro/repo/notebooks/measurements.py:221: RankWarning: Polyfit may be poorly conditioned\n",
      "/Users/diego/Desktop/astro/repo/notebooks/measurements.py:221: RankWarning: Polyfit may be poorly conditioned\n",
      "/Users/diego/Desktop/astro/repo/notebooks/measurements.py:221: RankWarning: Polyfit may be poorly conditioned\n",
      "/Users/diego/Desktop/astro/repo/notebooks/measurements.py:221: RankWarning: Polyfit may be poorly conditioned\n",
      "/Users/diego/Desktop/astro/repo/notebooks/measurements.py:221: RankWarning: Polyfit may be poorly conditioned\n",
      "/Users/diego/Desktop/astro/repo/notebooks/measurements.py:221: RankWarning: Polyfit may be poorly conditioned\n"
     ]
    },
    {
     "name": "stdout",
     "output_type": "stream",
     "text": [
      "3834 / 4269\n"
     ]
    },
    {
     "name": "stderr",
     "output_type": "stream",
     "text": [
      "/Users/diego/Desktop/astro/repo/notebooks/measurements.py:221: RankWarning: Polyfit may be poorly conditioned\n",
      "/Users/diego/Desktop/astro/repo/notebooks/measurements.py:221: RankWarning: Polyfit may be poorly conditioned\n",
      "/Users/diego/Desktop/astro/repo/notebooks/measurements.py:221: RankWarning: Polyfit may be poorly conditioned\n",
      "/Users/diego/Desktop/astro/repo/notebooks/measurements.py:221: RankWarning: Polyfit may be poorly conditioned\n",
      "/Users/diego/Desktop/astro/repo/notebooks/measurements.py:221: RankWarning: Polyfit may be poorly conditioned\n",
      "/Users/diego/Desktop/astro/repo/notebooks/measurements.py:221: RankWarning: Polyfit may be poorly conditioned\n",
      "/Users/diego/Desktop/astro/repo/notebooks/measurements.py:221: RankWarning: Polyfit may be poorly conditioned\n",
      "/Users/diego/Desktop/astro/repo/notebooks/measurements.py:221: RankWarning: Polyfit may be poorly conditioned\n",
      "/Users/diego/Desktop/astro/repo/notebooks/measurements.py:221: RankWarning: Polyfit may be poorly conditioned\n",
      "/Users/diego/Desktop/astro/repo/notebooks/measurements.py:221: RankWarning: Polyfit may be poorly conditioned\n",
      "/Users/diego/Desktop/astro/repo/notebooks/measurements.py:221: RankWarning: Polyfit may be poorly conditioned\n",
      "/Users/diego/Desktop/astro/repo/notebooks/measurements.py:221: RankWarning: Polyfit may be poorly conditioned\n"
     ]
    },
    {
     "name": "stdout",
     "output_type": "stream",
     "text": [
      "4260 / 4269\n",
      "Finished task type=T obs=5 is_oversampled=False\n",
      "0 / 29883\n"
     ]
    },
    {
     "name": "stderr",
     "output_type": "stream",
     "text": [
      "/Users/diego/Desktop/astro/repo/notebooks/measurements.py:221: RankWarning: Polyfit may be poorly conditioned\n",
      "/Users/diego/Desktop/astro/repo/notebooks/measurements.py:221: RankWarning: Polyfit may be poorly conditioned\n",
      "/Users/diego/Desktop/astro/repo/notebooks/measurements.py:221: RankWarning: Polyfit may be poorly conditioned\n",
      "/Users/diego/Desktop/astro/repo/notebooks/measurements.py:221: RankWarning: Polyfit may be poorly conditioned\n",
      "/Users/diego/Desktop/astro/repo/notebooks/measurements.py:221: RankWarning: Polyfit may be poorly conditioned\n",
      "/Users/diego/Desktop/astro/repo/notebooks/measurements.py:221: RankWarning: Polyfit may be poorly conditioned\n",
      "/Users/diego/Desktop/astro/repo/notebooks/measurements.py:221: RankWarning: Polyfit may be poorly conditioned\n",
      "/Users/diego/Desktop/astro/repo/notebooks/measurements.py:221: RankWarning: Polyfit may be poorly conditioned\n",
      "/Users/diego/Desktop/astro/repo/notebooks/measurements.py:221: RankWarning: Polyfit may be poorly conditioned\n",
      "/Users/diego/Desktop/astro/repo/notebooks/measurements.py:221: RankWarning: Polyfit may be poorly conditioned\n",
      "/Users/diego/Desktop/astro/repo/notebooks/measurements.py:221: RankWarning: Polyfit may be poorly conditioned\n",
      "/Users/diego/Desktop/astro/repo/notebooks/measurements.py:221: RankWarning: Polyfit may be poorly conditioned\n",
      "/Users/diego/Desktop/astro/repo/notebooks/measurements.py:221: RankWarning: Polyfit may be poorly conditioned\n",
      "/Users/diego/Desktop/astro/repo/notebooks/measurements.py:221: RankWarning: Polyfit may be poorly conditioned\n",
      "/Users/diego/Desktop/astro/repo/notebooks/measurements.py:221: RankWarning: Polyfit may be poorly conditioned\n",
      "/Users/diego/Desktop/astro/repo/notebooks/measurements.py:221: RankWarning: Polyfit may be poorly conditioned\n",
      "/Users/diego/Desktop/astro/repo/notebooks/measurements.py:221: RankWarning: Polyfit may be poorly conditioned\n",
      "/Users/diego/Desktop/astro/repo/notebooks/measurements.py:221: RankWarning: Polyfit may be poorly conditioned\n",
      "/Users/diego/Desktop/astro/repo/notebooks/measurements.py:221: RankWarning: Polyfit may be poorly conditioned\n",
      "/Users/diego/Desktop/astro/repo/notebooks/measurements.py:221: RankWarning: Polyfit may be poorly conditioned\n",
      "/Users/diego/Desktop/astro/repo/notebooks/measurements.py:221: RankWarning: Polyfit may be poorly conditioned\n",
      "/Users/diego/Desktop/astro/repo/notebooks/measurements.py:221: RankWarning: Polyfit may be poorly conditioned\n",
      "/Users/diego/Desktop/astro/repo/notebooks/measurements.py:221: RankWarning: Polyfit may be poorly conditioned\n",
      "/Users/diego/Desktop/astro/repo/notebooks/measurements.py:221: RankWarning: Polyfit may be poorly conditioned\n",
      "/Users/diego/Desktop/astro/repo/notebooks/measurements.py:221: RankWarning: Polyfit may be poorly conditioned\n",
      "/Users/diego/Desktop/astro/repo/notebooks/measurements.py:221: RankWarning: Polyfit may be poorly conditioned\n",
      "/Users/diego/Desktop/astro/repo/notebooks/measurements.py:221: RankWarning: Polyfit may be poorly conditioned\n",
      "/Users/diego/Desktop/astro/repo/notebooks/measurements.py:221: RankWarning: Polyfit may be poorly conditioned\n",
      "/Users/diego/Desktop/astro/repo/notebooks/measurements.py:221: RankWarning: Polyfit may be poorly conditioned\n",
      "/Users/diego/Desktop/astro/repo/notebooks/measurements.py:221: RankWarning: Polyfit may be poorly conditioned\n",
      "/Users/diego/Desktop/astro/repo/notebooks/measurements.py:221: RankWarning: Polyfit may be poorly conditioned\n",
      "/Users/diego/Desktop/astro/repo/notebooks/measurements.py:221: RankWarning: Polyfit may be poorly conditioned\n",
      "/Users/diego/Desktop/astro/repo/notebooks/measurements.py:221: RankWarning: Polyfit may be poorly conditioned\n",
      "/Users/diego/Desktop/astro/repo/notebooks/measurements.py:221: RankWarning: Polyfit may be poorly conditioned\n",
      "/Users/diego/Desktop/astro/repo/notebooks/measurements.py:221: RankWarning: Polyfit may be poorly conditioned\n",
      "/Users/diego/Desktop/astro/repo/notebooks/measurements.py:221: RankWarning: Polyfit may be poorly conditioned\n",
      "/Users/diego/Desktop/astro/repo/notebooks/measurements.py:221: RankWarning: Polyfit may be poorly conditioned\n",
      "/Users/diego/Desktop/astro/repo/notebooks/measurements.py:221: RankWarning: Polyfit may be poorly conditioned\n"
     ]
    },
    {
     "name": "stdout",
     "output_type": "stream",
     "text": [
      "2988 / 29883\n"
     ]
    },
    {
     "name": "stderr",
     "output_type": "stream",
     "text": [
      "/Users/diego/Desktop/astro/repo/notebooks/measurements.py:221: RankWarning: Polyfit may be poorly conditioned\n",
      "/Users/diego/Desktop/astro/repo/notebooks/measurements.py:221: RankWarning: Polyfit may be poorly conditioned\n",
      "/Users/diego/Desktop/astro/repo/notebooks/measurements.py:221: RankWarning: Polyfit may be poorly conditioned\n",
      "/Users/diego/Desktop/astro/repo/notebooks/measurements.py:221: RankWarning: Polyfit may be poorly conditioned\n",
      "/Users/diego/Desktop/astro/repo/notebooks/measurements.py:221: RankWarning: Polyfit may be poorly conditioned\n",
      "/Users/diego/Desktop/astro/repo/notebooks/measurements.py:221: RankWarning: Polyfit may be poorly conditioned\n",
      "/Users/diego/Desktop/astro/repo/notebooks/measurements.py:221: RankWarning: Polyfit may be poorly conditioned\n",
      "/Users/diego/Desktop/astro/repo/notebooks/measurements.py:221: RankWarning: Polyfit may be poorly conditioned\n",
      "/Users/diego/Desktop/astro/repo/notebooks/measurements.py:221: RankWarning: Polyfit may be poorly conditioned\n",
      "/Users/diego/Desktop/astro/repo/notebooks/measurements.py:221: RankWarning: Polyfit may be poorly conditioned\n",
      "/Users/diego/Desktop/astro/repo/notebooks/measurements.py:221: RankWarning: Polyfit may be poorly conditioned\n",
      "/Users/diego/Desktop/astro/repo/notebooks/measurements.py:221: RankWarning: Polyfit may be poorly conditioned\n",
      "/Users/diego/Desktop/astro/repo/notebooks/measurements.py:221: RankWarning: Polyfit may be poorly conditioned\n",
      "/Users/diego/Desktop/astro/repo/notebooks/measurements.py:221: RankWarning: Polyfit may be poorly conditioned\n",
      "/Users/diego/Desktop/astro/repo/notebooks/measurements.py:221: RankWarning: Polyfit may be poorly conditioned\n",
      "/Users/diego/Desktop/astro/repo/notebooks/measurements.py:221: RankWarning: Polyfit may be poorly conditioned\n",
      "/Users/diego/Desktop/astro/repo/notebooks/measurements.py:221: RankWarning: Polyfit may be poorly conditioned\n",
      "/Users/diego/Desktop/astro/repo/notebooks/measurements.py:221: RankWarning: Polyfit may be poorly conditioned\n",
      "/Users/diego/Desktop/astro/repo/notebooks/measurements.py:221: RankWarning: Polyfit may be poorly conditioned\n",
      "/Users/diego/Desktop/astro/repo/notebooks/measurements.py:221: RankWarning: Polyfit may be poorly conditioned\n",
      "/Users/diego/Desktop/astro/repo/notebooks/measurements.py:221: RankWarning: Polyfit may be poorly conditioned\n",
      "/Users/diego/Desktop/astro/repo/notebooks/measurements.py:221: RankWarning: Polyfit may be poorly conditioned\n",
      "/Users/diego/Desktop/astro/repo/notebooks/measurements.py:221: RankWarning: Polyfit may be poorly conditioned\n",
      "/Users/diego/Desktop/astro/repo/notebooks/measurements.py:221: RankWarning: Polyfit may be poorly conditioned\n",
      "/Users/diego/Desktop/astro/repo/notebooks/measurements.py:221: RankWarning: Polyfit may be poorly conditioned\n",
      "/Users/diego/Desktop/astro/repo/notebooks/measurements.py:221: RankWarning: Polyfit may be poorly conditioned\n",
      "/Users/diego/Desktop/astro/repo/notebooks/measurements.py:221: RankWarning: Polyfit may be poorly conditioned\n",
      "/Users/diego/Desktop/astro/repo/notebooks/measurements.py:221: RankWarning: Polyfit may be poorly conditioned\n",
      "/Users/diego/Desktop/astro/repo/notebooks/measurements.py:221: RankWarning: Polyfit may be poorly conditioned\n",
      "/Users/diego/Desktop/astro/repo/notebooks/measurements.py:221: RankWarning: Polyfit may be poorly conditioned\n",
      "/Users/diego/Desktop/astro/repo/notebooks/measurements.py:221: RankWarning: Polyfit may be poorly conditioned\n",
      "/Users/diego/Desktop/astro/repo/notebooks/measurements.py:221: RankWarning: Polyfit may be poorly conditioned\n",
      "/Users/diego/Desktop/astro/repo/notebooks/measurements.py:221: RankWarning: Polyfit may be poorly conditioned\n",
      "/Users/diego/Desktop/astro/repo/notebooks/measurements.py:221: RankWarning: Polyfit may be poorly conditioned\n",
      "/Users/diego/Desktop/astro/repo/notebooks/measurements.py:221: RankWarning: Polyfit may be poorly conditioned\n",
      "/Users/diego/Desktop/astro/repo/notebooks/measurements.py:221: RankWarning: Polyfit may be poorly conditioned\n",
      "/Users/diego/Desktop/astro/repo/notebooks/measurements.py:221: RankWarning: Polyfit may be poorly conditioned\n",
      "/Users/diego/Desktop/astro/repo/notebooks/measurements.py:221: RankWarning: Polyfit may be poorly conditioned\n",
      "/Users/diego/Desktop/astro/repo/notebooks/measurements.py:221: RankWarning: Polyfit may be poorly conditioned\n",
      "/Users/diego/Desktop/astro/repo/notebooks/measurements.py:221: RankWarning: Polyfit may be poorly conditioned\n",
      "/Users/diego/Desktop/astro/repo/notebooks/measurements.py:221: RankWarning: Polyfit may be poorly conditioned\n",
      "/Users/diego/Desktop/astro/repo/notebooks/measurements.py:221: RankWarning: Polyfit may be poorly conditioned\n"
     ]
    },
    {
     "name": "stdout",
     "output_type": "stream",
     "text": [
      "0 / 29883\n"
     ]
    },
    {
     "name": "stderr",
     "output_type": "stream",
     "text": [
      "/Users/diego/Desktop/astro/repo/notebooks/measurements.py:221: RankWarning: Polyfit may be poorly conditioned\n",
      "/Users/diego/Desktop/astro/repo/notebooks/measurements.py:221: RankWarning: Polyfit may be poorly conditioned\n",
      "/Users/diego/Desktop/astro/repo/notebooks/measurements.py:221: RankWarning: Polyfit may be poorly conditioned\n",
      "/Users/diego/Desktop/astro/repo/notebooks/measurements.py:221: RankWarning: Polyfit may be poorly conditioned\n",
      "/Users/diego/Desktop/astro/repo/notebooks/measurements.py:221: RankWarning: Polyfit may be poorly conditioned\n",
      "/Users/diego/Desktop/astro/repo/notebooks/measurements.py:221: RankWarning: Polyfit may be poorly conditioned\n",
      "/Users/diego/Desktop/astro/repo/notebooks/measurements.py:221: RankWarning: Polyfit may be poorly conditioned\n",
      "/Users/diego/Desktop/astro/repo/notebooks/measurements.py:221: RankWarning: Polyfit may be poorly conditioned\n",
      "/Users/diego/Desktop/astro/repo/notebooks/measurements.py:221: RankWarning: Polyfit may be poorly conditioned\n",
      "/Users/diego/Desktop/astro/repo/notebooks/measurements.py:221: RankWarning: Polyfit may be poorly conditioned\n",
      "/Users/diego/Desktop/astro/repo/notebooks/measurements.py:221: RankWarning: Polyfit may be poorly conditioned\n",
      "/Users/diego/Desktop/astro/repo/notebooks/measurements.py:221: RankWarning: Polyfit may be poorly conditioned\n",
      "/Users/diego/Desktop/astro/repo/notebooks/measurements.py:221: RankWarning: Polyfit may be poorly conditioned\n",
      "/Users/diego/Desktop/astro/repo/notebooks/measurements.py:221: RankWarning: Polyfit may be poorly conditioned\n",
      "/Users/diego/Desktop/astro/repo/notebooks/measurements.py:221: RankWarning: Polyfit may be poorly conditioned\n",
      "/Users/diego/Desktop/astro/repo/notebooks/measurements.py:221: RankWarning: Polyfit may be poorly conditioned\n",
      "/Users/diego/Desktop/astro/repo/notebooks/measurements.py:221: RankWarning: Polyfit may be poorly conditioned\n",
      "/Users/diego/Desktop/astro/repo/notebooks/measurements.py:221: RankWarning: Polyfit may be poorly conditioned\n",
      "/Users/diego/Desktop/astro/repo/notebooks/measurements.py:221: RankWarning: Polyfit may be poorly conditioned\n",
      "/Users/diego/Desktop/astro/repo/notebooks/measurements.py:221: RankWarning: Polyfit may be poorly conditioned\n",
      "/Users/diego/Desktop/astro/repo/notebooks/measurements.py:221: RankWarning: Polyfit may be poorly conditioned\n",
      "/Users/diego/Desktop/astro/repo/notebooks/measurements.py:221: RankWarning: Polyfit may be poorly conditioned\n",
      "/Users/diego/Desktop/astro/repo/notebooks/measurements.py:221: RankWarning: Polyfit may be poorly conditioned\n",
      "/Users/diego/Desktop/astro/repo/notebooks/measurements.py:221: RankWarning: Polyfit may be poorly conditioned\n",
      "/Users/diego/Desktop/astro/repo/notebooks/measurements.py:221: RankWarning: Polyfit may be poorly conditioned\n",
      "/Users/diego/Desktop/astro/repo/notebooks/measurements.py:221: RankWarning: Polyfit may be poorly conditioned\n",
      "/Users/diego/Desktop/astro/repo/notebooks/measurements.py:221: RankWarning: Polyfit may be poorly conditioned\n",
      "/Users/diego/Desktop/astro/repo/notebooks/measurements.py:221: RankWarning: Polyfit may be poorly conditioned\n",
      "/Users/diego/Desktop/astro/repo/notebooks/measurements.py:221: RankWarning: Polyfit may be poorly conditioned\n",
      "/Users/diego/Desktop/astro/repo/notebooks/measurements.py:221: RankWarning: Polyfit may be poorly conditioned\n",
      "/Users/diego/Desktop/astro/repo/notebooks/measurements.py:221: RankWarning: Polyfit may be poorly conditioned\n",
      "/Users/diego/Desktop/astro/repo/notebooks/measurements.py:221: RankWarning: Polyfit may be poorly conditioned\n",
      "/Users/diego/Desktop/astro/repo/notebooks/measurements.py:221: RankWarning: Polyfit may be poorly conditioned\n",
      "/Users/diego/Desktop/astro/repo/notebooks/measurements.py:221: RankWarning: Polyfit may be poorly conditioned\n",
      "/Users/diego/Desktop/astro/repo/notebooks/measurements.py:221: RankWarning: Polyfit may be poorly conditioned\n",
      "/Users/diego/Desktop/astro/repo/notebooks/measurements.py:221: RankWarning: Polyfit may be poorly conditioned\n",
      "/Users/diego/Desktop/astro/repo/notebooks/measurements.py:221: RankWarning: Polyfit may be poorly conditioned\n",
      "/Users/diego/Desktop/astro/repo/notebooks/measurements.py:221: RankWarning: Polyfit may be poorly conditioned\n"
     ]
    },
    {
     "name": "stdout",
     "output_type": "stream",
     "text": [
      "2988 / 29883\n"
     ]
    },
    {
     "name": "stderr",
     "output_type": "stream",
     "text": [
      "/Users/diego/Desktop/astro/repo/notebooks/measurements.py:221: RankWarning: Polyfit may be poorly conditioned\n",
      "/Users/diego/Desktop/astro/repo/notebooks/measurements.py:221: RankWarning: Polyfit may be poorly conditioned\n",
      "/Users/diego/Desktop/astro/repo/notebooks/measurements.py:221: RankWarning: Polyfit may be poorly conditioned\n",
      "/Users/diego/Desktop/astro/repo/notebooks/measurements.py:221: RankWarning: Polyfit may be poorly conditioned\n",
      "/Users/diego/Desktop/astro/repo/notebooks/measurements.py:221: RankWarning: Polyfit may be poorly conditioned\n",
      "/Users/diego/Desktop/astro/repo/notebooks/measurements.py:221: RankWarning: Polyfit may be poorly conditioned\n",
      "/Users/diego/Desktop/astro/repo/notebooks/measurements.py:221: RankWarning: Polyfit may be poorly conditioned\n",
      "/Users/diego/Desktop/astro/repo/notebooks/measurements.py:221: RankWarning: Polyfit may be poorly conditioned\n",
      "/Users/diego/Desktop/astro/repo/notebooks/measurements.py:221: RankWarning: Polyfit may be poorly conditioned\n",
      "/Users/diego/Desktop/astro/repo/notebooks/measurements.py:221: RankWarning: Polyfit may be poorly conditioned\n",
      "/Users/diego/Desktop/astro/repo/notebooks/measurements.py:221: RankWarning: Polyfit may be poorly conditioned\n",
      "/Users/diego/Desktop/astro/repo/notebooks/measurements.py:221: RankWarning: Polyfit may be poorly conditioned\n",
      "/Users/diego/Desktop/astro/repo/notebooks/measurements.py:221: RankWarning: Polyfit may be poorly conditioned\n",
      "/Users/diego/Desktop/astro/repo/notebooks/measurements.py:221: RankWarning: Polyfit may be poorly conditioned\n",
      "/Users/diego/Desktop/astro/repo/notebooks/measurements.py:221: RankWarning: Polyfit may be poorly conditioned\n",
      "/Users/diego/Desktop/astro/repo/notebooks/measurements.py:221: RankWarning: Polyfit may be poorly conditioned\n",
      "/Users/diego/Desktop/astro/repo/notebooks/measurements.py:221: RankWarning: Polyfit may be poorly conditioned\n",
      "/Users/diego/Desktop/astro/repo/notebooks/measurements.py:221: RankWarning: Polyfit may be poorly conditioned\n",
      "/Users/diego/Desktop/astro/repo/notebooks/measurements.py:221: RankWarning: Polyfit may be poorly conditioned\n",
      "/Users/diego/Desktop/astro/repo/notebooks/measurements.py:221: RankWarning: Polyfit may be poorly conditioned\n",
      "/Users/diego/Desktop/astro/repo/notebooks/measurements.py:221: RankWarning: Polyfit may be poorly conditioned\n",
      "/Users/diego/Desktop/astro/repo/notebooks/measurements.py:221: RankWarning: Polyfit may be poorly conditioned\n",
      "/Users/diego/Desktop/astro/repo/notebooks/measurements.py:221: RankWarning: Polyfit may be poorly conditioned\n",
      "/Users/diego/Desktop/astro/repo/notebooks/measurements.py:221: RankWarning: Polyfit may be poorly conditioned\n",
      "/Users/diego/Desktop/astro/repo/notebooks/measurements.py:221: RankWarning: Polyfit may be poorly conditioned\n",
      "/Users/diego/Desktop/astro/repo/notebooks/measurements.py:221: RankWarning: Polyfit may be poorly conditioned\n",
      "/Users/diego/Desktop/astro/repo/notebooks/measurements.py:221: RankWarning: Polyfit may be poorly conditioned\n",
      "/Users/diego/Desktop/astro/repo/notebooks/measurements.py:221: RankWarning: Polyfit may be poorly conditioned\n",
      "/Users/diego/Desktop/astro/repo/notebooks/measurements.py:221: RankWarning: Polyfit may be poorly conditioned\n",
      "/Users/diego/Desktop/astro/repo/notebooks/measurements.py:221: RankWarning: Polyfit may be poorly conditioned\n",
      "/Users/diego/Desktop/astro/repo/notebooks/measurements.py:221: RankWarning: Polyfit may be poorly conditioned\n",
      "/Users/diego/Desktop/astro/repo/notebooks/measurements.py:221: RankWarning: Polyfit may be poorly conditioned\n",
      "/Users/diego/Desktop/astro/repo/notebooks/measurements.py:221: RankWarning: Polyfit may be poorly conditioned\n",
      "/Users/diego/Desktop/astro/repo/notebooks/measurements.py:221: RankWarning: Polyfit may be poorly conditioned\n",
      "/Users/diego/Desktop/astro/repo/notebooks/measurements.py:221: RankWarning: Polyfit may be poorly conditioned\n",
      "/Users/diego/Desktop/astro/repo/notebooks/measurements.py:221: RankWarning: Polyfit may be poorly conditioned\n",
      "/Users/diego/Desktop/astro/repo/notebooks/measurements.py:221: RankWarning: Polyfit may be poorly conditioned\n",
      "/Users/diego/Desktop/astro/repo/notebooks/measurements.py:221: RankWarning: Polyfit may be poorly conditioned\n",
      "/Users/diego/Desktop/astro/repo/notebooks/measurements.py:221: RankWarning: Polyfit may be poorly conditioned\n",
      "/Users/diego/Desktop/astro/repo/notebooks/measurements.py:221: RankWarning: Polyfit may be poorly conditioned\n",
      "/Users/diego/Desktop/astro/repo/notebooks/measurements.py:221: RankWarning: Polyfit may be poorly conditioned\n",
      "/Users/diego/Desktop/astro/repo/notebooks/measurements.py:221: RankWarning: Polyfit may be poorly conditioned\n"
     ]
    },
    {
     "name": "stdout",
     "output_type": "stream",
     "text": [
      "0 / 29883\n"
     ]
    },
    {
     "name": "stderr",
     "output_type": "stream",
     "text": [
      "/Users/diego/Desktop/astro/repo/notebooks/measurements.py:221: RankWarning: Polyfit may be poorly conditioned\n",
      "/Users/diego/Desktop/astro/repo/notebooks/measurements.py:221: RankWarning: Polyfit may be poorly conditioned\n",
      "/Users/diego/Desktop/astro/repo/notebooks/measurements.py:221: RankWarning: Polyfit may be poorly conditioned\n",
      "/Users/diego/Desktop/astro/repo/notebooks/measurements.py:221: RankWarning: Polyfit may be poorly conditioned\n",
      "/Users/diego/Desktop/astro/repo/notebooks/measurements.py:221: RankWarning: Polyfit may be poorly conditioned\n",
      "/Users/diego/Desktop/astro/repo/notebooks/measurements.py:221: RankWarning: Polyfit may be poorly conditioned\n",
      "/Users/diego/Desktop/astro/repo/notebooks/measurements.py:221: RankWarning: Polyfit may be poorly conditioned\n",
      "/Users/diego/Desktop/astro/repo/notebooks/measurements.py:221: RankWarning: Polyfit may be poorly conditioned\n",
      "/Users/diego/Desktop/astro/repo/notebooks/measurements.py:221: RankWarning: Polyfit may be poorly conditioned\n",
      "/Users/diego/Desktop/astro/repo/notebooks/measurements.py:221: RankWarning: Polyfit may be poorly conditioned\n",
      "/Users/diego/Desktop/astro/repo/notebooks/measurements.py:221: RankWarning: Polyfit may be poorly conditioned\n",
      "/Users/diego/Desktop/astro/repo/notebooks/measurements.py:221: RankWarning: Polyfit may be poorly conditioned\n",
      "/Users/diego/Desktop/astro/repo/notebooks/measurements.py:221: RankWarning: Polyfit may be poorly conditioned\n",
      "/Users/diego/Desktop/astro/repo/notebooks/measurements.py:221: RankWarning: Polyfit may be poorly conditioned\n",
      "/Users/diego/Desktop/astro/repo/notebooks/measurements.py:221: RankWarning: Polyfit may be poorly conditioned\n",
      "/Users/diego/Desktop/astro/repo/notebooks/measurements.py:221: RankWarning: Polyfit may be poorly conditioned\n",
      "/Users/diego/Desktop/astro/repo/notebooks/measurements.py:221: RankWarning: Polyfit may be poorly conditioned\n",
      "/Users/diego/Desktop/astro/repo/notebooks/measurements.py:221: RankWarning: Polyfit may be poorly conditioned\n",
      "/Users/diego/Desktop/astro/repo/notebooks/measurements.py:221: RankWarning: Polyfit may be poorly conditioned\n",
      "/Users/diego/Desktop/astro/repo/notebooks/measurements.py:221: RankWarning: Polyfit may be poorly conditioned\n",
      "/Users/diego/Desktop/astro/repo/notebooks/measurements.py:221: RankWarning: Polyfit may be poorly conditioned\n",
      "/Users/diego/Desktop/astro/repo/notebooks/measurements.py:221: RankWarning: Polyfit may be poorly conditioned\n",
      "/Users/diego/Desktop/astro/repo/notebooks/measurements.py:221: RankWarning: Polyfit may be poorly conditioned\n",
      "/Users/diego/Desktop/astro/repo/notebooks/measurements.py:221: RankWarning: Polyfit may be poorly conditioned\n",
      "/Users/diego/Desktop/astro/repo/notebooks/measurements.py:221: RankWarning: Polyfit may be poorly conditioned\n",
      "/Users/diego/Desktop/astro/repo/notebooks/measurements.py:221: RankWarning: Polyfit may be poorly conditioned\n",
      "/Users/diego/Desktop/astro/repo/notebooks/measurements.py:221: RankWarning: Polyfit may be poorly conditioned\n",
      "/Users/diego/Desktop/astro/repo/notebooks/measurements.py:221: RankWarning: Polyfit may be poorly conditioned\n",
      "/Users/diego/Desktop/astro/repo/notebooks/measurements.py:221: RankWarning: Polyfit may be poorly conditioned\n",
      "/Users/diego/Desktop/astro/repo/notebooks/measurements.py:221: RankWarning: Polyfit may be poorly conditioned\n",
      "/Users/diego/Desktop/astro/repo/notebooks/measurements.py:221: RankWarning: Polyfit may be poorly conditioned\n",
      "/Users/diego/Desktop/astro/repo/notebooks/measurements.py:221: RankWarning: Polyfit may be poorly conditioned\n",
      "/Users/diego/Desktop/astro/repo/notebooks/measurements.py:221: RankWarning: Polyfit may be poorly conditioned\n",
      "/Users/diego/Desktop/astro/repo/notebooks/measurements.py:221: RankWarning: Polyfit may be poorly conditioned\n",
      "/Users/diego/Desktop/astro/repo/notebooks/measurements.py:221: RankWarning: Polyfit may be poorly conditioned\n",
      "/Users/diego/Desktop/astro/repo/notebooks/measurements.py:221: RankWarning: Polyfit may be poorly conditioned\n",
      "/Users/diego/Desktop/astro/repo/notebooks/measurements.py:221: RankWarning: Polyfit may be poorly conditioned\n",
      "/Users/diego/Desktop/astro/repo/notebooks/measurements.py:221: RankWarning: Polyfit may be poorly conditioned\n"
     ]
    },
    {
     "name": "stdout",
     "output_type": "stream",
     "text": [
      "2988 / 29883\n"
     ]
    },
    {
     "name": "stderr",
     "output_type": "stream",
     "text": [
      "/Users/diego/Desktop/astro/repo/notebooks/measurements.py:221: RankWarning: Polyfit may be poorly conditioned\n",
      "/Users/diego/Desktop/astro/repo/notebooks/measurements.py:221: RankWarning: Polyfit may be poorly conditioned\n",
      "/Users/diego/Desktop/astro/repo/notebooks/measurements.py:221: RankWarning: Polyfit may be poorly conditioned\n",
      "/Users/diego/Desktop/astro/repo/notebooks/measurements.py:221: RankWarning: Polyfit may be poorly conditioned\n",
      "/Users/diego/Desktop/astro/repo/notebooks/measurements.py:221: RankWarning: Polyfit may be poorly conditioned\n",
      "/Users/diego/Desktop/astro/repo/notebooks/measurements.py:221: RankWarning: Polyfit may be poorly conditioned\n",
      "/Users/diego/Desktop/astro/repo/notebooks/measurements.py:221: RankWarning: Polyfit may be poorly conditioned\n",
      "/Users/diego/Desktop/astro/repo/notebooks/measurements.py:221: RankWarning: Polyfit may be poorly conditioned\n",
      "/Users/diego/Desktop/astro/repo/notebooks/measurements.py:221: RankWarning: Polyfit may be poorly conditioned\n",
      "/Users/diego/Desktop/astro/repo/notebooks/measurements.py:221: RankWarning: Polyfit may be poorly conditioned\n",
      "/Users/diego/Desktop/astro/repo/notebooks/measurements.py:221: RankWarning: Polyfit may be poorly conditioned\n",
      "/Users/diego/Desktop/astro/repo/notebooks/measurements.py:221: RankWarning: Polyfit may be poorly conditioned\n",
      "/Users/diego/Desktop/astro/repo/notebooks/measurements.py:221: RankWarning: Polyfit may be poorly conditioned\n",
      "/Users/diego/Desktop/astro/repo/notebooks/measurements.py:221: RankWarning: Polyfit may be poorly conditioned\n",
      "/Users/diego/Desktop/astro/repo/notebooks/measurements.py:221: RankWarning: Polyfit may be poorly conditioned\n",
      "/Users/diego/Desktop/astro/repo/notebooks/measurements.py:221: RankWarning: Polyfit may be poorly conditioned\n",
      "/Users/diego/Desktop/astro/repo/notebooks/measurements.py:221: RankWarning: Polyfit may be poorly conditioned\n",
      "/Users/diego/Desktop/astro/repo/notebooks/measurements.py:221: RankWarning: Polyfit may be poorly conditioned\n",
      "/Users/diego/Desktop/astro/repo/notebooks/measurements.py:221: RankWarning: Polyfit may be poorly conditioned\n",
      "/Users/diego/Desktop/astro/repo/notebooks/measurements.py:221: RankWarning: Polyfit may be poorly conditioned\n",
      "/Users/diego/Desktop/astro/repo/notebooks/measurements.py:221: RankWarning: Polyfit may be poorly conditioned\n",
      "/Users/diego/Desktop/astro/repo/notebooks/measurements.py:221: RankWarning: Polyfit may be poorly conditioned\n",
      "/Users/diego/Desktop/astro/repo/notebooks/measurements.py:221: RankWarning: Polyfit may be poorly conditioned\n",
      "/Users/diego/Desktop/astro/repo/notebooks/measurements.py:221: RankWarning: Polyfit may be poorly conditioned\n",
      "/Users/diego/Desktop/astro/repo/notebooks/measurements.py:221: RankWarning: Polyfit may be poorly conditioned\n",
      "/Users/diego/Desktop/astro/repo/notebooks/measurements.py:221: RankWarning: Polyfit may be poorly conditioned\n",
      "/Users/diego/Desktop/astro/repo/notebooks/measurements.py:221: RankWarning: Polyfit may be poorly conditioned\n",
      "/Users/diego/Desktop/astro/repo/notebooks/measurements.py:221: RankWarning: Polyfit may be poorly conditioned\n",
      "/Users/diego/Desktop/astro/repo/notebooks/measurements.py:221: RankWarning: Polyfit may be poorly conditioned\n",
      "/Users/diego/Desktop/astro/repo/notebooks/measurements.py:221: RankWarning: Polyfit may be poorly conditioned\n",
      "/Users/diego/Desktop/astro/repo/notebooks/measurements.py:221: RankWarning: Polyfit may be poorly conditioned\n",
      "/Users/diego/Desktop/astro/repo/notebooks/measurements.py:221: RankWarning: Polyfit may be poorly conditioned\n",
      "/Users/diego/Desktop/astro/repo/notebooks/measurements.py:221: RankWarning: Polyfit may be poorly conditioned\n",
      "/Users/diego/Desktop/astro/repo/notebooks/measurements.py:221: RankWarning: Polyfit may be poorly conditioned\n",
      "/Users/diego/Desktop/astro/repo/notebooks/measurements.py:221: RankWarning: Polyfit may be poorly conditioned\n",
      "/Users/diego/Desktop/astro/repo/notebooks/measurements.py:221: RankWarning: Polyfit may be poorly conditioned\n",
      "/Users/diego/Desktop/astro/repo/notebooks/measurements.py:221: RankWarning: Polyfit may be poorly conditioned\n",
      "/Users/diego/Desktop/astro/repo/notebooks/measurements.py:221: RankWarning: Polyfit may be poorly conditioned\n",
      "/Users/diego/Desktop/astro/repo/notebooks/measurements.py:221: RankWarning: Polyfit may be poorly conditioned\n",
      "/Users/diego/Desktop/astro/repo/notebooks/measurements.py:221: RankWarning: Polyfit may be poorly conditioned\n",
      "/Users/diego/Desktop/astro/repo/notebooks/measurements.py:221: RankWarning: Polyfit may be poorly conditioned\n",
      "/Users/diego/Desktop/astro/repo/notebooks/measurements.py:221: RankWarning: Polyfit may be poorly conditioned\n"
     ]
    },
    {
     "name": "stdout",
     "output_type": "stream",
     "text": [
      "0 / 29883\n"
     ]
    },
    {
     "name": "stderr",
     "output_type": "stream",
     "text": [
      "/Users/diego/Desktop/astro/repo/notebooks/measurements.py:221: RankWarning: Polyfit may be poorly conditioned\n",
      "/Users/diego/Desktop/astro/repo/notebooks/measurements.py:221: RankWarning: Polyfit may be poorly conditioned\n",
      "/Users/diego/Desktop/astro/repo/notebooks/measurements.py:221: RankWarning: Polyfit may be poorly conditioned\n",
      "/Users/diego/Desktop/astro/repo/notebooks/measurements.py:221: RankWarning: Polyfit may be poorly conditioned\n",
      "/Users/diego/Desktop/astro/repo/notebooks/measurements.py:221: RankWarning: Polyfit may be poorly conditioned\n",
      "/Users/diego/Desktop/astro/repo/notebooks/measurements.py:221: RankWarning: Polyfit may be poorly conditioned\n",
      "/Users/diego/Desktop/astro/repo/notebooks/measurements.py:221: RankWarning: Polyfit may be poorly conditioned\n",
      "/Users/diego/Desktop/astro/repo/notebooks/measurements.py:221: RankWarning: Polyfit may be poorly conditioned\n",
      "/Users/diego/Desktop/astro/repo/notebooks/measurements.py:221: RankWarning: Polyfit may be poorly conditioned\n",
      "/Users/diego/Desktop/astro/repo/notebooks/measurements.py:221: RankWarning: Polyfit may be poorly conditioned\n",
      "/Users/diego/Desktop/astro/repo/notebooks/measurements.py:221: RankWarning: Polyfit may be poorly conditioned\n",
      "/Users/diego/Desktop/astro/repo/notebooks/measurements.py:221: RankWarning: Polyfit may be poorly conditioned\n",
      "/Users/diego/Desktop/astro/repo/notebooks/measurements.py:221: RankWarning: Polyfit may be poorly conditioned\n",
      "/Users/diego/Desktop/astro/repo/notebooks/measurements.py:221: RankWarning: Polyfit may be poorly conditioned\n",
      "/Users/diego/Desktop/astro/repo/notebooks/measurements.py:221: RankWarning: Polyfit may be poorly conditioned\n",
      "/Users/diego/Desktop/astro/repo/notebooks/measurements.py:221: RankWarning: Polyfit may be poorly conditioned\n",
      "/Users/diego/Desktop/astro/repo/notebooks/measurements.py:221: RankWarning: Polyfit may be poorly conditioned\n",
      "/Users/diego/Desktop/astro/repo/notebooks/measurements.py:221: RankWarning: Polyfit may be poorly conditioned\n",
      "/Users/diego/Desktop/astro/repo/notebooks/measurements.py:221: RankWarning: Polyfit may be poorly conditioned\n",
      "/Users/diego/Desktop/astro/repo/notebooks/measurements.py:221: RankWarning: Polyfit may be poorly conditioned\n",
      "/Users/diego/Desktop/astro/repo/notebooks/measurements.py:221: RankWarning: Polyfit may be poorly conditioned\n",
      "/Users/diego/Desktop/astro/repo/notebooks/measurements.py:221: RankWarning: Polyfit may be poorly conditioned\n",
      "/Users/diego/Desktop/astro/repo/notebooks/measurements.py:221: RankWarning: Polyfit may be poorly conditioned\n",
      "/Users/diego/Desktop/astro/repo/notebooks/measurements.py:221: RankWarning: Polyfit may be poorly conditioned\n",
      "/Users/diego/Desktop/astro/repo/notebooks/measurements.py:221: RankWarning: Polyfit may be poorly conditioned\n",
      "/Users/diego/Desktop/astro/repo/notebooks/measurements.py:221: RankWarning: Polyfit may be poorly conditioned\n",
      "/Users/diego/Desktop/astro/repo/notebooks/measurements.py:221: RankWarning: Polyfit may be poorly conditioned\n",
      "/Users/diego/Desktop/astro/repo/notebooks/measurements.py:221: RankWarning: Polyfit may be poorly conditioned\n",
      "/Users/diego/Desktop/astro/repo/notebooks/measurements.py:221: RankWarning: Polyfit may be poorly conditioned\n",
      "/Users/diego/Desktop/astro/repo/notebooks/measurements.py:221: RankWarning: Polyfit may be poorly conditioned\n",
      "/Users/diego/Desktop/astro/repo/notebooks/measurements.py:221: RankWarning: Polyfit may be poorly conditioned\n",
      "/Users/diego/Desktop/astro/repo/notebooks/measurements.py:221: RankWarning: Polyfit may be poorly conditioned\n",
      "/Users/diego/Desktop/astro/repo/notebooks/measurements.py:221: RankWarning: Polyfit may be poorly conditioned\n",
      "/Users/diego/Desktop/astro/repo/notebooks/measurements.py:221: RankWarning: Polyfit may be poorly conditioned\n",
      "/Users/diego/Desktop/astro/repo/notebooks/measurements.py:221: RankWarning: Polyfit may be poorly conditioned\n",
      "/Users/diego/Desktop/astro/repo/notebooks/measurements.py:221: RankWarning: Polyfit may be poorly conditioned\n",
      "/Users/diego/Desktop/astro/repo/notebooks/measurements.py:221: RankWarning: Polyfit may be poorly conditioned\n",
      "/Users/diego/Desktop/astro/repo/notebooks/measurements.py:221: RankWarning: Polyfit may be poorly conditioned\n"
     ]
    },
    {
     "name": "stdout",
     "output_type": "stream",
     "text": [
      "2988 / 29883\n"
     ]
    },
    {
     "name": "stderr",
     "output_type": "stream",
     "text": [
      "/Users/diego/Desktop/astro/repo/notebooks/measurements.py:221: RankWarning: Polyfit may be poorly conditioned\n",
      "/Users/diego/Desktop/astro/repo/notebooks/measurements.py:221: RankWarning: Polyfit may be poorly conditioned\n",
      "/Users/diego/Desktop/astro/repo/notebooks/measurements.py:221: RankWarning: Polyfit may be poorly conditioned\n",
      "/Users/diego/Desktop/astro/repo/notebooks/measurements.py:221: RankWarning: Polyfit may be poorly conditioned\n",
      "/Users/diego/Desktop/astro/repo/notebooks/measurements.py:221: RankWarning: Polyfit may be poorly conditioned\n",
      "/Users/diego/Desktop/astro/repo/notebooks/measurements.py:221: RankWarning: Polyfit may be poorly conditioned\n",
      "/Users/diego/Desktop/astro/repo/notebooks/measurements.py:221: RankWarning: Polyfit may be poorly conditioned\n",
      "/Users/diego/Desktop/astro/repo/notebooks/measurements.py:221: RankWarning: Polyfit may be poorly conditioned\n",
      "/Users/diego/Desktop/astro/repo/notebooks/measurements.py:221: RankWarning: Polyfit may be poorly conditioned\n",
      "/Users/diego/Desktop/astro/repo/notebooks/measurements.py:221: RankWarning: Polyfit may be poorly conditioned\n",
      "/Users/diego/Desktop/astro/repo/notebooks/measurements.py:221: RankWarning: Polyfit may be poorly conditioned\n",
      "/Users/diego/Desktop/astro/repo/notebooks/measurements.py:221: RankWarning: Polyfit may be poorly conditioned\n",
      "/Users/diego/Desktop/astro/repo/notebooks/measurements.py:221: RankWarning: Polyfit may be poorly conditioned\n",
      "/Users/diego/Desktop/astro/repo/notebooks/measurements.py:221: RankWarning: Polyfit may be poorly conditioned\n",
      "/Users/diego/Desktop/astro/repo/notebooks/measurements.py:221: RankWarning: Polyfit may be poorly conditioned\n",
      "/Users/diego/Desktop/astro/repo/notebooks/measurements.py:221: RankWarning: Polyfit may be poorly conditioned\n",
      "/Users/diego/Desktop/astro/repo/notebooks/measurements.py:221: RankWarning: Polyfit may be poorly conditioned\n",
      "/Users/diego/Desktop/astro/repo/notebooks/measurements.py:221: RankWarning: Polyfit may be poorly conditioned\n",
      "/Users/diego/Desktop/astro/repo/notebooks/measurements.py:221: RankWarning: Polyfit may be poorly conditioned\n",
      "/Users/diego/Desktop/astro/repo/notebooks/measurements.py:221: RankWarning: Polyfit may be poorly conditioned\n",
      "/Users/diego/Desktop/astro/repo/notebooks/measurements.py:221: RankWarning: Polyfit may be poorly conditioned\n",
      "/Users/diego/Desktop/astro/repo/notebooks/measurements.py:221: RankWarning: Polyfit may be poorly conditioned\n",
      "/Users/diego/Desktop/astro/repo/notebooks/measurements.py:221: RankWarning: Polyfit may be poorly conditioned\n",
      "/Users/diego/Desktop/astro/repo/notebooks/measurements.py:221: RankWarning: Polyfit may be poorly conditioned\n",
      "/Users/diego/Desktop/astro/repo/notebooks/measurements.py:221: RankWarning: Polyfit may be poorly conditioned\n",
      "/Users/diego/Desktop/astro/repo/notebooks/measurements.py:221: RankWarning: Polyfit may be poorly conditioned\n",
      "/Users/diego/Desktop/astro/repo/notebooks/measurements.py:221: RankWarning: Polyfit may be poorly conditioned\n",
      "/Users/diego/Desktop/astro/repo/notebooks/measurements.py:221: RankWarning: Polyfit may be poorly conditioned\n",
      "/Users/diego/Desktop/astro/repo/notebooks/measurements.py:221: RankWarning: Polyfit may be poorly conditioned\n",
      "/Users/diego/Desktop/astro/repo/notebooks/measurements.py:221: RankWarning: Polyfit may be poorly conditioned\n",
      "/Users/diego/Desktop/astro/repo/notebooks/measurements.py:221: RankWarning: Polyfit may be poorly conditioned\n",
      "/Users/diego/Desktop/astro/repo/notebooks/measurements.py:221: RankWarning: Polyfit may be poorly conditioned\n",
      "/Users/diego/Desktop/astro/repo/notebooks/measurements.py:221: RankWarning: Polyfit may be poorly conditioned\n",
      "/Users/diego/Desktop/astro/repo/notebooks/measurements.py:221: RankWarning: Polyfit may be poorly conditioned\n",
      "/Users/diego/Desktop/astro/repo/notebooks/measurements.py:221: RankWarning: Polyfit may be poorly conditioned\n",
      "/Users/diego/Desktop/astro/repo/notebooks/measurements.py:221: RankWarning: Polyfit may be poorly conditioned\n",
      "/Users/diego/Desktop/astro/repo/notebooks/measurements.py:221: RankWarning: Polyfit may be poorly conditioned\n",
      "/Users/diego/Desktop/astro/repo/notebooks/measurements.py:221: RankWarning: Polyfit may be poorly conditioned\n",
      "/Users/diego/Desktop/astro/repo/notebooks/measurements.py:221: RankWarning: Polyfit may be poorly conditioned\n",
      "/Users/diego/Desktop/astro/repo/notebooks/measurements.py:221: RankWarning: Polyfit may be poorly conditioned\n",
      "/Users/diego/Desktop/astro/repo/notebooks/measurements.py:221: RankWarning: Polyfit may be poorly conditioned\n",
      "/Users/diego/Desktop/astro/repo/notebooks/measurements.py:221: RankWarning: Polyfit may be poorly conditioned\n"
     ]
    },
    {
     "name": "stdout",
     "output_type": "stream",
     "text": [
      "0 / 29883\n"
     ]
    },
    {
     "name": "stderr",
     "output_type": "stream",
     "text": [
      "/Users/diego/Desktop/astro/repo/notebooks/measurements.py:221: RankWarning: Polyfit may be poorly conditioned\n",
      "/Users/diego/Desktop/astro/repo/notebooks/measurements.py:221: RankWarning: Polyfit may be poorly conditioned\n",
      "/Users/diego/Desktop/astro/repo/notebooks/measurements.py:221: RankWarning: Polyfit may be poorly conditioned\n",
      "/Users/diego/Desktop/astro/repo/notebooks/measurements.py:221: RankWarning: Polyfit may be poorly conditioned\n",
      "/Users/diego/Desktop/astro/repo/notebooks/measurements.py:221: RankWarning: Polyfit may be poorly conditioned\n",
      "/Users/diego/Desktop/astro/repo/notebooks/measurements.py:221: RankWarning: Polyfit may be poorly conditioned\n",
      "/Users/diego/Desktop/astro/repo/notebooks/measurements.py:221: RankWarning: Polyfit may be poorly conditioned\n",
      "/Users/diego/Desktop/astro/repo/notebooks/measurements.py:221: RankWarning: Polyfit may be poorly conditioned\n",
      "/Users/diego/Desktop/astro/repo/notebooks/measurements.py:221: RankWarning: Polyfit may be poorly conditioned\n",
      "/Users/diego/Desktop/astro/repo/notebooks/measurements.py:221: RankWarning: Polyfit may be poorly conditioned\n",
      "/Users/diego/Desktop/astro/repo/notebooks/measurements.py:221: RankWarning: Polyfit may be poorly conditioned\n",
      "/Users/diego/Desktop/astro/repo/notebooks/measurements.py:221: RankWarning: Polyfit may be poorly conditioned\n",
      "/Users/diego/Desktop/astro/repo/notebooks/measurements.py:221: RankWarning: Polyfit may be poorly conditioned\n",
      "/Users/diego/Desktop/astro/repo/notebooks/measurements.py:221: RankWarning: Polyfit may be poorly conditioned\n",
      "/Users/diego/Desktop/astro/repo/notebooks/measurements.py:221: RankWarning: Polyfit may be poorly conditioned\n",
      "/Users/diego/Desktop/astro/repo/notebooks/measurements.py:221: RankWarning: Polyfit may be poorly conditioned\n",
      "/Users/diego/Desktop/astro/repo/notebooks/measurements.py:221: RankWarning: Polyfit may be poorly conditioned\n",
      "/Users/diego/Desktop/astro/repo/notebooks/measurements.py:221: RankWarning: Polyfit may be poorly conditioned\n",
      "/Users/diego/Desktop/astro/repo/notebooks/measurements.py:221: RankWarning: Polyfit may be poorly conditioned\n",
      "/Users/diego/Desktop/astro/repo/notebooks/measurements.py:221: RankWarning: Polyfit may be poorly conditioned\n",
      "/Users/diego/Desktop/astro/repo/notebooks/measurements.py:221: RankWarning: Polyfit may be poorly conditioned\n",
      "/Users/diego/Desktop/astro/repo/notebooks/measurements.py:221: RankWarning: Polyfit may be poorly conditioned\n",
      "/Users/diego/Desktop/astro/repo/notebooks/measurements.py:221: RankWarning: Polyfit may be poorly conditioned\n",
      "/Users/diego/Desktop/astro/repo/notebooks/measurements.py:221: RankWarning: Polyfit may be poorly conditioned\n",
      "/Users/diego/Desktop/astro/repo/notebooks/measurements.py:221: RankWarning: Polyfit may be poorly conditioned\n",
      "/Users/diego/Desktop/astro/repo/notebooks/measurements.py:221: RankWarning: Polyfit may be poorly conditioned\n",
      "/Users/diego/Desktop/astro/repo/notebooks/measurements.py:221: RankWarning: Polyfit may be poorly conditioned\n",
      "/Users/diego/Desktop/astro/repo/notebooks/measurements.py:221: RankWarning: Polyfit may be poorly conditioned\n",
      "/Users/diego/Desktop/astro/repo/notebooks/measurements.py:221: RankWarning: Polyfit may be poorly conditioned\n",
      "/Users/diego/Desktop/astro/repo/notebooks/measurements.py:221: RankWarning: Polyfit may be poorly conditioned\n",
      "/Users/diego/Desktop/astro/repo/notebooks/measurements.py:221: RankWarning: Polyfit may be poorly conditioned\n",
      "/Users/diego/Desktop/astro/repo/notebooks/measurements.py:221: RankWarning: Polyfit may be poorly conditioned\n",
      "/Users/diego/Desktop/astro/repo/notebooks/measurements.py:221: RankWarning: Polyfit may be poorly conditioned\n",
      "/Users/diego/Desktop/astro/repo/notebooks/measurements.py:221: RankWarning: Polyfit may be poorly conditioned\n",
      "/Users/diego/Desktop/astro/repo/notebooks/measurements.py:221: RankWarning: Polyfit may be poorly conditioned\n",
      "/Users/diego/Desktop/astro/repo/notebooks/measurements.py:221: RankWarning: Polyfit may be poorly conditioned\n",
      "/Users/diego/Desktop/astro/repo/notebooks/measurements.py:221: RankWarning: Polyfit may be poorly conditioned\n",
      "/Users/diego/Desktop/astro/repo/notebooks/measurements.py:221: RankWarning: Polyfit may be poorly conditioned\n"
     ]
    },
    {
     "name": "stdout",
     "output_type": "stream",
     "text": [
      "2988 / 29883\n"
     ]
    },
    {
     "name": "stderr",
     "output_type": "stream",
     "text": [
      "/Users/diego/Desktop/astro/repo/notebooks/measurements.py:221: RankWarning: Polyfit may be poorly conditioned\n",
      "/Users/diego/Desktop/astro/repo/notebooks/measurements.py:221: RankWarning: Polyfit may be poorly conditioned\n",
      "/Users/diego/Desktop/astro/repo/notebooks/measurements.py:221: RankWarning: Polyfit may be poorly conditioned\n",
      "/Users/diego/Desktop/astro/repo/notebooks/measurements.py:221: RankWarning: Polyfit may be poorly conditioned\n",
      "/Users/diego/Desktop/astro/repo/notebooks/measurements.py:221: RankWarning: Polyfit may be poorly conditioned\n",
      "/Users/diego/Desktop/astro/repo/notebooks/measurements.py:221: RankWarning: Polyfit may be poorly conditioned\n",
      "/Users/diego/Desktop/astro/repo/notebooks/measurements.py:221: RankWarning: Polyfit may be poorly conditioned\n",
      "/Users/diego/Desktop/astro/repo/notebooks/measurements.py:221: RankWarning: Polyfit may be poorly conditioned\n",
      "/Users/diego/Desktop/astro/repo/notebooks/measurements.py:221: RankWarning: Polyfit may be poorly conditioned\n",
      "/Users/diego/Desktop/astro/repo/notebooks/measurements.py:221: RankWarning: Polyfit may be poorly conditioned\n",
      "/Users/diego/Desktop/astro/repo/notebooks/measurements.py:221: RankWarning: Polyfit may be poorly conditioned\n",
      "/Users/diego/Desktop/astro/repo/notebooks/measurements.py:221: RankWarning: Polyfit may be poorly conditioned\n",
      "/Users/diego/Desktop/astro/repo/notebooks/measurements.py:221: RankWarning: Polyfit may be poorly conditioned\n",
      "/Users/diego/Desktop/astro/repo/notebooks/measurements.py:221: RankWarning: Polyfit may be poorly conditioned\n",
      "/Users/diego/Desktop/astro/repo/notebooks/measurements.py:221: RankWarning: Polyfit may be poorly conditioned\n",
      "/Users/diego/Desktop/astro/repo/notebooks/measurements.py:221: RankWarning: Polyfit may be poorly conditioned\n",
      "/Users/diego/Desktop/astro/repo/notebooks/measurements.py:221: RankWarning: Polyfit may be poorly conditioned\n",
      "/Users/diego/Desktop/astro/repo/notebooks/measurements.py:221: RankWarning: Polyfit may be poorly conditioned\n",
      "/Users/diego/Desktop/astro/repo/notebooks/measurements.py:221: RankWarning: Polyfit may be poorly conditioned\n",
      "/Users/diego/Desktop/astro/repo/notebooks/measurements.py:221: RankWarning: Polyfit may be poorly conditioned\n",
      "/Users/diego/Desktop/astro/repo/notebooks/measurements.py:221: RankWarning: Polyfit may be poorly conditioned\n",
      "/Users/diego/Desktop/astro/repo/notebooks/measurements.py:221: RankWarning: Polyfit may be poorly conditioned\n",
      "/Users/diego/Desktop/astro/repo/notebooks/measurements.py:221: RankWarning: Polyfit may be poorly conditioned\n",
      "/Users/diego/Desktop/astro/repo/notebooks/measurements.py:221: RankWarning: Polyfit may be poorly conditioned\n",
      "/Users/diego/Desktop/astro/repo/notebooks/measurements.py:221: RankWarning: Polyfit may be poorly conditioned\n",
      "/Users/diego/Desktop/astro/repo/notebooks/measurements.py:221: RankWarning: Polyfit may be poorly conditioned\n",
      "/Users/diego/Desktop/astro/repo/notebooks/measurements.py:221: RankWarning: Polyfit may be poorly conditioned\n",
      "/Users/diego/Desktop/astro/repo/notebooks/measurements.py:221: RankWarning: Polyfit may be poorly conditioned\n",
      "/Users/diego/Desktop/astro/repo/notebooks/measurements.py:221: RankWarning: Polyfit may be poorly conditioned\n",
      "/Users/diego/Desktop/astro/repo/notebooks/measurements.py:221: RankWarning: Polyfit may be poorly conditioned\n",
      "/Users/diego/Desktop/astro/repo/notebooks/measurements.py:221: RankWarning: Polyfit may be poorly conditioned\n",
      "/Users/diego/Desktop/astro/repo/notebooks/measurements.py:221: RankWarning: Polyfit may be poorly conditioned\n",
      "/Users/diego/Desktop/astro/repo/notebooks/measurements.py:221: RankWarning: Polyfit may be poorly conditioned\n",
      "/Users/diego/Desktop/astro/repo/notebooks/measurements.py:221: RankWarning: Polyfit may be poorly conditioned\n",
      "/Users/diego/Desktop/astro/repo/notebooks/measurements.py:221: RankWarning: Polyfit may be poorly conditioned\n",
      "/Users/diego/Desktop/astro/repo/notebooks/measurements.py:221: RankWarning: Polyfit may be poorly conditioned\n",
      "/Users/diego/Desktop/astro/repo/notebooks/measurements.py:221: RankWarning: Polyfit may be poorly conditioned\n",
      "/Users/diego/Desktop/astro/repo/notebooks/measurements.py:221: RankWarning: Polyfit may be poorly conditioned\n",
      "/Users/diego/Desktop/astro/repo/notebooks/measurements.py:221: RankWarning: Polyfit may be poorly conditioned\n",
      "/Users/diego/Desktop/astro/repo/notebooks/measurements.py:221: RankWarning: Polyfit may be poorly conditioned\n",
      "/Users/diego/Desktop/astro/repo/notebooks/measurements.py:221: RankWarning: Polyfit may be poorly conditioned\n",
      "/Users/diego/Desktop/astro/repo/notebooks/measurements.py:221: RankWarning: Polyfit may be poorly conditioned\n"
     ]
    },
    {
     "name": "stdout",
     "output_type": "stream",
     "text": [
      "0 / 29883\n"
     ]
    },
    {
     "name": "stderr",
     "output_type": "stream",
     "text": [
      "/Users/diego/Desktop/astro/repo/notebooks/measurements.py:221: RankWarning: Polyfit may be poorly conditioned\n",
      "/Users/diego/Desktop/astro/repo/notebooks/measurements.py:221: RankWarning: Polyfit may be poorly conditioned\n",
      "/Users/diego/Desktop/astro/repo/notebooks/measurements.py:221: RankWarning: Polyfit may be poorly conditioned\n",
      "/Users/diego/Desktop/astro/repo/notebooks/measurements.py:221: RankWarning: Polyfit may be poorly conditioned\n",
      "/Users/diego/Desktop/astro/repo/notebooks/measurements.py:221: RankWarning: Polyfit may be poorly conditioned\n",
      "/Users/diego/Desktop/astro/repo/notebooks/measurements.py:221: RankWarning: Polyfit may be poorly conditioned\n",
      "/Users/diego/Desktop/astro/repo/notebooks/measurements.py:221: RankWarning: Polyfit may be poorly conditioned\n",
      "/Users/diego/Desktop/astro/repo/notebooks/measurements.py:221: RankWarning: Polyfit may be poorly conditioned\n",
      "/Users/diego/Desktop/astro/repo/notebooks/measurements.py:221: RankWarning: Polyfit may be poorly conditioned\n",
      "/Users/diego/Desktop/astro/repo/notebooks/measurements.py:221: RankWarning: Polyfit may be poorly conditioned\n",
      "/Users/diego/Desktop/astro/repo/notebooks/measurements.py:221: RankWarning: Polyfit may be poorly conditioned\n",
      "/Users/diego/Desktop/astro/repo/notebooks/measurements.py:221: RankWarning: Polyfit may be poorly conditioned\n",
      "/Users/diego/Desktop/astro/repo/notebooks/measurements.py:221: RankWarning: Polyfit may be poorly conditioned\n",
      "/Users/diego/Desktop/astro/repo/notebooks/measurements.py:221: RankWarning: Polyfit may be poorly conditioned\n",
      "/Users/diego/Desktop/astro/repo/notebooks/measurements.py:221: RankWarning: Polyfit may be poorly conditioned\n",
      "/Users/diego/Desktop/astro/repo/notebooks/measurements.py:221: RankWarning: Polyfit may be poorly conditioned\n",
      "/Users/diego/Desktop/astro/repo/notebooks/measurements.py:221: RankWarning: Polyfit may be poorly conditioned\n",
      "/Users/diego/Desktop/astro/repo/notebooks/measurements.py:221: RankWarning: Polyfit may be poorly conditioned\n",
      "/Users/diego/Desktop/astro/repo/notebooks/measurements.py:221: RankWarning: Polyfit may be poorly conditioned\n",
      "/Users/diego/Desktop/astro/repo/notebooks/measurements.py:221: RankWarning: Polyfit may be poorly conditioned\n",
      "/Users/diego/Desktop/astro/repo/notebooks/measurements.py:221: RankWarning: Polyfit may be poorly conditioned\n",
      "/Users/diego/Desktop/astro/repo/notebooks/measurements.py:221: RankWarning: Polyfit may be poorly conditioned\n",
      "/Users/diego/Desktop/astro/repo/notebooks/measurements.py:221: RankWarning: Polyfit may be poorly conditioned\n",
      "/Users/diego/Desktop/astro/repo/notebooks/measurements.py:221: RankWarning: Polyfit may be poorly conditioned\n",
      "/Users/diego/Desktop/astro/repo/notebooks/measurements.py:221: RankWarning: Polyfit may be poorly conditioned\n",
      "/Users/diego/Desktop/astro/repo/notebooks/measurements.py:221: RankWarning: Polyfit may be poorly conditioned\n",
      "/Users/diego/Desktop/astro/repo/notebooks/measurements.py:221: RankWarning: Polyfit may be poorly conditioned\n",
      "/Users/diego/Desktop/astro/repo/notebooks/measurements.py:221: RankWarning: Polyfit may be poorly conditioned\n",
      "/Users/diego/Desktop/astro/repo/notebooks/measurements.py:221: RankWarning: Polyfit may be poorly conditioned\n",
      "/Users/diego/Desktop/astro/repo/notebooks/measurements.py:221: RankWarning: Polyfit may be poorly conditioned\n",
      "/Users/diego/Desktop/astro/repo/notebooks/measurements.py:221: RankWarning: Polyfit may be poorly conditioned\n",
      "/Users/diego/Desktop/astro/repo/notebooks/measurements.py:221: RankWarning: Polyfit may be poorly conditioned\n",
      "/Users/diego/Desktop/astro/repo/notebooks/measurements.py:221: RankWarning: Polyfit may be poorly conditioned\n",
      "/Users/diego/Desktop/astro/repo/notebooks/measurements.py:221: RankWarning: Polyfit may be poorly conditioned\n",
      "/Users/diego/Desktop/astro/repo/notebooks/measurements.py:221: RankWarning: Polyfit may be poorly conditioned\n",
      "/Users/diego/Desktop/astro/repo/notebooks/measurements.py:221: RankWarning: Polyfit may be poorly conditioned\n",
      "/Users/diego/Desktop/astro/repo/notebooks/measurements.py:221: RankWarning: Polyfit may be poorly conditioned\n",
      "/Users/diego/Desktop/astro/repo/notebooks/measurements.py:221: RankWarning: Polyfit may be poorly conditioned\n"
     ]
    },
    {
     "name": "stdout",
     "output_type": "stream",
     "text": [
      "2988 / 29883\n"
     ]
    },
    {
     "name": "stderr",
     "output_type": "stream",
     "text": [
      "/Users/diego/Desktop/astro/repo/notebooks/measurements.py:221: RankWarning: Polyfit may be poorly conditioned\n",
      "/Users/diego/Desktop/astro/repo/notebooks/measurements.py:221: RankWarning: Polyfit may be poorly conditioned\n",
      "/Users/diego/Desktop/astro/repo/notebooks/measurements.py:221: RankWarning: Polyfit may be poorly conditioned\n",
      "/Users/diego/Desktop/astro/repo/notebooks/measurements.py:221: RankWarning: Polyfit may be poorly conditioned\n",
      "/Users/diego/Desktop/astro/repo/notebooks/measurements.py:221: RankWarning: Polyfit may be poorly conditioned\n",
      "/Users/diego/Desktop/astro/repo/notebooks/measurements.py:221: RankWarning: Polyfit may be poorly conditioned\n",
      "/Users/diego/Desktop/astro/repo/notebooks/measurements.py:221: RankWarning: Polyfit may be poorly conditioned\n",
      "/Users/diego/Desktop/astro/repo/notebooks/measurements.py:221: RankWarning: Polyfit may be poorly conditioned\n",
      "/Users/diego/Desktop/astro/repo/notebooks/measurements.py:221: RankWarning: Polyfit may be poorly conditioned\n",
      "/Users/diego/Desktop/astro/repo/notebooks/measurements.py:221: RankWarning: Polyfit may be poorly conditioned\n",
      "/Users/diego/Desktop/astro/repo/notebooks/measurements.py:221: RankWarning: Polyfit may be poorly conditioned\n",
      "/Users/diego/Desktop/astro/repo/notebooks/measurements.py:221: RankWarning: Polyfit may be poorly conditioned\n",
      "/Users/diego/Desktop/astro/repo/notebooks/measurements.py:221: RankWarning: Polyfit may be poorly conditioned\n",
      "/Users/diego/Desktop/astro/repo/notebooks/measurements.py:221: RankWarning: Polyfit may be poorly conditioned\n",
      "/Users/diego/Desktop/astro/repo/notebooks/measurements.py:221: RankWarning: Polyfit may be poorly conditioned\n",
      "/Users/diego/Desktop/astro/repo/notebooks/measurements.py:221: RankWarning: Polyfit may be poorly conditioned\n",
      "/Users/diego/Desktop/astro/repo/notebooks/measurements.py:221: RankWarning: Polyfit may be poorly conditioned\n",
      "/Users/diego/Desktop/astro/repo/notebooks/measurements.py:221: RankWarning: Polyfit may be poorly conditioned\n",
      "/Users/diego/Desktop/astro/repo/notebooks/measurements.py:221: RankWarning: Polyfit may be poorly conditioned\n",
      "/Users/diego/Desktop/astro/repo/notebooks/measurements.py:221: RankWarning: Polyfit may be poorly conditioned\n",
      "/Users/diego/Desktop/astro/repo/notebooks/measurements.py:221: RankWarning: Polyfit may be poorly conditioned\n",
      "/Users/diego/Desktop/astro/repo/notebooks/measurements.py:221: RankWarning: Polyfit may be poorly conditioned\n",
      "/Users/diego/Desktop/astro/repo/notebooks/measurements.py:221: RankWarning: Polyfit may be poorly conditioned\n",
      "/Users/diego/Desktop/astro/repo/notebooks/measurements.py:221: RankWarning: Polyfit may be poorly conditioned\n",
      "/Users/diego/Desktop/astro/repo/notebooks/measurements.py:221: RankWarning: Polyfit may be poorly conditioned\n",
      "/Users/diego/Desktop/astro/repo/notebooks/measurements.py:221: RankWarning: Polyfit may be poorly conditioned\n",
      "/Users/diego/Desktop/astro/repo/notebooks/measurements.py:221: RankWarning: Polyfit may be poorly conditioned\n",
      "/Users/diego/Desktop/astro/repo/notebooks/measurements.py:221: RankWarning: Polyfit may be poorly conditioned\n",
      "/Users/diego/Desktop/astro/repo/notebooks/measurements.py:221: RankWarning: Polyfit may be poorly conditioned\n",
      "/Users/diego/Desktop/astro/repo/notebooks/measurements.py:221: RankWarning: Polyfit may be poorly conditioned\n",
      "/Users/diego/Desktop/astro/repo/notebooks/measurements.py:221: RankWarning: Polyfit may be poorly conditioned\n",
      "/Users/diego/Desktop/astro/repo/notebooks/measurements.py:221: RankWarning: Polyfit may be poorly conditioned\n",
      "/Users/diego/Desktop/astro/repo/notebooks/measurements.py:221: RankWarning: Polyfit may be poorly conditioned\n",
      "/Users/diego/Desktop/astro/repo/notebooks/measurements.py:221: RankWarning: Polyfit may be poorly conditioned\n",
      "/Users/diego/Desktop/astro/repo/notebooks/measurements.py:221: RankWarning: Polyfit may be poorly conditioned\n",
      "/Users/diego/Desktop/astro/repo/notebooks/measurements.py:221: RankWarning: Polyfit may be poorly conditioned\n",
      "/Users/diego/Desktop/astro/repo/notebooks/measurements.py:221: RankWarning: Polyfit may be poorly conditioned\n",
      "/Users/diego/Desktop/astro/repo/notebooks/measurements.py:221: RankWarning: Polyfit may be poorly conditioned\n",
      "/Users/diego/Desktop/astro/repo/notebooks/measurements.py:221: RankWarning: Polyfit may be poorly conditioned\n",
      "/Users/diego/Desktop/astro/repo/notebooks/measurements.py:221: RankWarning: Polyfit may be poorly conditioned\n",
      "/Users/diego/Desktop/astro/repo/notebooks/measurements.py:221: RankWarning: Polyfit may be poorly conditioned\n",
      "/Users/diego/Desktop/astro/repo/notebooks/measurements.py:221: RankWarning: Polyfit may be poorly conditioned\n"
     ]
    },
    {
     "name": "stdout",
     "output_type": "stream",
     "text": [
      "0 / 29883\n"
     ]
    },
    {
     "name": "stderr",
     "output_type": "stream",
     "text": [
      "/Users/diego/Desktop/astro/repo/notebooks/measurements.py:221: RankWarning: Polyfit may be poorly conditioned\n",
      "/Users/diego/Desktop/astro/repo/notebooks/measurements.py:221: RankWarning: Polyfit may be poorly conditioned\n",
      "/Users/diego/Desktop/astro/repo/notebooks/measurements.py:221: RankWarning: Polyfit may be poorly conditioned\n",
      "/Users/diego/Desktop/astro/repo/notebooks/measurements.py:221: RankWarning: Polyfit may be poorly conditioned\n",
      "/Users/diego/Desktop/astro/repo/notebooks/measurements.py:221: RankWarning: Polyfit may be poorly conditioned\n",
      "/Users/diego/Desktop/astro/repo/notebooks/measurements.py:221: RankWarning: Polyfit may be poorly conditioned\n",
      "/Users/diego/Desktop/astro/repo/notebooks/measurements.py:221: RankWarning: Polyfit may be poorly conditioned\n",
      "/Users/diego/Desktop/astro/repo/notebooks/measurements.py:221: RankWarning: Polyfit may be poorly conditioned\n",
      "/Users/diego/Desktop/astro/repo/notebooks/measurements.py:221: RankWarning: Polyfit may be poorly conditioned\n",
      "/Users/diego/Desktop/astro/repo/notebooks/measurements.py:221: RankWarning: Polyfit may be poorly conditioned\n",
      "/Users/diego/Desktop/astro/repo/notebooks/measurements.py:221: RankWarning: Polyfit may be poorly conditioned\n",
      "/Users/diego/Desktop/astro/repo/notebooks/measurements.py:221: RankWarning: Polyfit may be poorly conditioned\n",
      "/Users/diego/Desktop/astro/repo/notebooks/measurements.py:221: RankWarning: Polyfit may be poorly conditioned\n",
      "/Users/diego/Desktop/astro/repo/notebooks/measurements.py:221: RankWarning: Polyfit may be poorly conditioned\n",
      "/Users/diego/Desktop/astro/repo/notebooks/measurements.py:221: RankWarning: Polyfit may be poorly conditioned\n",
      "/Users/diego/Desktop/astro/repo/notebooks/measurements.py:221: RankWarning: Polyfit may be poorly conditioned\n",
      "/Users/diego/Desktop/astro/repo/notebooks/measurements.py:221: RankWarning: Polyfit may be poorly conditioned\n",
      "/Users/diego/Desktop/astro/repo/notebooks/measurements.py:221: RankWarning: Polyfit may be poorly conditioned\n",
      "/Users/diego/Desktop/astro/repo/notebooks/measurements.py:221: RankWarning: Polyfit may be poorly conditioned\n",
      "/Users/diego/Desktop/astro/repo/notebooks/measurements.py:221: RankWarning: Polyfit may be poorly conditioned\n",
      "/Users/diego/Desktop/astro/repo/notebooks/measurements.py:221: RankWarning: Polyfit may be poorly conditioned\n",
      "/Users/diego/Desktop/astro/repo/notebooks/measurements.py:221: RankWarning: Polyfit may be poorly conditioned\n",
      "/Users/diego/Desktop/astro/repo/notebooks/measurements.py:221: RankWarning: Polyfit may be poorly conditioned\n",
      "/Users/diego/Desktop/astro/repo/notebooks/measurements.py:221: RankWarning: Polyfit may be poorly conditioned\n",
      "/Users/diego/Desktop/astro/repo/notebooks/measurements.py:221: RankWarning: Polyfit may be poorly conditioned\n",
      "/Users/diego/Desktop/astro/repo/notebooks/measurements.py:221: RankWarning: Polyfit may be poorly conditioned\n",
      "/Users/diego/Desktop/astro/repo/notebooks/measurements.py:221: RankWarning: Polyfit may be poorly conditioned\n",
      "/Users/diego/Desktop/astro/repo/notebooks/measurements.py:221: RankWarning: Polyfit may be poorly conditioned\n",
      "/Users/diego/Desktop/astro/repo/notebooks/measurements.py:221: RankWarning: Polyfit may be poorly conditioned\n",
      "/Users/diego/Desktop/astro/repo/notebooks/measurements.py:221: RankWarning: Polyfit may be poorly conditioned\n",
      "/Users/diego/Desktop/astro/repo/notebooks/measurements.py:221: RankWarning: Polyfit may be poorly conditioned\n",
      "/Users/diego/Desktop/astro/repo/notebooks/measurements.py:221: RankWarning: Polyfit may be poorly conditioned\n",
      "/Users/diego/Desktop/astro/repo/notebooks/measurements.py:221: RankWarning: Polyfit may be poorly conditioned\n",
      "/Users/diego/Desktop/astro/repo/notebooks/measurements.py:221: RankWarning: Polyfit may be poorly conditioned\n",
      "/Users/diego/Desktop/astro/repo/notebooks/measurements.py:221: RankWarning: Polyfit may be poorly conditioned\n",
      "/Users/diego/Desktop/astro/repo/notebooks/measurements.py:221: RankWarning: Polyfit may be poorly conditioned\n",
      "/Users/diego/Desktop/astro/repo/notebooks/measurements.py:221: RankWarning: Polyfit may be poorly conditioned\n",
      "/Users/diego/Desktop/astro/repo/notebooks/measurements.py:221: RankWarning: Polyfit may be poorly conditioned\n"
     ]
    },
    {
     "name": "stdout",
     "output_type": "stream",
     "text": [
      "2988 / 29883\n"
     ]
    },
    {
     "name": "stderr",
     "output_type": "stream",
     "text": [
      "/Users/diego/Desktop/astro/repo/notebooks/measurements.py:221: RankWarning: Polyfit may be poorly conditioned\n",
      "/Users/diego/Desktop/astro/repo/notebooks/measurements.py:221: RankWarning: Polyfit may be poorly conditioned\n",
      "/Users/diego/Desktop/astro/repo/notebooks/measurements.py:221: RankWarning: Polyfit may be poorly conditioned\n",
      "/Users/diego/Desktop/astro/repo/notebooks/measurements.py:221: RankWarning: Polyfit may be poorly conditioned\n",
      "/Users/diego/Desktop/astro/repo/notebooks/measurements.py:221: RankWarning: Polyfit may be poorly conditioned\n",
      "/Users/diego/Desktop/astro/repo/notebooks/measurements.py:221: RankWarning: Polyfit may be poorly conditioned\n",
      "/Users/diego/Desktop/astro/repo/notebooks/measurements.py:221: RankWarning: Polyfit may be poorly conditioned\n",
      "/Users/diego/Desktop/astro/repo/notebooks/measurements.py:221: RankWarning: Polyfit may be poorly conditioned\n",
      "/Users/diego/Desktop/astro/repo/notebooks/measurements.py:221: RankWarning: Polyfit may be poorly conditioned\n",
      "/Users/diego/Desktop/astro/repo/notebooks/measurements.py:221: RankWarning: Polyfit may be poorly conditioned\n",
      "/Users/diego/Desktop/astro/repo/notebooks/measurements.py:221: RankWarning: Polyfit may be poorly conditioned\n",
      "/Users/diego/Desktop/astro/repo/notebooks/measurements.py:221: RankWarning: Polyfit may be poorly conditioned\n",
      "/Users/diego/Desktop/astro/repo/notebooks/measurements.py:221: RankWarning: Polyfit may be poorly conditioned\n",
      "/Users/diego/Desktop/astro/repo/notebooks/measurements.py:221: RankWarning: Polyfit may be poorly conditioned\n",
      "/Users/diego/Desktop/astro/repo/notebooks/measurements.py:221: RankWarning: Polyfit may be poorly conditioned\n",
      "/Users/diego/Desktop/astro/repo/notebooks/measurements.py:221: RankWarning: Polyfit may be poorly conditioned\n",
      "/Users/diego/Desktop/astro/repo/notebooks/measurements.py:221: RankWarning: Polyfit may be poorly conditioned\n",
      "/Users/diego/Desktop/astro/repo/notebooks/measurements.py:221: RankWarning: Polyfit may be poorly conditioned\n",
      "/Users/diego/Desktop/astro/repo/notebooks/measurements.py:221: RankWarning: Polyfit may be poorly conditioned\n",
      "/Users/diego/Desktop/astro/repo/notebooks/measurements.py:221: RankWarning: Polyfit may be poorly conditioned\n",
      "/Users/diego/Desktop/astro/repo/notebooks/measurements.py:221: RankWarning: Polyfit may be poorly conditioned\n",
      "/Users/diego/Desktop/astro/repo/notebooks/measurements.py:221: RankWarning: Polyfit may be poorly conditioned\n",
      "/Users/diego/Desktop/astro/repo/notebooks/measurements.py:221: RankWarning: Polyfit may be poorly conditioned\n",
      "/Users/diego/Desktop/astro/repo/notebooks/measurements.py:221: RankWarning: Polyfit may be poorly conditioned\n",
      "/Users/diego/Desktop/astro/repo/notebooks/measurements.py:221: RankWarning: Polyfit may be poorly conditioned\n",
      "/Users/diego/Desktop/astro/repo/notebooks/measurements.py:221: RankWarning: Polyfit may be poorly conditioned\n",
      "/Users/diego/Desktop/astro/repo/notebooks/measurements.py:221: RankWarning: Polyfit may be poorly conditioned\n",
      "/Users/diego/Desktop/astro/repo/notebooks/measurements.py:221: RankWarning: Polyfit may be poorly conditioned\n",
      "/Users/diego/Desktop/astro/repo/notebooks/measurements.py:221: RankWarning: Polyfit may be poorly conditioned\n",
      "/Users/diego/Desktop/astro/repo/notebooks/measurements.py:221: RankWarning: Polyfit may be poorly conditioned\n",
      "/Users/diego/Desktop/astro/repo/notebooks/measurements.py:221: RankWarning: Polyfit may be poorly conditioned\n",
      "/Users/diego/Desktop/astro/repo/notebooks/measurements.py:221: RankWarning: Polyfit may be poorly conditioned\n",
      "/Users/diego/Desktop/astro/repo/notebooks/measurements.py:221: RankWarning: Polyfit may be poorly conditioned\n",
      "/Users/diego/Desktop/astro/repo/notebooks/measurements.py:221: RankWarning: Polyfit may be poorly conditioned\n",
      "/Users/diego/Desktop/astro/repo/notebooks/measurements.py:221: RankWarning: Polyfit may be poorly conditioned\n",
      "/Users/diego/Desktop/astro/repo/notebooks/measurements.py:221: RankWarning: Polyfit may be poorly conditioned\n",
      "/Users/diego/Desktop/astro/repo/notebooks/measurements.py:221: RankWarning: Polyfit may be poorly conditioned\n",
      "/Users/diego/Desktop/astro/repo/notebooks/measurements.py:221: RankWarning: Polyfit may be poorly conditioned\n",
      "/Users/diego/Desktop/astro/repo/notebooks/measurements.py:221: RankWarning: Polyfit may be poorly conditioned\n",
      "/Users/diego/Desktop/astro/repo/notebooks/measurements.py:221: RankWarning: Polyfit may be poorly conditioned\n",
      "/Users/diego/Desktop/astro/repo/notebooks/measurements.py:221: RankWarning: Polyfit may be poorly conditioned\n",
      "/Users/diego/Desktop/astro/repo/notebooks/measurements.py:221: RankWarning: Polyfit may be poorly conditioned\n"
     ]
    },
    {
     "name": "stdout",
     "output_type": "stream",
     "text": [
      "Finished task type=T obs=5 is_oversampled=True\n",
      "0 / 3615\n",
      "361 / 3615\n",
      "722 / 3615\n",
      "1083 / 3615\n",
      "1444 / 3615\n",
      "1805 / 3615\n",
      "2166 / 3615\n",
      "2527 / 3615\n",
      "2888 / 3615\n",
      "3249 / 3615\n",
      "3610 / 3615\n",
      "Finished task type=T obs=10 is_oversampled=False\n",
      "0 / 25305\n",
      "2530 / 25305\n",
      "0 / 25305\n",
      "2530 / 25305\n",
      "0 / 25305\n",
      "2530 / 25305\n",
      "0 / 25305\n",
      "2530 / 25305\n",
      "0 / 25305\n",
      "2530 / 25305\n",
      "0 / 25305\n",
      "2530 / 25305\n",
      "0 / 25305\n",
      "2530 / 25305\n",
      "Finished task type=T obs=10 is_oversampled=True\n"
     ]
    }
   ],
   "source": [
    "df_tra_feats_5 = generate_features(df_tra_5, transient=True, min_obs=5, oversample=False)\n",
    "df_tra_feats_5_os = generate_features(df_tra_5_os, transient=True, min_obs=5, oversample=True)\n",
    "\n",
    "df_tra_feats_10 = generate_features(df_tra_10, transient=True, min_obs=10, oversample=False)\n",
    "df_tra_feats_10_os = generate_features(df_tra_10_os, transient=True, min_obs=10, oversample=True)"
   ]
  },
  {
   "cell_type": "code",
   "execution_count": 199,
   "metadata": {
    "scrolled": true
   },
   "outputs": [
    {
     "name": "stdout",
     "output_type": "stream",
     "text": [
      "0 / 4269\n",
      "426 / 4269\n",
      "852 / 4269\n",
      "1278 / 4269\n"
     ]
    },
    {
     "name": "stderr",
     "output_type": "stream",
     "text": [
      "/Users/diego/Desktop/astro/repo/notebooks/measurements.py:221: RankWarning: Polyfit may be poorly conditioned\n"
     ]
    },
    {
     "name": "stdout",
     "output_type": "stream",
     "text": [
      "1704 / 4269\n",
      "2130 / 4269\n"
     ]
    },
    {
     "name": "stderr",
     "output_type": "stream",
     "text": [
      "/Users/diego/Desktop/astro/repo/notebooks/measurements.py:221: RankWarning: Polyfit may be poorly conditioned\n"
     ]
    },
    {
     "name": "stdout",
     "output_type": "stream",
     "text": [
      "2556 / 4269\n",
      "2982 / 4269\n",
      "3408 / 4269\n",
      "3834 / 4269\n"
     ]
    },
    {
     "name": "stderr",
     "output_type": "stream",
     "text": [
      "/Users/diego/Desktop/astro/repo/notebooks/measurements.py:221: RankWarning: Polyfit may be poorly conditioned\n"
     ]
    },
    {
     "name": "stdout",
     "output_type": "stream",
     "text": [
      "4260 / 4269\n",
      "Finished task type=NT obs=5 is_oversampled=False\n",
      "0 / 4269\n",
      "426 / 4269\n",
      "852 / 4269\n",
      "1278 / 4269\n"
     ]
    },
    {
     "name": "stderr",
     "output_type": "stream",
     "text": [
      "/Users/diego/Desktop/astro/repo/notebooks/measurements.py:221: RankWarning: Polyfit may be poorly conditioned\n"
     ]
    },
    {
     "name": "stdout",
     "output_type": "stream",
     "text": [
      "1704 / 4269\n",
      "2130 / 4269\n"
     ]
    },
    {
     "name": "stderr",
     "output_type": "stream",
     "text": [
      "/Users/diego/Desktop/astro/repo/notebooks/measurements.py:221: RankWarning: Polyfit may be poorly conditioned\n"
     ]
    },
    {
     "name": "stdout",
     "output_type": "stream",
     "text": [
      "2556 / 4269\n",
      "2982 / 4269\n",
      "3408 / 4269\n",
      "3834 / 4269\n"
     ]
    },
    {
     "name": "stderr",
     "output_type": "stream",
     "text": [
      "/Users/diego/Desktop/astro/repo/notebooks/measurements.py:221: RankWarning: Polyfit may be poorly conditioned\n"
     ]
    },
    {
     "name": "stdout",
     "output_type": "stream",
     "text": [
      "4260 / 4269\n",
      "Finished task type=NT obs=5 is_oversampled=True\n",
      "0 / 3615\n",
      "361 / 3615\n",
      "722 / 3615\n",
      "1083 / 3615\n",
      "1444 / 3615\n",
      "1805 / 3615\n",
      "2166 / 3615\n",
      "2527 / 3615\n",
      "2888 / 3615\n",
      "3249 / 3615\n",
      "3610 / 3615\n",
      "Finished task type=NT obs=10 is_oversampled=False\n",
      "0 / 3615\n",
      "361 / 3615\n",
      "722 / 3615\n",
      "1083 / 3615\n",
      "1444 / 3615\n",
      "1805 / 3615\n",
      "2166 / 3615\n",
      "2527 / 3615\n",
      "2888 / 3615\n",
      "3249 / 3615\n",
      "3610 / 3615\n",
      "Finished task type=NT obs=10 is_oversampled=True\n"
     ]
    }
   ],
   "source": [
    "df_nont_feats_5 = generate_features(df_nont_5, transient=False, min_obs=5, oversample=False)\n",
    "df_nont_feats_5_os = generate_features(df_nont_5_os, transient=False, min_obs=5, oversample=True)\n",
    "\n",
    "df_nont_feats_10 = generate_features(df_nont_10, transient=False, min_obs=10, oversample=False)\n",
    "df_nont_feats_10_os = generate_features(df_nont_10_os, transient=False, min_obs=10, oversample=True)"
   ]
  },
  {
   "cell_type": "markdown",
   "metadata": {},
   "source": [
    "#### EXTRA"
   ]
  },
  {
   "cell_type": "markdown",
   "metadata": {},
   "source": [
    "Count number of features"
   ]
  },
  {
   "cell_type": "code",
   "execution_count": null,
   "metadata": {
    "scrolled": true
   },
   "outputs": [],
   "source": [
    "# df_tran_features.count()"
   ]
  },
  {
   "cell_type": "markdown",
   "metadata": {},
   "source": [
    "Count number of unique features"
   ]
  },
  {
   "cell_type": "code",
   "execution_count": null,
   "metadata": {},
   "outputs": [],
   "source": [
    "# df_tran_features.T.apply(lambda x: x.nunique(), axis=1)"
   ]
  },
  {
   "cell_type": "markdown",
   "metadata": {},
   "source": [
    "Extract nontransient features"
   ]
  },
  {
   "cell_type": "code",
   "execution_count": null,
   "metadata": {},
   "outputs": [],
   "source": [
    "# df_nontran_features = extract_features(df_nont)"
   ]
  },
  {
   "cell_type": "markdown",
   "metadata": {},
   "source": [
    "Count number of features"
   ]
  },
  {
   "cell_type": "code",
   "execution_count": null,
   "metadata": {
    "scrolled": true
   },
   "outputs": [],
   "source": [
    "# df_feat_nontran.count()"
   ]
  },
  {
   "cell_type": "markdown",
   "metadata": {},
   "source": [
    "Count number of unique features"
   ]
  },
  {
   "cell_type": "code",
   "execution_count": null,
   "metadata": {},
   "outputs": [],
   "source": [
    "# df_feat_nontran.T.apply(lambda x: x.nunique(), axis=1)"
   ]
  },
  {
   "cell_type": "markdown",
   "metadata": {},
   "source": [
    "Save nontransient features"
   ]
  }
 ],
 "metadata": {
  "kernelspec": {
   "display_name": "Python 3",
   "language": "python",
   "name": "python3"
  },
  "language_info": {
   "codemirror_mode": {
    "name": "ipython",
    "version": 3
   },
   "file_extension": ".py",
   "mimetype": "text/x-python",
   "name": "python",
   "nbconvert_exporter": "python",
   "pygments_lexer": "ipython3",
   "version": "3.5.0"
  }
 },
 "nbformat": 4,
 "nbformat_minor": 2
}
