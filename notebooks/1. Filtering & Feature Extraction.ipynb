{
 "cells": [
  {
   "cell_type": "code",
   "execution_count": null,
   "metadata": {},
   "outputs": [],
   "source": [
    "DATA_PATH = '../data/'\n",
    "LIGHTCURVES_PATH = DATA_PATH + 'lightcurves/'\n",
    "FEATURES_PATH = DATA_PATH + 'features/'"
   ]
  },
  {
   "cell_type": "code",
   "execution_count": null,
   "metadata": {
    "scrolled": true
   },
   "outputs": [],
   "source": [
    "import numpy as np\n",
    "import pandas as pd\n",
    "import measurements, extract\n",
    "import matplotlib.pyplot as plt"
   ]
  },
  {
   "cell_type": "code",
   "execution_count": null,
   "metadata": {},
   "outputs": [],
   "source": [
    "filename = 'transient_catalog.pickle'\n",
    "indir = DATA_PATH; filepath = indir + filename\n",
    "df_cat = pd.read_pickle(filepath)"
   ]
  },
  {
   "cell_type": "markdown",
   "metadata": {},
   "source": [
    "Import transient lightcurves"
   ]
  },
  {
   "cell_type": "code",
   "execution_count": null,
   "metadata": {},
   "outputs": [],
   "source": [
    "filename = 'transient_lightcurves.pickle'\n",
    "indir = LIGHTCURVES_PATH; filepath = indir + filename\n",
    "df_tra = pd.read_pickle(filepath)\n",
    "df_tra.shape"
   ]
  },
  {
   "cell_type": "markdown",
   "metadata": {},
   "source": [
    "Filter transient lightcurves"
   ]
  },
  {
   "cell_type": "code",
   "execution_count": null,
   "metadata": {},
   "outputs": [],
   "source": [
    "# Minimum number of observations for each light curve used\n",
    "min_obs = 10"
   ]
  },
  {
   "cell_type": "code",
   "execution_count": null,
   "metadata": {},
   "outputs": [],
   "source": [
    "# Delete rows of blended observations\n",
    "df_tra = df_tra.drop_duplicates(['TransientID','MJD'], keep='first')\n",
    "# Add observation count to every transient\n",
    "df_count = df_tra.groupby('TransientID', as_index=False).count()\n",
    "df_count['ObsCount'] = df_count['Mag']\n",
    "df_count = df_count[['TransientID', 'ObsCount']]\n",
    "df_tra = df_tra.merge(df_count, how='inner')\n",
    "# Remove objects with less than min_obs\n",
    "df_tra = df_tra[df_tra.ObsCount >= min_obs]"
   ]
  },
  {
   "cell_type": "markdown",
   "metadata": {},
   "source": [
    "Import non-transient light curves"
   ]
  },
  {
   "cell_type": "code",
   "execution_count": null,
   "metadata": {},
   "outputs": [],
   "source": [
    "filename = 'nontransient_lightcurves.pickle'\n",
    "indir = LIGHTCURVES_PATH; filepath = indir + filename\n",
    "df_nont = pd.read_pickle(filepath)\n",
    "df_nont.shape"
   ]
  },
  {
   "cell_type": "markdown",
   "metadata": {},
   "source": [
    "Filter non-transient lightcurves"
   ]
  },
  {
   "cell_type": "code",
   "execution_count": null,
   "metadata": {},
   "outputs": [],
   "source": [
    "# Delete rows of blended observations\n",
    "df_nont = df_nont.drop_duplicates(['ID','MJD'], keep='first')\n",
    "# Add observation count to every nontransient\n",
    "df_count = df_nont.groupby('ID', as_index=False).count()\n",
    "df_count['ObsCount'] = df_count['Mag']\n",
    "df_count = df_count[['ID', 'ObsCount']]\n",
    "df_nont = df_nont.merge(df_count, how='inner')\n",
    "# Remove nontransient objects with less than 5 observations\n",
    "df_nont = df_nont[df_nont.ObsCount >= min_obs]\n",
    "df_nont.shape"
   ]
  },
  {
   "cell_type": "code",
   "execution_count": null,
   "metadata": {},
   "outputs": [],
   "source": [
    "np.random.seed(42)\n",
    "# Sample non-transient subset of same size as transients\n",
    "sample_size = df_tra.TransientID.unique().shape[0]\n",
    "IDs = np.random.choice(df_nont.ID.unique(), size=sample_size, replace=False)\n",
    "df_nont = df_nont[df_nont.ID.isin(IDs)]\n",
    "df_nont.ID.unique().shape, df_nont.shape"
   ]
  },
  {
   "cell_type": "markdown",
   "metadata": {},
   "source": [
    "Extract transient features"
   ]
  },
  {
   "cell_type": "code",
   "execution_count": null,
   "metadata": {
    "scrolled": true
   },
   "outputs": [],
   "source": [
    "# Create empty feature dict\n",
    "tran_feats = extract.feature_dict(31)\n",
    "for trID in df_tra.TransientID.unique():\n",
    "    # Get current object light curve\n",
    "    df = df_tra[df_tra.TransientID == trID]\n",
    "    # Get features\n",
    "    obj_feats = extract.features(df, feature_dict)\n",
    "    # Append features\n",
    "    for k,v in tran_feats.items():\n",
    "        if k != 'ID': tran_feats[k].append(obj_feats[k])\n",
    "    tran_feats['ID'].append(trID)\n",
    "# Create feature dataframe\n",
    "df_feat_tran = pd.DataFrame(tran_feats)"
   ]
  },
  {
   "cell_type": "markdown",
   "metadata": {},
   "source": [
    "Count number of features"
   ]
  },
  {
   "cell_type": "code",
   "execution_count": null,
   "metadata": {
    "scrolled": false
   },
   "outputs": [],
   "source": [
    "df_feat_tran.count()"
   ]
  },
  {
   "cell_type": "markdown",
   "metadata": {},
   "source": [
    "Count number of unique features"
   ]
  },
  {
   "cell_type": "code",
   "execution_count": null,
   "metadata": {},
   "outputs": [],
   "source": [
    "df_feat_tran.T.apply(lambda x: x.nunique(), axis=1)"
   ]
  },
  {
   "cell_type": "markdown",
   "metadata": {},
   "source": [
    "Save transient features"
   ]
  },
  {
   "cell_type": "code",
   "execution_count": null,
   "metadata": {},
   "outputs": [],
   "source": [
    "outdir = FEATURES_PATH"
   ]
  },
  {
   "cell_type": "code",
   "execution_count": null,
   "metadata": {},
   "outputs": [],
   "source": [
    "filename_form = 'transient_{}obs_{}feats.pickle'\n",
    "# Save all 31 features\n",
    "num_features = df_feat_tran.shape[1]-1\n",
    "filename = filename_form.format(min_obs, num_features) \n",
    "df_feat_tran.to_pickle(outdir + filename)\n",
    "# Save all 27 features\n",
    "df_feat_tran = df_feat_tran.drop(['poly4_a', 'poly4_b', 'poly4_c', 'poly4_d'], axis=1)\n",
    "num_features = df_feat_tran.shape[1]-1\n",
    "filename = filename_form.format(min_obs, num_features) \n",
    "df_feat_tran.to_pickle(outdir + filename)\n",
    "# Save all 21 features\n",
    "df_feat_tran = df_feat_tran.drop(['poly1_a','poly2_a','poly2_b','poly3_a','poly3_b','poly3_c'], axis=1)\n",
    "num_features = df_feat_tran.shape[1]-1\n",
    "filename = filename_form.format(min_obs, num_features) \n",
    "df_feat_tran.to_pickle(outdir + filename)\n",
    "# Save all 19 features\n",
    "df_feat_tran = df_feat_tran.drop(['small_kurtosis','pair_slope_trend_last_30'], axis=1)\n",
    "num_features = df_feat_tran.shape[1]-1\n",
    "filename = filename_form.format(min_obs, num_features) \n",
    "df_feat_tran.to_pickle(outdir + filename)"
   ]
  },
  {
   "cell_type": "markdown",
   "metadata": {},
   "source": [
    "Extract nontransient features"
   ]
  },
  {
   "cell_type": "code",
   "execution_count": null,
   "metadata": {},
   "outputs": [],
   "source": [
    "# Create empty feature dict\n",
    "nontran_feats = feature_dict(31)\n",
    "for ID in df_nont.ID.unique():\n",
    "    # Get current object light curve\n",
    "    df = df_nont[df_nont.ID == ID]\n",
    "    # Get features\n",
    "    obj_feats = extract.features(df, feature_dict)\n",
    "    # Append features\n",
    "    for k,v in nontran_feats.items():\n",
    "        if k != 'ID': nontran_feats[k].append(obj_feats[k])\n",
    "    nontran_feats['ID'].append(ID)\n",
    "# Create feature dataframe\n",
    "df_feat_nontran = pd.DataFrame(nontran_feats)"
   ]
  },
  {
   "cell_type": "markdown",
   "metadata": {},
   "source": [
    "Count number of features"
   ]
  },
  {
   "cell_type": "code",
   "execution_count": null,
   "metadata": {
    "scrolled": true
   },
   "outputs": [],
   "source": [
    "df_feat_nontran.count()"
   ]
  },
  {
   "cell_type": "markdown",
   "metadata": {},
   "source": [
    "Count number of unique features"
   ]
  },
  {
   "cell_type": "code",
   "execution_count": null,
   "metadata": {},
   "outputs": [],
   "source": [
    "df_feat_nontran.T.apply(lambda x: x.nunique(), axis=1)"
   ]
  },
  {
   "cell_type": "markdown",
   "metadata": {},
   "source": [
    "Save nontransient features"
   ]
  },
  {
   "cell_type": "code",
   "execution_count": null,
   "metadata": {},
   "outputs": [],
   "source": [
    "filename_form = 'nontransient_{}obs_{}feats.pickle'\n",
    "# Save all 31 features\n",
    "num_features = df_feat_nontran.shape[1]-1\n",
    "filename = filename_form.format(min_obs, num_features) \n",
    "df_feat_nontran.to_pickle(outdir + filename)\n",
    "# Save all 27 features\n",
    "df_feat_nontran = df_feat_nontran.drop(['poly4_a', 'poly4_b', 'poly4_c', 'poly4_d'], axis=1)\n",
    "num_features = df_feat_nontran.shape[1]-1\n",
    "filename = filename_form.format(min_obs, num_features) \n",
    "df_feat_nontran.to_pickle(outdir + filename)\n",
    "# Save all 21 features\n",
    "df_feat_nontran = df_feat_nontran.drop(['poly1_a','poly2_a','poly2_b','poly3_a','poly3_b','poly3_c'], axis=1)\n",
    "num_features = df_feat_nontran.shape[1]-1\n",
    "filename = filename_form.format(min_obs, num_features) \n",
    "df_feat_nontran.to_pickle(outdir + filename)\n",
    "# Save all 19 features\n",
    "df_feat_nontran = df_feat_nontran.drop(['small_kurtosis','pair_slope_trend_last_30'], axis=1)\n",
    "num_features = df_feat_nontran.shape[1]-1\n",
    "filename = filename_form.format(min_obs, num_features) \n",
    "df_feat_nontran.to_pickle(outdir + filename)"
   ]
  }
 ],
 "metadata": {
  "kernelspec": {
   "display_name": "Python 3",
   "language": "python",
   "name": "python3"
  },
  "language_info": {
   "codemirror_mode": {
    "name": "ipython",
    "version": 3
   },
   "file_extension": ".py",
   "mimetype": "text/x-python",
   "name": "python",
   "nbconvert_exporter": "python",
   "pygments_lexer": "ipython3",
   "version": "3.4.0"
  }
 },
 "nbformat": 4,
 "nbformat_minor": 2
}
