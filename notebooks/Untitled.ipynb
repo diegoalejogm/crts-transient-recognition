{
 "cells": [
  {
   "cell_type": "code",
   "execution_count": 1,
   "metadata": {},
   "outputs": [],
   "source": [
    "DATA_PATH = '../data/'\n",
    "LIGHTCURVES_PATH = DATA_PATH + 'lightcurves/'\n",
    "FEATURES_PATH = DATA_PATH + 'features/'"
   ]
  },
  {
   "cell_type": "code",
   "execution_count": 2,
   "metadata": {},
   "outputs": [],
   "source": [
    "import numpy as np\n",
    "import pandas as pd\n",
    "import measurements, extract\n",
    "import matplotlib.pyplot as plt"
   ]
  },
  {
   "cell_type": "code",
   "execution_count": 3,
   "metadata": {},
   "outputs": [],
   "source": [
    "min_obs = 5"
   ]
  },
  {
   "cell_type": "markdown",
   "metadata": {},
   "source": [
    "Import non-transient light curves"
   ]
  },
  {
   "cell_type": "code",
   "execution_count": 4,
   "metadata": {},
   "outputs": [
    {
     "data": {
      "text/plain": [
       "(1924409, 4)"
      ]
     },
     "execution_count": 4,
     "metadata": {},
     "output_type": "execute_result"
    }
   ],
   "source": [
    "filename = 'nontransient_lightcurves.pickle'\n",
    "indir = LIGHTCURVES_PATH; filepath = indir + filename\n",
    "df_nt_lcs = pd.read_pickle(filepath)\n",
    "df_nt_lcs.shape"
   ]
  },
  {
   "cell_type": "markdown",
   "metadata": {},
   "source": [
    "Filter non-transient lightcurves"
   ]
  },
  {
   "cell_type": "code",
   "execution_count": 5,
   "metadata": {},
   "outputs": [
    {
     "data": {
      "text/plain": [
       "(1798465, 5)"
      ]
     },
     "execution_count": 5,
     "metadata": {},
     "output_type": "execute_result"
    }
   ],
   "source": [
    "# Delete rows of blended observations\n",
    "df_nt_lcs = df_nt_lcs.drop_duplicates(['ID','MJD'], keep='first')\n",
    "# Add observation count to every nontransient\n",
    "df_count = df_nt_lcs.groupby('ID', as_index=False).count()\n",
    "df_count['ObsCount'] = df_count['Mag']\n",
    "df_count = df_count[['ID', 'ObsCount']]\n",
    "df_nt_lcs = df_nt_lcs.merge(df_count, how='inner')\n",
    "# Remove nontransient objects with less than 5 observations\n",
    "df_nt_lcs = df_nt_lcs[df_nt_lcs.ObsCount >= min_obs]\n",
    "df_nt_lcs.shape"
   ]
  },
  {
   "cell_type": "code",
   "execution_count": 6,
   "metadata": {
    "scrolled": true
   },
   "outputs": [
    {
     "data": {
      "text/plain": [
       "15193"
      ]
     },
     "execution_count": 6,
     "metadata": {},
     "output_type": "execute_result"
    }
   ],
   "source": [
    "len(df_nt_lcs.ID.unique())"
   ]
  },
  {
   "cell_type": "code",
   "execution_count": 94,
   "metadata": {},
   "outputs": [
    {
     "data": {
      "text/html": [
       "<div>\n",
       "<style scoped>\n",
       "    .dataframe tbody tr th:only-of-type {\n",
       "        vertical-align: middle;\n",
       "    }\n",
       "\n",
       "    .dataframe tbody tr th {\n",
       "        vertical-align: top;\n",
       "    }\n",
       "\n",
       "    .dataframe thead th {\n",
       "        text-align: right;\n",
       "    }\n",
       "</style>\n",
       "<table border=\"1\" class=\"dataframe\">\n",
       "  <thead>\n",
       "    <tr style=\"text-align: right;\">\n",
       "      <th></th>\n",
       "      <th>ID</th>\n",
       "      <th>Mag</th>\n",
       "      <th>Magerr</th>\n",
       "      <th>MJD</th>\n",
       "      <th>ObsCount</th>\n",
       "    </tr>\n",
       "    <tr>\n",
       "      <th>index</th>\n",
       "      <th></th>\n",
       "      <th></th>\n",
       "      <th></th>\n",
       "      <th></th>\n",
       "      <th></th>\n",
       "    </tr>\n",
       "  </thead>\n",
       "  <tbody>\n",
       "    <tr>\n",
       "      <th>0</th>\n",
       "      <td>CataID1121048016765</td>\n",
       "      <td>21.12</td>\n",
       "      <td>0.52</td>\n",
       "      <td>53732.34137</td>\n",
       "      <td>37</td>\n",
       "    </tr>\n",
       "    <tr>\n",
       "      <th>1</th>\n",
       "      <td>CataID1121048016765</td>\n",
       "      <td>20.85</td>\n",
       "      <td>0.45</td>\n",
       "      <td>53788.24432</td>\n",
       "      <td>37</td>\n",
       "    </tr>\n",
       "    <tr>\n",
       "      <th>2</th>\n",
       "      <td>CataID1121048016765</td>\n",
       "      <td>21.05</td>\n",
       "      <td>0.46</td>\n",
       "      <td>54054.45393</td>\n",
       "      <td>37</td>\n",
       "    </tr>\n",
       "    <tr>\n",
       "      <th>3</th>\n",
       "      <td>CataID1121048016765</td>\n",
       "      <td>20.09</td>\n",
       "      <td>0.28</td>\n",
       "      <td>54116.34092</td>\n",
       "      <td>37</td>\n",
       "    </tr>\n",
       "    <tr>\n",
       "      <th>4</th>\n",
       "      <td>CataID1121048016765</td>\n",
       "      <td>20.35</td>\n",
       "      <td>0.33</td>\n",
       "      <td>54185.14450</td>\n",
       "      <td>37</td>\n",
       "    </tr>\n",
       "  </tbody>\n",
       "</table>\n",
       "</div>"
      ],
      "text/plain": [
       "                        ID    Mag  Magerr          MJD  ObsCount\n",
       "index                                                           \n",
       "0      CataID1121048016765  21.12    0.52  53732.34137        37\n",
       "1      CataID1121048016765  20.85    0.45  53788.24432        37\n",
       "2      CataID1121048016765  21.05    0.46  54054.45393        37\n",
       "3      CataID1121048016765  20.09    0.28  54116.34092        37\n",
       "4      CataID1121048016765  20.35    0.33  54185.14450        37"
      ]
     },
     "execution_count": 94,
     "metadata": {},
     "output_type": "execute_result"
    }
   ],
   "source": [
    "df_nt_lcs.head()"
   ]
  },
  {
   "cell_type": "code",
   "execution_count": 100,
   "metadata": {},
   "outputs": [],
   "source": [
    "df_nt_lcs2 = df_nt_lcs.copy()\n",
    "df_nt_lcs2.index.name = 'index'\n",
    "df_nt_lcs2 = df_nt_lcs2.set_index(['ID'], append=True)\n",
    "df_nt_lcs2 = df_nt_lcs2.reorder_levels(['ID', 'index'])"
   ]
  },
  {
   "cell_type": "code",
   "execution_count": 110,
   "metadata": {},
   "outputs": [
    {
     "data": {
      "text/html": [
       "<div>\n",
       "<style scoped>\n",
       "    .dataframe tbody tr th:only-of-type {\n",
       "        vertical-align: middle;\n",
       "    }\n",
       "\n",
       "    .dataframe tbody tr th {\n",
       "        vertical-align: top;\n",
       "    }\n",
       "\n",
       "    .dataframe thead th {\n",
       "        text-align: right;\n",
       "    }\n",
       "</style>\n",
       "<table border=\"1\" class=\"dataframe\">\n",
       "  <thead>\n",
       "    <tr style=\"text-align: right;\">\n",
       "      <th></th>\n",
       "      <th></th>\n",
       "      <th>Mag</th>\n",
       "      <th>Magerr</th>\n",
       "      <th>MJD</th>\n",
       "      <th>ObsCount</th>\n",
       "    </tr>\n",
       "    <tr>\n",
       "      <th>ID</th>\n",
       "      <th>index</th>\n",
       "      <th></th>\n",
       "      <th></th>\n",
       "      <th></th>\n",
       "      <th></th>\n",
       "    </tr>\n",
       "  </thead>\n",
       "  <tbody>\n",
       "    <tr>\n",
       "      <th rowspan=\"5\" valign=\"top\">CataID1121048016765</th>\n",
       "      <th>0</th>\n",
       "      <td>21.12</td>\n",
       "      <td>0.52</td>\n",
       "      <td>53732.34137</td>\n",
       "      <td>37</td>\n",
       "    </tr>\n",
       "    <tr>\n",
       "      <th>1</th>\n",
       "      <td>20.85</td>\n",
       "      <td>0.45</td>\n",
       "      <td>53788.24432</td>\n",
       "      <td>37</td>\n",
       "    </tr>\n",
       "    <tr>\n",
       "      <th>2</th>\n",
       "      <td>21.05</td>\n",
       "      <td>0.46</td>\n",
       "      <td>54054.45393</td>\n",
       "      <td>37</td>\n",
       "    </tr>\n",
       "    <tr>\n",
       "      <th>3</th>\n",
       "      <td>20.09</td>\n",
       "      <td>0.28</td>\n",
       "      <td>54116.34092</td>\n",
       "      <td>37</td>\n",
       "    </tr>\n",
       "    <tr>\n",
       "      <th>4</th>\n",
       "      <td>20.35</td>\n",
       "      <td>0.33</td>\n",
       "      <td>54185.14450</td>\n",
       "      <td>37</td>\n",
       "    </tr>\n",
       "  </tbody>\n",
       "</table>\n",
       "</div>"
      ],
      "text/plain": [
       "                             Mag  Magerr          MJD  ObsCount\n",
       "ID                  index                                      \n",
       "CataID1121048016765 0      21.12    0.52  53732.34137        37\n",
       "                    1      20.85    0.45  53788.24432        37\n",
       "                    2      21.05    0.46  54054.45393        37\n",
       "                    3      20.09    0.28  54116.34092        37\n",
       "                    4      20.35    0.33  54185.14450        37"
      ]
     },
     "execution_count": 110,
     "metadata": {},
     "output_type": "execute_result"
    }
   ],
   "source": [
    "df_nt_lcs2.head()"
   ]
  },
  {
   "cell_type": "markdown",
   "metadata": {},
   "source": [
    "### Experimental"
   ]
  },
  {
   "cell_type": "markdown",
   "metadata": {},
   "source": [
    "Find duplicated light-curves in non-transient dataframe"
   ]
  },
  {
   "cell_type": "code",
   "execution_count": 185,
   "metadata": {},
   "outputs": [],
   "source": [
    "def areEqualLightCurves(df_lcs, id1, id2):\n",
    "    lc1 = df_lcs.loc[id1].sort_values(by='MJD')\n",
    "    lc1 = lc1[['Mag', 'Magerr', 'MJD']].reset_index(drop=True)\n",
    "    lc2 = df_lcs.loc[id2].sort_values(by='MJD')\n",
    "    lc2 = lc2[['Mag', 'Magerr', 'MJD']].reset_index(drop=True)\n",
    "    return lc1.equals(lc2)\n",
    "\n",
    "def possiblyRepeatedObservations(df_lcs, obscount = 1):\n",
    "    df_counts_by_observation = df_lcs.groupby(['Mag', 'Magerr', 'MJD'], as_index=False).count()\n",
    "    df_counts_by_observation = df_counts_by_observation[df_counts_by_observation.ObsCount > obscount]\n",
    "    return df_counts_by_observation\n",
    "\n",
    "def possiblyRepeatedByGroups(df_lcs):\n",
    "    groups = []\n",
    "    df_poss_repeat_obs = possiblyRepeatedObservations(df_lcs)\n",
    "    for index, row in df_poss_repeat_obs.iterrows():\n",
    "        current_ids = df_lcs[\n",
    "            (df_lcs.Mag == row.Mag)&(df_lcs.Magerr == row.Magerr) &(df_lcs.MJD == row.MJD)\n",
    "        ].index.get_level_values('ID').unique()\n",
    "        groups.append(current_ids)\n",
    "    return groups\n",
    "\n",
    "def repeatedLightCurves(df_lcs, possibly_by_groups_list):\n",
    "    copies = {}\n",
    "    len_possibly_by_groups_list = len(possibly_by_groups_list)\n",
    "    for i_group, group in enumerate(possibly_by_groups_list):\n",
    "        if i_group % int(len_possibly_by_groups_list/10) == 0:\n",
    "            print(i_group, '/', len_possibly_by_groups_list)\n",
    "        found_as_copy = []\n",
    "        for i, id1 in enumerate(group):\n",
    "#             print(i, len(group))\n",
    "            if id1 not in found_as_copy:\n",
    "                for j, id2 in enumerate(group[i+1:]):\n",
    "                    are_equal = areEqualLightCurves(df_lcs, id1, id2)\n",
    "                    if are_equal and (id1 not in copies or id2 not in copies[id1]): \n",
    "                        found_as_copy.append(id2)\n",
    "                        print(id1, id2)\n",
    "                        if id1 not in copies: \n",
    "                            copies[id1] = []\n",
    "                        copies[id1].append(id2)\n",
    "    return copies"
   ]
  },
  {
   "cell_type": "code",
   "execution_count": null,
   "metadata": {
    "scrolled": true
   },
   "outputs": [],
   "source": [
    "# Takes a while...\n",
    "possibly_by_groups_list = possiblyRepeatedByGroups(df_nt_lcs2)"
   ]
  },
  {
   "cell_type": "code",
   "execution_count": 149,
   "metadata": {
    "scrolled": true
   },
   "outputs": [
    {
     "name": "stdout",
     "output_type": "stream",
     "text": [
      "0 / 9367\n",
      "936 / 9367\n",
      "1872 / 9367\n",
      "2808 / 9367\n",
      "3744 / 9367\n",
      "4680 / 9367\n",
      "5616 / 9367\n",
      "6552 / 9367\n",
      "7488 / 9367\n",
      "8424 / 9367\n",
      "9360 / 9367\n"
     ]
    }
   ],
   "source": [
    "copies = repeatedLightCurves(df_nt_lcs2, possibly_by_groups_list)"
   ]
  },
  {
   "cell_type": "code",
   "execution_count": 150,
   "metadata": {},
   "outputs": [
    {
     "data": {
      "text/plain": [
       "{}"
      ]
     },
     "execution_count": 150,
     "metadata": {},
     "output_type": "execute_result"
    }
   ],
   "source": [
    "copies"
   ]
  },
  {
   "cell_type": "markdown",
   "metadata": {},
   "source": [
    "#### Find transient light curves in non-transient dataframe"
   ]
  },
  {
   "cell_type": "markdown",
   "metadata": {},
   "source": [
    "Import and filter transients"
   ]
  },
  {
   "cell_type": "code",
   "execution_count": 154,
   "metadata": {},
   "outputs": [
    {
     "data": {
      "text/plain": [
       "(451474, 4)"
      ]
     },
     "execution_count": 154,
     "metadata": {},
     "output_type": "execute_result"
    }
   ],
   "source": [
    "filename = 'transient_lightcurves.pickle'\n",
    "indir = LIGHTCURVES_PATH; filepath = indir + filename\n",
    "df_t_lcs = pd.read_pickle(filepath)\n",
    "df_t_lcs.shape"
   ]
  },
  {
   "cell_type": "code",
   "execution_count": 159,
   "metadata": {},
   "outputs": [],
   "source": [
    "# Delete rows of blended observations\n",
    "df_t_lcs = df_t_lcs.drop_duplicates(['TransientID','MJD'], keep='first')\n",
    "# Add observation count to every transient\n",
    "df_count = df_t_lcs.groupby('TransientID', as_index=False).count()\n",
    "df_count['ObsCount'] = df_count['Mag']\n",
    "df_count = df_count[['TransientID', 'ObsCount']]\n",
    "df_t_lcs = df_t_lcs.merge(df_count, how='inner')\n",
    "# Remove objects with less than min_obs\n",
    "df_t_lcs = df_t_lcs[df_t_lcs.ObsCount >= min_obs]"
   ]
  },
  {
   "cell_type": "code",
   "execution_count": 163,
   "metadata": {},
   "outputs": [
    {
     "data": {
      "text/html": [
       "<div>\n",
       "<style scoped>\n",
       "    .dataframe tbody tr th:only-of-type {\n",
       "        vertical-align: middle;\n",
       "    }\n",
       "\n",
       "    .dataframe tbody tr th {\n",
       "        vertical-align: top;\n",
       "    }\n",
       "\n",
       "    .dataframe thead th {\n",
       "        text-align: right;\n",
       "    }\n",
       "</style>\n",
       "<table border=\"1\" class=\"dataframe\">\n",
       "  <thead>\n",
       "    <tr style=\"text-align: right;\">\n",
       "      <th></th>\n",
       "      <th></th>\n",
       "      <th>Mag</th>\n",
       "      <th>Magerr</th>\n",
       "      <th>MJD</th>\n",
       "      <th>ObsCount</th>\n",
       "    </tr>\n",
       "    <tr>\n",
       "      <th></th>\n",
       "      <th>ID</th>\n",
       "      <th></th>\n",
       "      <th></th>\n",
       "      <th></th>\n",
       "      <th></th>\n",
       "    </tr>\n",
       "  </thead>\n",
       "  <tbody>\n",
       "    <tr>\n",
       "      <th>0</th>\n",
       "      <th>TranID1409030010044114444</th>\n",
       "      <td>18.8765</td>\n",
       "      <td>0.166417</td>\n",
       "      <td>53766.089871</td>\n",
       "      <td>13</td>\n",
       "    </tr>\n",
       "    <tr>\n",
       "      <th>1</th>\n",
       "      <th>TranID1409030010044114444</th>\n",
       "      <td>20.0519</td>\n",
       "      <td>0.281733</td>\n",
       "      <td>53990.458866</td>\n",
       "      <td>13</td>\n",
       "    </tr>\n",
       "    <tr>\n",
       "      <th>2</th>\n",
       "      <th>TranID1409030010044114444</th>\n",
       "      <td>20.2199</td>\n",
       "      <td>0.295764</td>\n",
       "      <td>53996.286004</td>\n",
       "      <td>13</td>\n",
       "    </tr>\n",
       "    <tr>\n",
       "      <th>3</th>\n",
       "      <th>TranID1409030010044114444</th>\n",
       "      <td>21.1192</td>\n",
       "      <td>0.495390</td>\n",
       "      <td>54385.205789</td>\n",
       "      <td>13</td>\n",
       "    </tr>\n",
       "    <tr>\n",
       "      <th>4</th>\n",
       "      <th>TranID1409030010044114444</th>\n",
       "      <td>19.3289</td>\n",
       "      <td>0.195002</td>\n",
       "      <td>54355.282285</td>\n",
       "      <td>13</td>\n",
       "    </tr>\n",
       "  </tbody>\n",
       "</table>\n",
       "</div>"
      ],
      "text/plain": [
       "                                 Mag    Magerr           MJD  ObsCount\n",
       "  ID                                                                  \n",
       "0 TranID1409030010044114444  18.8765  0.166417  53766.089871        13\n",
       "1 TranID1409030010044114444  20.0519  0.281733  53990.458866        13\n",
       "2 TranID1409030010044114444  20.2199  0.295764  53996.286004        13\n",
       "3 TranID1409030010044114444  21.1192  0.495390  54385.205789        13\n",
       "4 TranID1409030010044114444  19.3289  0.195002  54355.282285        13"
      ]
     },
     "execution_count": 163,
     "metadata": {},
     "output_type": "execute_result"
    }
   ],
   "source": [
    "df_t_lcs2 = df_t_lcs.rename(columns={'TransientID':'ID'})\n",
    "df_t_lcs2 = df_t_lcs2.set_index(['ID'], append=True)\n",
    "df_t_lcs2.head()"
   ]
  },
  {
   "cell_type": "code",
   "execution_count": 179,
   "metadata": {},
   "outputs": [],
   "source": [
    "df_t_lcs2 = df_t_lcs.copy()\n",
    "df_t_lcs2.index.name = 'index'\n",
    "df_t_lcs2 = df_t_lcs2.rename(columns={'TransientID':'ID'})\n",
    "df_t_lcs2 = df_t_lcs2.set_index(['ID'], append=True)\n",
    "df_t_lcs2 = df_t_lcs2.reorder_levels(['ID', 'index'])"
   ]
  },
  {
   "cell_type": "code",
   "execution_count": 181,
   "metadata": {},
   "outputs": [],
   "source": [
    "# Takes a while...\n",
    "possibly_by_groups_list_t = possiblyRepeatedByGroups(df_t_lcs2)"
   ]
  },
  {
   "cell_type": "code",
   "execution_count": 186,
   "metadata": {
    "scrolled": false
   },
   "outputs": [
    {
     "name": "stdout",
     "output_type": "stream",
     "text": [
      "0 / 8663\n",
      "TranID1010311350054106115 TranID1209261350054109025\n",
      "TranID1405261260424118499 TranID1201131260424117626\n",
      "TranID1406251180794109133 TranID1203281180794110813\n",
      "TranID1209220231174118379 TranID1310240231174115951\n",
      "TranID1306161011264117300 TranID1607061011264118208\n",
      "TranID1604051150914112284 TranID1303181150914117439\n",
      "TranID1301221040864152906 TranID1504011040864145999\n",
      "TranID1104281380304112024 TranID1310271380304111884\n",
      "TranID1301171040504112807 TranID1601131040504110352\n",
      "TranID1601200090724142448 TranID1304290090724141600\n",
      "TranID1212101070614108872 TranID1211151070614108238\n",
      "TranID1212101070614108872 TranID1211231070614109198\n",
      "TranID1212101070614108872 TranID1011161070614109449\n",
      "TranID1211151070614108238 TranID1211231070614109198\n",
      "TranID1211151070614108238 TranID1011161070614109449\n",
      "TranID1211231070614109198 TranID1011161070614109449\n",
      "TranID1502140070764121999 TranID1206230070764120012\n",
      "TranID1201250150604137052 TranID1312310150604133926\n",
      "TranID1604061040774129136 TranID1303161040774127865\n",
      "866 / 8663\n",
      "TranID1512031430414122287 TranID1201191430414129179\n",
      "TranID1212131040594104095 TranID1211241040594103370\n",
      "TranID1212131040594104095 TranID1211041040594103137\n",
      "TranID1212131040594104095 TranID1212081040594104311\n",
      "TranID1212131040594104095 TranID1212201040594103839\n",
      "TranID1212131040594104095 TranID1511211040594102791\n",
      "TranID1202180120574141811 TranID1312310120574151051\n",
      "TranID1604290090724146073 TranID1401070090724151417\n",
      "TranID1211241040594103370 TranID1211041040594103137\n",
      "TranID1211241040594103370 TranID1212081040594104311\n",
      "TranID1211241040594103370 TranID1212201040594103839\n",
      "TranID1211241040594103370 TranID1511211040594102791\n",
      "TranID1211041040594103137 TranID1212081040594104311\n",
      "TranID1211041040594103137 TranID1212201040594103839\n",
      "TranID1211041040594103137 TranID1511211040594102791\n",
      "TranID1209190011264107526 TranID1509170011264107027\n",
      "TranID1210090180064127981 TranID1510120180064121023\n",
      "TranID1212081040594104311 TranID1212201040594103839\n",
      "TranID1212081040594104311 TranID1511211040594102791\n",
      "TranID1212201040594103839 TranID1511211040594102791\n",
      "TranID1211030011184117219 TranID1410180011184116122\n",
      "TranID1104300121104103880 TranID1308280121104103099\n",
      "TranID1010081290014121920 TranID1306151290014118570\n",
      "TranID1405110090864121126 TranID1202210090864126508\n",
      "TranID1205190090574131466 TranID1012130090574133758\n",
      "TranID1305101380784129660 TranID1511101380784124463\n",
      "TranID1406061180704130379 TranID1205151180704135143\n",
      "TranID1401031150674125979 TranID1105241150674125381\n",
      "1732 / 8663\n",
      "TranID1504230010894142407 TranID1208130010894127116\n",
      "TranID1111151180174127137 TranID1309261180174130294\n",
      "TranID1309241090044129182 TranID1607081090044127680\n",
      "TranID1206181230684113341 TranID1005121230684112564\n",
      "TranID1111191230074124966 TranID1309161230074127240\n",
      "TranID1502201230684114159 TranID1501181230684115146\n",
      "TranID1105131071194105275 TranID1306031071194105035\n",
      "TranID1601121260564107405 TranID1206181260564106689\n",
      "TranID1401211010874151747 TranID1201301010874161028\n",
      "TranID1111280090254147222 TranID1310140090254143098\n",
      "TranID1211061320024142735 TranID1211151320024143451\n",
      "TranID1211061320024142735 TranID1509201320024142849\n",
      "TranID1109221321074116304 TranID1308281321074116643\n",
      "TranID1209190070174113766 TranID1410280070174111458\n",
      "2598 / 8663\n",
      "TranID1111031520324144272 TranID911061520324139275\n",
      "TranID1201230150784136277 TranID1004050150784128556\n",
      "TranID1304101150764142626 TranID1104041150764142581\n",
      "TranID1210131010164129332 TranID1411171010164128066\n",
      "TranID1504291690384116269 TranID1306171690384118959\n",
      "TranID1303011180144110751 TranID1509201180144113784\n",
      "TranID1211151320024143451 TranID1509201320024142849\n",
      "TranID911200040324150271 TranID1110030040324144414\n",
      "TranID1607071380774156515 TranID1209061380774148393\n",
      "TranID1301221040864152365 TranID1503161040864152472\n",
      "TranID1504131090894153902 TranID1209181090894150144\n",
      "TranID1401070090794151988 TranID1202210090794158083\n",
      "TranID1506180040674111242 TranID1212200040674116039\n",
      "TranID1506180040674111242 TranID1212100040674114384\n",
      "TranID1212200040674116039 TranID1212100040674114384\n",
      "3464 / 8663\n",
      "TranID1304041290654130369 TranID1102251290654131280\n",
      "TranID1411231350454114598 TranID1204271350454119046\n",
      "TranID1309011180214134165 TranID1609061180214126235\n",
      "TranID1510011490274103763 TranID1302011490274104873\n",
      "TranID1503251010844136382 TranID1204171010844154549\n",
      "TranID1512051260464106558 TranID1301101260464109475\n",
      "TranID1604171380614134615 TranID1201291380614145815\n",
      "TranID1301181430464127521 TranID1601151430464122188\n",
      "4330 / 8663\n",
      "TranID1602051070734101526 TranID1302171070734101998\n",
      "TranID1301031350364121228 TranID1102121350364121364\n",
      "TranID1608310181104112828 TranID1607060181104115239\n",
      "TranID1608310181104112828 TranID1309120181104114898\n",
      "TranID1607060181104115239 TranID1309120181104114898\n",
      "TranID1204191260584120421 TranID1406221260584116694\n",
      "TranID1209260210054119103 TranID1510120210054117927\n",
      "TranID1309011180204130069 TranID1610211180204120790\n",
      "TranID1301100070484108784 TranID1511190070484109286\n",
      "TranID1602071460524126217 TranID1104271460524126836\n",
      "TranID1107011120094102684 TranID1309241120094101179\n",
      "TranID1303051230684111017 TranID1101151230684116296\n",
      "TranID1602171490334121172 TranID1201191490334131246\n",
      "TranID1206161291084136687 TranID1409261291084137422\n",
      "TranID1511191290514126351 TranID1203251290514127097\n",
      "5196 / 8663\n",
      "TranID1206141460544140072 TranID1003261460544130600\n",
      "TranID1308280041244110839 TranID1606160041244108573\n",
      "TranID1306191350614114230 TranID1102231350614114801\n",
      "TranID1504091040684126844 TranID1205211040684129945\n",
      "TranID1601161290594108371 TranID1203291290594112656\n",
      "TranID1603020180764137922 TranID1305160180764144916\n",
      "TranID1405250010874131351 TranID1203160010874160538\n",
      "TranID1503141460484104225 TranID1201271460484105896\n",
      "TranID1603010150504117042 TranID1301200150504118194\n",
      "TranID904180210754153893 TranID805110210754143931\n",
      "6062 / 8663\n",
      "TranID1201091210644109910 TranID1503281210644113589\n",
      "TranID1206121180764126679 TranID1504301180764122286\n",
      "TranID1607071290674126131 TranID1303171290674135204\n",
      "TranID1211251010564111427 TranID1512061010564110200\n",
      "TranID1505071180764136452 TranID1106051180764143736\n",
      "TranID804241120844107122 TranID1201201120844113010\n",
      "TranID1309010071244136626 TranID1109180071244128796\n",
      "TranID1001061320334228647 TranID1111031320334130168\n",
      "TranID1511101520324127922 TranID1511231520324124767\n",
      "6928 / 8663\n",
      "TranID1603021120804134905 TranID1304031120804136660\n",
      "TranID1210270120284116794 TranID1210200120284120600\n",
      "TranID1503211010654104157 TranID1302141010654105793\n",
      "TranID1209180040174139651 TranID1410050040174127597\n",
      "TranID1103050040844106641 TranID1603200040844105787\n",
      "TranID1301061090094117234 TranID1509241090094114461\n",
      "TranID1504211350674136634 TranID1303231350674129048\n",
      "7794 / 8663\n",
      "TranID1104261260724113314 TranID1201181260724114611\n",
      "TranID1112241090224127804 TranID1102041090224124459\n",
      "TranID1310120150164117921 TranID1311100150164118366\n",
      "TranID1111020260014102295 TranID1111300260014103252\n",
      "TranID1110310180154126160 TranID1110190180154119758\n",
      "TranID1303161320574130573 TranID1302051320574131490\n",
      "8660 / 8663\n"
     ]
    }
   ],
   "source": [
    "copies_t = repeatedLightCurves(df_t_lcs2, possibly_by_groups_list_t)"
   ]
  },
  {
   "cell_type": "code",
   "execution_count": 194,
   "metadata": {},
   "outputs": [],
   "source": [
    "df_t_lcs3 = df_t_lcs2.copy()\n",
    "for original, list in copies_t.items():\n",
    "    df_t_lcs3 = df_t_lcs3.drop(list, level='ID')"
   ]
  },
  {
   "cell_type": "code",
   "execution_count": 195,
   "metadata": {},
   "outputs": [],
   "source": [
    "# Takes a while...\n",
    "possibly_by_groups_list_t = possiblyRepeatedByGroups(df_t_lcs3)"
   ]
  },
  {
   "cell_type": "code",
   "execution_count": 196,
   "metadata": {},
   "outputs": [
    {
     "name": "stdout",
     "output_type": "stream",
     "text": [
      "0 / 4318\n",
      "431 / 4318\n",
      "862 / 4318\n",
      "1293 / 4318\n",
      "1724 / 4318\n",
      "2155 / 4318\n",
      "2586 / 4318\n",
      "3017 / 4318\n",
      "3448 / 4318\n",
      "3879 / 4318\n",
      "4310 / 4318\n"
     ]
    }
   ],
   "source": [
    "copies_t = repeatedLightCurves(df_t_lcs3, possibly_by_groups_list_t)"
   ]
  },
  {
   "cell_type": "markdown",
   "metadata": {},
   "source": [
    "#### Test merges"
   ]
  },
  {
   "cell_type": "code",
   "execution_count": 198,
   "metadata": {},
   "outputs": [],
   "source": [
    "df_t_nt_lcs = pd.concat([df_t_lcs3, df_nt_lcs2])"
   ]
  },
  {
   "cell_type": "code",
   "execution_count": 201,
   "metadata": {},
   "outputs": [],
   "source": [
    "# Takes a while...\n",
    "possibly_by_groups_list_t_nt = possiblyRepeatedByGroups(df_t_nt_lcs)"
   ]
  },
  {
   "cell_type": "code",
   "execution_count": 202,
   "metadata": {},
   "outputs": [
    {
     "name": "stdout",
     "output_type": "stream",
     "text": [
      "0 / 13685\n",
      "1368 / 13685\n",
      "2736 / 13685\n",
      "4104 / 13685\n",
      "5472 / 13685\n",
      "6840 / 13685\n",
      "8208 / 13685\n",
      "9576 / 13685\n",
      "10944 / 13685\n",
      "12312 / 13685\n",
      "13680 / 13685\n"
     ]
    }
   ],
   "source": [
    "copies_t_nt = repeatedLightCurves(df_t_nt_lcs, possibly_by_groups_list_t_nt)"
   ]
  },
  {
   "cell_type": "code",
   "execution_count": null,
   "metadata": {},
   "outputs": [],
   "source": []
  }
 ],
 "metadata": {
  "kernelspec": {
   "display_name": "Python 3",
   "language": "python",
   "name": "python3"
  },
  "language_info": {
   "codemirror_mode": {
    "name": "ipython",
    "version": 3
   },
   "file_extension": ".py",
   "mimetype": "text/x-python",
   "name": "python",
   "nbconvert_exporter": "python",
   "pygments_lexer": "ipython3",
   "version": "3.5.0"
  }
 },
 "nbformat": 4,
 "nbformat_minor": 2
}
