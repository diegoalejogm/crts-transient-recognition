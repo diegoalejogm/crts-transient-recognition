{
 "cells": [
  {
   "cell_type": "code",
   "execution_count": 15,
   "metadata": {},
   "outputs": [],
   "source": [
    "%reload_ext autoreload\n",
    "%autoreload 2"
   ]
  },
  {
   "cell_type": "code",
   "execution_count": 16,
   "metadata": {},
   "outputs": [],
   "source": [
    "import pandas as pd\n",
    "import numpy as np\n",
    "import inputs2"
   ]
  },
  {
   "cell_type": "code",
   "execution_count": 17,
   "metadata": {},
   "outputs": [],
   "source": [
    "DATA_PATH = '../data/'\n",
    "FEATURES_PATH = DATA_PATH + 'features/'\n",
    "INPUTS_PATH = DATA_PATH + 'inputs/'"
   ]
  },
  {
   "cell_type": "markdown",
   "metadata": {},
   "source": [
    "#### Load Transient Features"
   ]
  },
  {
   "cell_type": "code",
   "execution_count": 18,
   "metadata": {},
   "outputs": [],
   "source": [
    "filename = 'T.pickle'\n",
    "indir = FEATURES_PATH; filepath = indir + filename\n",
    "df_feats_t = pd.read_pickle(filepath)\n",
    "df_feats_t = df_feats_t.sort_index(level=['copy_num', 'ID'])"
   ]
  },
  {
   "cell_type": "markdown",
   "metadata": {},
   "source": [
    "#### Load Non-Transient Features"
   ]
  },
  {
   "cell_type": "code",
   "execution_count": 19,
   "metadata": {},
   "outputs": [],
   "source": [
    "filename = 'NT.pickle'\n",
    "indir = FEATURES_PATH; filepath = indir + filename\n",
    "df_feats_nt = pd.read_pickle(filepath)"
   ]
  },
  {
   "cell_type": "code",
   "execution_count": 20,
   "metadata": {},
   "outputs": [
    {
     "data": {
      "text/plain": [
       "Index(['Class', 'ObsCount', 'amplitude', 'beyond1st',\n",
       "       'flux_percentile_ratio_mid20', 'flux_percentile_ratio_mid35',\n",
       "       'flux_percentile_ratio_mid50', 'flux_percentile_ratio_mid65',\n",
       "       'flux_percentile_ratio_mid80', 'kurtosis', 'max_slope',\n",
       "       'median_absolute_deviation', 'median_buffer_range_percentage',\n",
       "       'pair_slope_trend', 'pair_slope_trend_last_30', 'percent_amplitude',\n",
       "       'percent_difference_flux_percentile', 'poly1_t1', 'poly2_t1',\n",
       "       'poly2_t2', 'poly3_t1', 'poly3_t2', 'poly3_t3', 'poly4_t1', 'poly4_t2',\n",
       "       'poly4_t3', 'poly4_t4', 'skew', 'small_kurtosis', 'std', 'stetson_j',\n",
       "       'stetson_k'],\n",
       "      dtype='object')"
      ]
     },
     "execution_count": 20,
     "metadata": {},
     "output_type": "execute_result"
    }
   ],
   "source": [
    "df_feats_nt.columns"
   ]
  },
  {
   "cell_type": "code",
   "execution_count": 22,
   "metadata": {
    "scrolled": true
   },
   "outputs": [
    {
     "name": "stdout",
     "output_type": "stream",
     "text": [
      "Generating Inputs for 5 Observations\n",
      "0 ['Non-Transient' 'Non-Transient' 'Transient' ... 'Non-Transient'\n",
      " 'Non-Transient' 'Transient']\n",
      "1 ['HPM' 'SN' 'SN' ... 'SN' 'AGN' 'SN']\n",
      "2 ['Other' 'SN' 'SN' ... 'SN' 'AGN' 'SN']\n",
      "3 ['AGN' 'HPM' 'Non-Transient' ... 'AGN' 'SN' 'Non-Transient']\n",
      "4 ['Non-Transient' 'Other' 'Non-Transient' ... 'SN' 'Non-Transient'\n",
      " 'Non-Transient']\n",
      "0 ['SN' 'Flare' 'SN' ... 'HPM' 'AGN' 'AGN']\n",
      "1 ['HPM' 'CV' 'Blazar' ... 'Blazar' 'HPM' 'AGN']\n",
      "2 ['HPM' 'CV' 'Blazar' ... 'Blazar' 'HPM' 'AGN']\n",
      "3 ['HPM' 'Non-Transient' 'CV' ... 'Blazar' 'HPM' 'AGN']\n",
      "Successfully saved: ../data/inputs/binary/simple/20/5\n",
      "Successfully saved: ../data/inputs/binary/simple/26/5\n",
      "Successfully saved: ../data/inputs/binary/simple/30/5\n",
      "Successfully saved: ../data/inputs/six_transients/simple/20/5\n",
      "Successfully saved: ../data/inputs/six_transients/simple/26/5\n",
      "Successfully saved: ../data/inputs/six_transients/simple/30/5\n",
      "Successfully saved: ../data/inputs/seven_transients/simple/20/5\n",
      "Successfully saved: ../data/inputs/seven_transients/simple/26/5\n",
      "Successfully saved: ../data/inputs/seven_transients/simple/30/5\n",
      "Successfully saved: ../data/inputs/seven_classes/simple/20/5\n",
      "Successfully saved: ../data/inputs/seven_classes/simple/26/5\n",
      "Successfully saved: ../data/inputs/seven_classes/simple/30/5\n",
      "Successfully saved: ../data/inputs/eight_classes/simple/20/5\n",
      "Successfully saved: ../data/inputs/eight_classes/simple/26/5\n",
      "Successfully saved: ../data/inputs/eight_classes/simple/30/5\n",
      "Successfully saved: ../data/inputs/six_transients/oversampled/20/5\n",
      "Successfully saved: ../data/inputs/six_transients/oversampled/26/5\n",
      "Successfully saved: ../data/inputs/six_transients/oversampled/30/5\n",
      "Successfully saved: ../data/inputs/seven_transients/oversampled/20/5\n",
      "Successfully saved: ../data/inputs/seven_transients/oversampled/26/5\n",
      "Successfully saved: ../data/inputs/seven_transients/oversampled/30/5\n",
      "Successfully saved: ../data/inputs/seven_classes/oversampled/20/5\n",
      "Successfully saved: ../data/inputs/seven_classes/oversampled/26/5\n",
      "Successfully saved: ../data/inputs/seven_classes/oversampled/30/5\n",
      "Successfully saved: ../data/inputs/eight_classes/oversampled/20/5\n",
      "Successfully saved: ../data/inputs/eight_classes/oversampled/26/5\n",
      "Successfully saved: ../data/inputs/eight_classes/oversampled/30/5\n",
      "Generating Inputs for 10 Observations\n",
      "0 ['Transient' 'Non-Transient' 'Non-Transient' ... 'Non-Transient'\n",
      " 'Non-Transient' 'Transient']\n",
      "1 ['Blazar' 'SN' 'HPM' ... 'CV' 'Blazar' 'AGN']\n",
      "2 ['Other' 'CV' 'CV' ... 'CV' 'Blazar' 'AGN']\n",
      "3 ['SN' 'Non-Transient' 'SN' ... 'CV' 'Blazar' 'AGN']\n",
      "4 ['SN' 'HPM' 'SN' ... 'Blazar' 'AGN' 'Non-Transient']\n",
      "0 ['Flare' 'CV' 'CV' ... 'Blazar' 'AGN' 'HPM']\n",
      "1 ['AGN' 'AGN' 'HPM' ... 'AGN' 'HPM' 'Other']\n",
      "2 ['AGN' 'AGN' 'HPM' ... 'AGN' 'HPM' 'Non-Transient']\n",
      "3 ['CV' 'AGN' 'Flare' ... 'AGN' 'HPM' 'Other']\n",
      "Successfully saved: ../data/inputs/binary/simple/20/10\n",
      "Successfully saved: ../data/inputs/binary/simple/26/10\n",
      "Successfully saved: ../data/inputs/binary/simple/30/10\n",
      "Successfully saved: ../data/inputs/six_transients/simple/20/10\n",
      "Successfully saved: ../data/inputs/six_transients/simple/26/10\n",
      "Successfully saved: ../data/inputs/six_transients/simple/30/10\n",
      "Successfully saved: ../data/inputs/seven_transients/simple/20/10\n",
      "Successfully saved: ../data/inputs/seven_transients/simple/26/10\n",
      "Successfully saved: ../data/inputs/seven_transients/simple/30/10\n",
      "Successfully saved: ../data/inputs/seven_classes/simple/20/10\n",
      "Successfully saved: ../data/inputs/seven_classes/simple/26/10\n",
      "Successfully saved: ../data/inputs/seven_classes/simple/30/10\n",
      "Successfully saved: ../data/inputs/eight_classes/simple/20/10\n",
      "Successfully saved: ../data/inputs/eight_classes/simple/26/10\n",
      "Successfully saved: ../data/inputs/eight_classes/simple/30/10\n",
      "Successfully saved: ../data/inputs/six_transients/oversampled/20/10\n",
      "Successfully saved: ../data/inputs/six_transients/oversampled/26/10\n",
      "Successfully saved: ../data/inputs/six_transients/oversampled/30/10\n",
      "Successfully saved: ../data/inputs/seven_transients/oversampled/20/10\n",
      "Successfully saved: ../data/inputs/seven_transients/oversampled/26/10\n",
      "Successfully saved: ../data/inputs/seven_transients/oversampled/30/10\n",
      "Successfully saved: ../data/inputs/seven_classes/oversampled/20/10\n",
      "Successfully saved: ../data/inputs/seven_classes/oversampled/26/10\n",
      "Successfully saved: ../data/inputs/seven_classes/oversampled/30/10\n",
      "Successfully saved: ../data/inputs/eight_classes/oversampled/20/10\n",
      "Successfully saved: ../data/inputs/eight_classes/oversampled/26/10\n",
      "Successfully saved: ../data/inputs/eight_classes/oversampled/30/10\n"
     ]
    }
   ],
   "source": [
    "inputs2.generate_and_save_all_inputs(df_feats_t, df_feats_nt)"
   ]
  }
 ],
 "metadata": {
  "kernelspec": {
   "display_name": "Python 3",
   "language": "python",
   "name": "python3"
  },
  "language_info": {
   "codemirror_mode": {
    "name": "ipython",
    "version": 3
   },
   "file_extension": ".py",
   "mimetype": "text/x-python",
   "name": "python",
   "nbconvert_exporter": "python",
   "pygments_lexer": "ipython3",
   "version": "3.5.0"
  }
 },
 "nbformat": 4,
 "nbformat_minor": 2
}
