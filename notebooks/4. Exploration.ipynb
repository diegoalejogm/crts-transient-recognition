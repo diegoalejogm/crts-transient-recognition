{
 "cells": [
  {
   "cell_type": "code",
   "execution_count": 396,
   "metadata": {},
   "outputs": [],
   "source": [
    "%reload_ext autoreload\n",
    "%autoreload 2"
   ]
  },
  {
   "cell_type": "code",
   "execution_count": 431,
   "metadata": {},
   "outputs": [],
   "source": [
    "import exploration as explore\n",
    "import generate_latex"
   ]
  },
  {
   "cell_type": "code",
   "execution_count": 447,
   "metadata": {
    "scrolled": false
   },
   "outputs": [],
   "source": [
    "generate_latex.generate_latex_results()"
   ]
  },
  {
   "cell_type": "markdown",
   "metadata": {},
   "source": [
    "#### Select and Run top task we want to explore"
   ]
  },
  {
   "cell_type": "code",
   "execution_count": 120,
   "metadata": {},
   "outputs": [],
   "source": [
    "# Select\n",
    "top_func = exploration.top_eight_c"
   ]
  },
  {
   "cell_type": "code",
   "execution_count": 352,
   "metadata": {},
   "outputs": [
    {
     "data": {
      "text/plain": [
       "best_params                    {'n_estimators': 700, 'max_features': 'auto'}\n",
       "class_labels               [AGN, Blazar, CV, Flare, HPM, Non-Transient, O...\n",
       "cnf_matrix                 [[66.14, 1.5699999999999998, 0.0, 0.79, 0.0, 6...\n",
       "min_obs                                                                   10\n",
       "model                                                                     rf\n",
       "num_features                                                              30\n",
       "oversample                                                             False\n",
       "scaler                                                        StandardScaler\n",
       "test_fscore                                                         0.660538\n",
       "test_fscore_by_class       [0.6588235294117646, 0.4778761061946903, 0.761...\n",
       "test_precision                                                      0.663949\n",
       "test_precision_by_class    [0.65625, 0.627906976744186, 0.775330396475771...\n",
       "test_recall                                                         0.669286\n",
       "test_recall_by_class       [0.6614173228346457, 0.38571428571428573, 0.74...\n",
       "test_support_by_class                  [127, 70, 235, 56, 88, 315, 194, 315]\n",
       "train_best_score                                                    0.629216\n",
       "Name: 62, dtype: object"
      ]
     },
     "execution_count": 352,
     "metadata": {},
     "output_type": "execute_result"
    }
   ],
   "source": [
    "# Run\n",
    "best_data, best_model = top_func()\n",
    "best_data"
   ]
  },
  {
   "cell_type": "markdown",
   "metadata": {},
   "source": [
    "#### Confusion Matrix"
   ]
  },
  {
   "cell_type": "code",
   "execution_count": 123,
   "metadata": {},
   "outputs": [
    {
     "name": "stdout",
     "output_type": "stream",
     "text": [
      "['AGN' 'Blazar' 'CV' 'Flare' 'HPM' 'Non-Transient' 'Other' 'SN']\n",
      "[[66.14  1.57  0.    0.79  0.    6.3  20.47  4.72]\n",
      " [14.29 38.57 10.    0.    0.    0.   10.   27.14]\n",
      " [ 0.85  2.13 74.89  0.43  0.43  2.55  3.83 14.89]\n",
      " [ 0.    0.    5.36 39.29  0.   48.21  0.    7.14]\n",
      " [ 1.14  0.    1.14  0.   86.36  9.09  0.    2.27]\n",
      " [ 0.63  0.    1.27  1.9   1.9  84.13  5.71  4.44]\n",
      " [13.92  3.61  9.79  0.    0.52 11.34 36.6  24.23]\n",
      " [ 0.63  0.63  5.4   0.95  0.   17.46  6.35 68.57]]\n",
      "Support [127  70 235  56  88 315 194 315]\n"
     ]
    }
   ],
   "source": [
    "explore.print_confusion_matrix(best_data)"
   ]
  },
  {
   "cell_type": "markdown",
   "metadata": {},
   "source": [
    "#### Classification Test Scores"
   ]
  },
  {
   "cell_type": "code",
   "execution_count": 124,
   "metadata": {},
   "outputs": [
    {
     "name": "stdout",
     "output_type": "stream",
     "text": [
      "Score: 0.6605380311819623\n",
      "['AGN' 'Blazar' 'CV' 'Flare' 'HPM' 'Non-Transient' 'Other' 'SN']\n",
      "[127  70 235  56  88 315 194 315]\n",
      "FScores: [0.65882353 0.47787611 0.76190476 0.49438202 0.88372093 0.75070822\n",
      " 0.4115942  0.65653495]\n",
      "Precisions: [0.65625    0.62790698 0.7753304  0.66666667 0.9047619  0.67774936\n",
      " 0.47019868 0.62973761]\n",
      "Recalls: [0.66141732 0.38571429 0.74893617 0.39285714 0.86363636 0.84126984\n",
      " 0.36597938 0.68571429]\n"
     ]
    }
   ],
   "source": [
    "explore.print_classification_results(best_data)"
   ]
  },
  {
   "cell_type": "markdown",
   "metadata": {},
   "source": [
    "#### Feature Importances"
   ]
  },
  {
   "cell_type": "code",
   "execution_count": 125,
   "metadata": {},
   "outputs": [
    {
     "name": "stdout",
     "output_type": "stream",
     "text": [
      "Feature ranking:\n",
      "1. feature stetson_j (8.06%)\n",
      "2. feature amplitude (6.32%)\n",
      "3. feature std (6.11%)\n",
      "4. feature small_kurtosis (5.83%)\n",
      "5. feature median_absolute_deviation (5.71%)\n",
      "6. feature poly2_t1 (4.93%)\n",
      "7. feature poly1_t1 (4.66%)\n",
      "8. feature percent_difference_flux_percentile (4.50%)\n",
      "9. feature max_slope (3.70%)\n",
      "10. feature median_buffer_range_percentage (3.68%)\n",
      "11. feature poly2_t2 (3.39%)\n",
      "12. feature stetson_k (3.36%)\n",
      "13. feature skew (3.34%)\n",
      "14. feature percent_amplitude (3.27%)\n",
      "15. feature poly3_t2 (3.23%)\n",
      "16. feature poly3_t1 (3.13%)\n",
      "17. feature kurtosis (3.11%)\n",
      "18. feature flux_percentile_ratio_mid20 (3.08%)\n",
      "19. feature flux_percentile_ratio_mid35 (2.78%)\n",
      "20. feature pair_slope_trend (2.72%)\n",
      "21. feature flux_percentile_ratio_mid50 (2.61%)\n",
      "22. feature beyond1st (2.55%)\n",
      "23. feature flux_percentile_ratio_mid65 (2.51%)\n",
      "24. feature flux_percentile_ratio_mid80 (2.41%)\n",
      "25. feature pair_slope_trend_last_30 (1.81%)\n",
      "26. feature poly4_t1 (1.81%)\n",
      "27. feature poly4_t2 (0.71%)\n",
      "28. feature poly3_t3 (0.41%)\n",
      "29. feature poly4_t3 (0.17%)\n",
      "30. feature poly4_t4 (0.09%)\n"
     ]
    }
   ],
   "source": [
    "best_importances = explore.feature_importance(best_model)\n",
    "explore.print_feature_importance(best_importances)"
   ]
  }
 ],
 "metadata": {
  "kernelspec": {
   "display_name": "Python 3",
   "language": "python",
   "name": "python3"
  },
  "language_info": {
   "codemirror_mode": {
    "name": "ipython",
    "version": 3
   },
   "file_extension": ".py",
   "mimetype": "text/x-python",
   "name": "python",
   "nbconvert_exporter": "python",
   "pygments_lexer": "ipython3",
   "version": "3.5.0"
  }
 },
 "nbformat": 4,
 "nbformat_minor": 2
}
