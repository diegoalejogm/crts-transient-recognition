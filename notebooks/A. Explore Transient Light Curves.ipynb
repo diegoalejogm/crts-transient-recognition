{
 "cells": [
  {
   "cell_type": "code",
   "execution_count": 32,
   "metadata": {},
   "outputs": [],
   "source": [
    "DATA_PATH = '../data/'\n",
    "LIGHTCURVES_PATH = DATA_PATH + 'lightcurves/'"
   ]
  },
  {
   "cell_type": "code",
   "execution_count": 33,
   "metadata": {},
   "outputs": [],
   "source": [
    "import pandas as pd\n",
    "import inputs2"
   ]
  },
  {
   "cell_type": "code",
   "execution_count": 34,
   "metadata": {},
   "outputs": [],
   "source": [
    "def unique_ids_list(df_lcs):\n",
    "    return df_lcs.index.get_level_values('ID').unique().format()\n",
    "\n",
    "def print_num_ids_shape(df_lcs):\n",
    "    unique_ids = unique_ids_list(df_lcs)\n",
    "    print('Num IDs: {}  Shape: {}'.format(len(unique_ids), df_lcs.shape))"
   ]
  },
  {
   "cell_type": "markdown",
   "metadata": {},
   "source": [
    "#### Load Transient Catalog"
   ]
  },
  {
   "cell_type": "code",
   "execution_count": 35,
   "metadata": {},
   "outputs": [],
   "source": [
    "df_cat = inputs2.load_transient_catalog()"
   ]
  },
  {
   "cell_type": "code",
   "execution_count": 36,
   "metadata": {
    "scrolled": false
   },
   "outputs": [
    {
     "data": {
      "text/html": [
       "<div>\n",
       "<style scoped>\n",
       "    .dataframe tbody tr th:only-of-type {\n",
       "        vertical-align: middle;\n",
       "    }\n",
       "\n",
       "    .dataframe tbody tr th {\n",
       "        vertical-align: top;\n",
       "    }\n",
       "\n",
       "    .dataframe thead th {\n",
       "        text-align: right;\n",
       "    }\n",
       "</style>\n",
       "<table border=\"1\" class=\"dataframe\">\n",
       "  <thead>\n",
       "    <tr style=\"text-align: right;\">\n",
       "      <th></th>\n",
       "      <th>class</th>\n",
       "    </tr>\n",
       "    <tr>\n",
       "      <th>ID</th>\n",
       "      <th></th>\n",
       "    </tr>\n",
       "  </thead>\n",
       "  <tbody>\n",
       "    <tr>\n",
       "      <th>TranID1611101400424116462</th>\n",
       "      <td>Flare</td>\n",
       "    </tr>\n",
       "    <tr>\n",
       "      <th>TranID1611101210274176502</th>\n",
       "      <td>HPM</td>\n",
       "    </tr>\n",
       "    <tr>\n",
       "      <th>TranID1611101150154137989</th>\n",
       "      <td>HPM</td>\n",
       "    </tr>\n",
       "    <tr>\n",
       "      <th>TranID1611091630244128695</th>\n",
       "      <td>HPM</td>\n",
       "    </tr>\n",
       "    <tr>\n",
       "      <th>TranID1611091600294129774</th>\n",
       "      <td>CV</td>\n",
       "    </tr>\n",
       "  </tbody>\n",
       "</table>\n",
       "</div>"
      ],
      "text/plain": [
       "                           class\n",
       "ID                              \n",
       "TranID1611101400424116462  Flare\n",
       "TranID1611101210274176502    HPM\n",
       "TranID1611101150154137989    HPM\n",
       "TranID1611091630244128695    HPM\n",
       "TranID1611091600294129774     CV"
      ]
     },
     "execution_count": 36,
     "metadata": {},
     "output_type": "execute_result"
    }
   ],
   "source": [
    "df_cat.head()"
   ]
  },
  {
   "cell_type": "markdown",
   "metadata": {},
   "source": [
    "#### Load Transient Lightcurves"
   ]
  },
  {
   "cell_type": "code",
   "execution_count": 37,
   "metadata": {},
   "outputs": [
    {
     "name": "stdout",
     "output_type": "stream",
     "text": [
      "Num IDs: 4869  Shape: (440469, 3)\n"
     ]
    }
   ],
   "source": [
    "filename = 'transient_lightcurves_clean.pickle'\n",
    "indir = LIGHTCURVES_PATH; filepath = indir + filename\n",
    "df_lcs = pd.read_pickle(filepath)\n",
    "print_num_ids_shape(df_transient_noclass)"
   ]
  },
  {
   "cell_type": "markdown",
   "metadata": {},
   "source": [
    "##### Check that all Lightcurves TransientID's are in Catalog"
   ]
  },
  {
   "cell_type": "code",
   "execution_count": 38,
   "metadata": {},
   "outputs": [
    {
     "name": "stdout",
     "output_type": "stream",
     "text": [
      "All exist: True\n"
     ]
    }
   ],
   "source": [
    "all_exist = True\n",
    "transID_cat_list = df_cat.index.unique()\n",
    "for lcs_id in df_lcs.index.get_level_values('ID').unique():\n",
    "    all_exist = all_exist and (lcs_id in transID_cat_list)\n",
    "print('All exist:', str(all_exist))"
   ]
  },
  {
   "cell_type": "markdown",
   "metadata": {},
   "source": [
    "##### Check that all Catalog TransientID's are in Lightcurves "
   ]
  },
  {
   "cell_type": "code",
   "execution_count": 39,
   "metadata": {},
   "outputs": [
    {
     "name": "stdout",
     "output_type": "stream",
     "text": [
      "All exist: True\n",
      "Missing: 0 Transients\n"
     ]
    }
   ],
   "source": [
    "all_exist = True\n",
    "lcs_missing_transientID_list = []\n",
    "transID_lcs_list = df_cat.index.unique()\n",
    "for cat_id in df_lcs.index.get_level_values('ID').unique():\n",
    "    id_exists = (cat_id in transID_lcs_list)\n",
    "    all_exist = all_exist and id_exists\n",
    "    if not id_exists: lcs_missing_transientID_list.append(cat_id)\n",
    "print('All exist:', str(all_exist))\n",
    "print('Missing: {} Transients'.format(len(lcs_missing_transientID_list)))"
   ]
  },
  {
   "cell_type": "markdown",
   "metadata": {},
   "source": [
    "##### Merge dataframes with inner join"
   ]
  },
  {
   "cell_type": "code",
   "execution_count": 54,
   "metadata": {},
   "outputs": [],
   "source": [
    "df_merge = df_cat.copy().join(df_lcs.copy().groupby(level=0, axis=0).count(), how='inner')\n",
    "df_merge.rename(columns={'Mag':'ObsCount'}, inplace=True)"
   ]
  },
  {
   "cell_type": "code",
   "execution_count": 63,
   "metadata": {},
   "outputs": [
    {
     "name": "stdout",
     "output_type": "stream",
     "text": [
      "(4869, 4)\n"
     ]
    }
   ],
   "source": [
    "print(df_merge.shape)"
   ]
  },
  {
   "cell_type": "markdown",
   "metadata": {},
   "source": [
    "##### Count number of objects with at least 5 observations"
   ]
  },
  {
   "cell_type": "code",
   "execution_count": 76,
   "metadata": {
    "scrolled": true
   },
   "outputs": [
    {
     "data": {
      "text/plain": [
       "4269"
      ]
     },
     "execution_count": 76,
     "metadata": {},
     "output_type": "execute_result"
    }
   ],
   "source": [
    "df_merge_filtered = df_merge[df_merge.ObsCount >= 5]\n",
    "df_merge_filtered.shape[0]"
   ]
  },
  {
   "cell_type": "markdown",
   "metadata": {},
   "source": [
    "##### Top 10 count of transients by class (with at least 5 observations)"
   ]
  },
  {
   "cell_type": "code",
   "execution_count": 77,
   "metadata": {},
   "outputs": [
    {
     "data": {
      "text/html": [
       "<div>\n",
       "<style scoped>\n",
       "    .dataframe tbody tr th:only-of-type {\n",
       "        vertical-align: middle;\n",
       "    }\n",
       "\n",
       "    .dataframe tbody tr th {\n",
       "        vertical-align: top;\n",
       "    }\n",
       "\n",
       "    .dataframe thead th {\n",
       "        text-align: right;\n",
       "    }\n",
       "</style>\n",
       "<table border=\"1\" class=\"dataframe\">\n",
       "  <thead>\n",
       "    <tr style=\"text-align: right;\">\n",
       "      <th>class</th>\n",
       "      <th>SN</th>\n",
       "      <th>CV</th>\n",
       "      <th>AGN</th>\n",
       "      <th>HPM</th>\n",
       "      <th>Blazar</th>\n",
       "      <th>SN?</th>\n",
       "      <th>Flare</th>\n",
       "      <th>AGN?</th>\n",
       "      <th>Unknown</th>\n",
       "      <th>CV?</th>\n",
       "      <th>Var</th>\n",
       "      <th>Ast?</th>\n",
       "      <th>SN/CV</th>\n",
       "      <th>SN/AGN</th>\n",
       "      <th>YSO</th>\n",
       "      <th>Mira</th>\n",
       "      <th>Blazar?</th>\n",
       "      <th>Flare?</th>\n",
       "      <th>Var?</th>\n",
       "      <th>Ast</th>\n",
       "    </tr>\n",
       "  </thead>\n",
       "  <tbody>\n",
       "    <tr>\n",
       "      <th>ObjCount</th>\n",
       "      <td>1293</td>\n",
       "      <td>862</td>\n",
       "      <td>425</td>\n",
       "      <td>306</td>\n",
       "      <td>237</td>\n",
       "      <td>236</td>\n",
       "      <td>207</td>\n",
       "      <td>130</td>\n",
       "      <td>114</td>\n",
       "      <td>55</td>\n",
       "      <td>47</td>\n",
       "      <td>31</td>\n",
       "      <td>28</td>\n",
       "      <td>23</td>\n",
       "      <td>21</td>\n",
       "      <td>20</td>\n",
       "      <td>19</td>\n",
       "      <td>18</td>\n",
       "      <td>12</td>\n",
       "      <td>12</td>\n",
       "    </tr>\n",
       "  </tbody>\n",
       "</table>\n",
       "</div>"
      ],
      "text/plain": [
       "class       SN   CV  AGN  HPM  Blazar  SN?  Flare  AGN?  Unknown  CV?  Var  \\\n",
       "ObjCount  1293  862  425  306     237  236    207   130      114   55   47   \n",
       "\n",
       "class     Ast?  SN/CV  SN/AGN  YSO  Mira  Blazar?  Flare?  Var?  Ast  \n",
       "ObjCount    31     28      23   21    20       19      18    12   12  "
      ]
     },
     "execution_count": 77,
     "metadata": {},
     "output_type": "execute_result"
    }
   ],
   "source": [
    "df = df_merge_filtered[['class','ObsCount']].groupby('class').count()\n",
    "df = df.rename(columns={'ObsCount':'ObjCount'}).sort_values('ObjCount', ascending=False)\n",
    "df.head(20).transpose()"
   ]
  },
  {
   "cell_type": "markdown",
   "metadata": {},
   "source": [
    "##### Describe observation count for transients with at least 5 observations"
   ]
  },
  {
   "cell_type": "code",
   "execution_count": 78,
   "metadata": {
    "scrolled": true
   },
   "outputs": [
    {
     "data": {
      "text/html": [
       "<div>\n",
       "<style scoped>\n",
       "    .dataframe tbody tr th:only-of-type {\n",
       "        vertical-align: middle;\n",
       "    }\n",
       "\n",
       "    .dataframe tbody tr th {\n",
       "        vertical-align: top;\n",
       "    }\n",
       "\n",
       "    .dataframe thead th {\n",
       "        text-align: right;\n",
       "    }\n",
       "</style>\n",
       "<table border=\"1\" class=\"dataframe\">\n",
       "  <thead>\n",
       "    <tr style=\"text-align: right;\">\n",
       "      <th></th>\n",
       "      <th>Mag</th>\n",
       "      <th>Magerr</th>\n",
       "      <th>MJD</th>\n",
       "    </tr>\n",
       "  </thead>\n",
       "  <tbody>\n",
       "    <tr>\n",
       "      <th>count</th>\n",
       "      <td>4269.000000</td>\n",
       "      <td>4269.000000</td>\n",
       "      <td>4269.000000</td>\n",
       "    </tr>\n",
       "    <tr>\n",
       "      <th>mean</th>\n",
       "      <td>102.810260</td>\n",
       "      <td>102.810260</td>\n",
       "      <td>102.810260</td>\n",
       "    </tr>\n",
       "    <tr>\n",
       "      <th>std</th>\n",
       "      <td>113.786057</td>\n",
       "      <td>113.786057</td>\n",
       "      <td>113.786057</td>\n",
       "    </tr>\n",
       "    <tr>\n",
       "      <th>min</th>\n",
       "      <td>5.000000</td>\n",
       "      <td>5.000000</td>\n",
       "      <td>5.000000</td>\n",
       "    </tr>\n",
       "    <tr>\n",
       "      <th>25%</th>\n",
       "      <td>14.000000</td>\n",
       "      <td>14.000000</td>\n",
       "      <td>14.000000</td>\n",
       "    </tr>\n",
       "    <tr>\n",
       "      <th>50%</th>\n",
       "      <td>48.000000</td>\n",
       "      <td>48.000000</td>\n",
       "      <td>48.000000</td>\n",
       "    </tr>\n",
       "    <tr>\n",
       "      <th>75%</th>\n",
       "      <td>166.000000</td>\n",
       "      <td>166.000000</td>\n",
       "      <td>166.000000</td>\n",
       "    </tr>\n",
       "    <tr>\n",
       "      <th>max</th>\n",
       "      <td>564.000000</td>\n",
       "      <td>564.000000</td>\n",
       "      <td>564.000000</td>\n",
       "    </tr>\n",
       "  </tbody>\n",
       "</table>\n",
       "</div>"
      ],
      "text/plain": [
       "               Mag       Magerr          MJD\n",
       "count  4269.000000  4269.000000  4269.000000\n",
       "mean    102.810260   102.810260   102.810260\n",
       "std     113.786057   113.786057   113.786057\n",
       "min       5.000000     5.000000     5.000000\n",
       "25%      14.000000    14.000000    14.000000\n",
       "50%      48.000000    48.000000    48.000000\n",
       "75%     166.000000   166.000000   166.000000\n",
       "max     564.000000   564.000000   564.000000"
      ]
     },
     "execution_count": 78,
     "metadata": {},
     "output_type": "execute_result"
    }
   ],
   "source": [
    "df_lcs[df_lcs.index.get_level_values('ID').isin(df_merge_filtered.index)].groupby(level=0, axis=0).count().describe()"
   ]
  },
  {
   "cell_type": "markdown",
   "metadata": {},
   "source": [
    "### Visualize transient light curves"
   ]
  },
  {
   "cell_type": "code",
   "execution_count": 380,
   "metadata": {},
   "outputs": [],
   "source": [
    "def lightcurve(transID):\n",
    "    df_lc = df_lcs[df_lcs.TransientID == transID]\n",
    "    return df_lc"
   ]
  },
  {
   "cell_type": "code",
   "execution_count": 373,
   "metadata": {},
   "outputs": [],
   "source": [
    "def class_random_ids(klass):\n",
    "    df_class = df_merge[df_merge.Classification == klass]\n",
    "    df_class = df_class[(df_class.ObsCount <= 40) & (df_class.ObsCount >= 10)]\n",
    "    IDs = df_class.TransientID.unique()\n",
    "    np.random.seed(40)\n",
    "    rand = np.random.randint(0, IDs.shape[0]-1, 4)\n",
    "    randIds = IDs[rand]\n",
    "    return randIds"
   ]
  },
  {
   "cell_type": "code",
   "execution_count": 424,
   "metadata": {},
   "outputs": [],
   "source": [
    "def plot_lightcurve(lc):\n",
    "    plot = lc.plot(x='MJD', y='Mag', marker='.', markeredgecolor='black', linestyle='None', legend=False, figsize=(7,7),ylim=(0,30),  yerr='Magerr', elinewidth=0.7)\n",
    "    plot.set_xlabel('Modified Julian Date')\n",
    "    plot.set_ylabel('Mag')"
   ]
  },
  {
   "cell_type": "code",
   "execution_count": 420,
   "metadata": {},
   "outputs": [],
   "source": [
    "top_classes = ['SN', 'CV', 'AGN', 'Blazar']\n",
    "\n",
    "for i, klass in enumerate(top_classes):\n",
    "    ids = class_random_ids(klass)\n",
    "    for idx in ids:\n",
    "        lc = lightcurve(idx)\n",
    "        plot_lightcurve(lc)\n",
    "        plt.savefig('graphs/{}_{}.png'.format(klass, idx))\n",
    "        plt.close()"
   ]
  },
  {
   "cell_type": "markdown",
   "metadata": {},
   "source": [
    "Visualize correctly classified in binary task"
   ]
  },
  {
   "cell_type": "code",
   "execution_count": 425,
   "metadata": {},
   "outputs": [
    {
     "name": "stdout",
     "output_type": "stream",
     "text": [
      "     Classification          TransientID\n",
      "3342            HPM  1111031520324144272\n"
     ]
    },
    {
     "data": {
      "image/png": "[encoded data removed]",
      "text/plain": [
       "<matplotlib.figure.Figure at 0x7f4f32edc7b8>"
      ]
     },
     "metadata": {},
     "output_type": "display_data"
    }
   ],
   "source": [
    "classified_ids = [1111031520324144272]\n",
    "for ix, _ in enumerate(classified_ids):\n",
    "    lc = lightcurve(classified_ids[ix])\n",
    "    print(df_cat[df_cat.TransientID == classified_ids[ix]])\n",
    "    plot_lightcurve(lc)\n",
    "#    plt.savefig('graphs/binary/trans_corr_{}.png'.format(classified_ids[ix]))\n",
    "#    plt.close()"
   ]
  },
  {
   "cell_type": "markdown",
   "metadata": {},
   "source": [
    "Visualize incorrectly classified in binary task"
   ]
  },
  {
   "cell_type": "code",
   "execution_count": 422,
   "metadata": {},
   "outputs": [
    {
     "name": "stdout",
     "output_type": "stream",
     "text": [
      "    Classification          TransientID\n",
      "709             CV  1509251350694128317\n",
      "    Classification          TransientID\n",
      "365             SN  1603021070274145695\n",
      "     Classification          TransientID\n",
      "1449             SN  1404301350644109127\n",
      "    Classification          TransientID\n",
      "146           AGN?  1607060121174118737\n"
     ]
    }
   ],
   "source": [
    "missclassified_ids = [1509251350694128317, 1603021070274145695, 1404301350644109127, 1607060121174118737]\n",
    "for ix, _ in enumerate(missclassified_ids):\n",
    "    lc = lightcurve(missclassified_ids[ix])\n",
    "    print(df_cat[df_cat.TransientID == missclassified_ids[ix]])\n",
    "    plot_lightcurve(lc)\n",
    "    plt.savefig('graphs/binary/trans_incorr_{}.png'.format(missclassified_ids[ix]))\n",
    "    plt.close()"
   ]
  }
 ],
 "metadata": {
  "kernelspec": {
   "display_name": "Python 3",
   "language": "python",
   "name": "python3"
  },
  "language_info": {
   "codemirror_mode": {
    "name": "ipython",
    "version": 3
   },
   "file_extension": ".py",
   "mimetype": "text/x-python",
   "name": "python",
   "nbconvert_exporter": "python",
   "pygments_lexer": "ipython3",
   "version": "3.5.0"
  }
 },
 "nbformat": 4,
 "nbformat_minor": 2
}
