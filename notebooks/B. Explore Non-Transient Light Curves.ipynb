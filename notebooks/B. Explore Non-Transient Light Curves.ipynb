{
 "cells": [
  {
   "cell_type": "code",
   "execution_count": 1,
   "metadata": {},
   "outputs": [],
   "source": [
    "DATA_PATH = '../data/'\n",
    "LIGHTCURVES_PATH = DATA_PATH + 'lightcurves/'"
   ]
  },
  {
   "cell_type": "code",
   "execution_count": 11,
   "metadata": {},
   "outputs": [],
   "source": [
    "%matplotlib inline\n",
    "\n",
    "import pandas as pd\n",
    "import numpy as np\n",
    "import inputs2\n",
    "import numpy as np"
   ]
  },
  {
   "cell_type": "markdown",
   "metadata": {},
   "source": [
    "#### Load transient catalinaID Catalogue"
   ]
  },
  {
   "cell_type": "code",
   "execution_count": 12,
   "metadata": {
    "scrolled": true
   },
   "outputs": [
    {
     "data": {
      "text/html": [
       "<div>\n",
       "<style scoped>\n",
       "    .dataframe tbody tr th:only-of-type {\n",
       "        vertical-align: middle;\n",
       "    }\n",
       "\n",
       "    .dataframe tbody tr th {\n",
       "        vertical-align: top;\n",
       "    }\n",
       "\n",
       "    .dataframe thead th {\n",
       "        text-align: right;\n",
       "    }\n",
       "</style>\n",
       "<table border=\"1\" class=\"dataframe\">\n",
       "  <thead>\n",
       "    <tr style=\"text-align: right;\">\n",
       "      <th></th>\n",
       "      <th>class</th>\n",
       "    </tr>\n",
       "    <tr>\n",
       "      <th>ID</th>\n",
       "      <th></th>\n",
       "    </tr>\n",
       "  </thead>\n",
       "  <tbody>\n",
       "    <tr>\n",
       "      <th>TranID1611101400424116462</th>\n",
       "      <td>Flare</td>\n",
       "    </tr>\n",
       "    <tr>\n",
       "      <th>TranID1611101210274176502</th>\n",
       "      <td>HPM</td>\n",
       "    </tr>\n",
       "    <tr>\n",
       "      <th>TranID1611101150154137989</th>\n",
       "      <td>HPM</td>\n",
       "    </tr>\n",
       "    <tr>\n",
       "      <th>TranID1611091630244128695</th>\n",
       "      <td>HPM</td>\n",
       "    </tr>\n",
       "    <tr>\n",
       "      <th>TranID1611091600294129774</th>\n",
       "      <td>CV</td>\n",
       "    </tr>\n",
       "  </tbody>\n",
       "</table>\n",
       "</div>"
      ],
      "text/plain": [
       "                           class\n",
       "ID                              \n",
       "TranID1611101400424116462  Flare\n",
       "TranID1611101210274176502    HPM\n",
       "TranID1611101150154137989    HPM\n",
       "TranID1611091630244128695    HPM\n",
       "TranID1611091600294129774     CV"
      ]
     },
     "execution_count": 12,
     "metadata": {},
     "output_type": "execute_result"
    }
   ],
   "source": [
    "df_cat = inputs2.load_transient_catalog()\n",
    "df_cat.head()"
   ]
  },
  {
   "cell_type": "markdown",
   "metadata": {},
   "source": [
    "##### Load non-transient Light Curves"
   ]
  },
  {
   "cell_type": "code",
   "execution_count": 13,
   "metadata": {
    "scrolled": true
   },
   "outputs": [
    {
     "name": "stdout",
     "output_type": "stream",
     "text": [
      "(16940,)\n"
     ]
    }
   ],
   "source": [
    "filename = 'nontransient_lightcurves_clean.pickle'\n",
    "indir = LIGHTCURVES_PATH; filepath = indir + filename\n",
    "df_lcs = pd.read_pickle(filepath)\n",
    "# df_lcs['CatalinaID'] = pd.to_numeric(df_lcs.ID.str[6:])\n",
    "print(df_lcs.index.get_level_values('ID').unique().shape)"
   ]
  },
  {
   "cell_type": "markdown",
   "metadata": {},
   "source": [
    "#### Check that nontransient Lightcurve IDs are not in the transients CatalinaIDs"
   ]
  },
  {
   "cell_type": "code",
   "execution_count": 22,
   "metadata": {},
   "outputs": [
    {
     "name": "stdout",
     "output_type": "stream",
     "text": [
      "Any exist: False\n"
     ]
    }
   ],
   "source": [
    "any_exist = False\n",
    "catalinaID_list = df_cat.index.unique()\n",
    "for lcs_id in df_lcs.index.get_level_values('ID').unique():\n",
    "    curr_exists = lcs_id in catalinaID_list\n",
    "    any_exist = any_exist or curr_exists\n",
    "print('Any exist:', str(any_exist))"
   ]
  },
  {
   "cell_type": "markdown",
   "metadata": {},
   "source": [
    "#### Describre non-transients observation count"
   ]
  },
  {
   "cell_type": "code",
   "execution_count": 24,
   "metadata": {},
   "outputs": [],
   "source": [
    "df_lcs_numobs = df_lcs.groupby(level=0, axis=0)['Mag'].count()"
   ]
  },
  {
   "cell_type": "code",
   "execution_count": 26,
   "metadata": {},
   "outputs": [
    {
     "data": {
      "text/plain": [
       "count    16940.000000\n",
       "mean       106.416470\n",
       "std        115.840552\n",
       "min          1.000000\n",
       "25%         16.000000\n",
       "50%         59.000000\n",
       "75%        164.000000\n",
       "max        537.000000\n",
       "Name: Mag, dtype: float64"
      ]
     },
     "execution_count": 26,
     "metadata": {},
     "output_type": "execute_result"
    }
   ],
   "source": [
    "df_lcs_numobs.describe()"
   ]
  },
  {
   "cell_type": "markdown",
   "metadata": {},
   "source": [
    "#### Date of first observation"
   ]
  },
  {
   "cell_type": "code",
   "execution_count": 27,
   "metadata": {},
   "outputs": [],
   "source": [
    "# df_lcs.sort_values(['MJD'])['MJD'].iloc[0]"
   ]
  }
 ],
 "metadata": {
  "kernelspec": {
   "display_name": "Python 3",
   "language": "python",
   "name": "python3"
  },
  "language_info": {
   "codemirror_mode": {
    "name": "ipython",
    "version": 3
   },
   "file_extension": ".py",
   "mimetype": "text/x-python",
   "name": "python",
   "nbconvert_exporter": "python",
   "pygments_lexer": "ipython3",
   "version": "3.5.0"
  }
 },
 "nbformat": 4,
 "nbformat_minor": 2
}
