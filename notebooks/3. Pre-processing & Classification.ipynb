{
 "cells": [
  {
   "cell_type": "code",
   "execution_count": null,
   "metadata": {},
   "outputs": [],
   "source": [
    "RESULTS_PATH = '../results/'"
   ]
  },
  {
   "cell_type": "code",
   "execution_count": null,
   "metadata": {},
   "outputs": [],
   "source": [
    "import numpy as np\n",
    "import inputs\n",
    "import classification\n",
    "import itertools\n",
    "from sklearn.preprocessing import StandardScaler, MinMaxScaler"
   ]
  },
  {
   "cell_type": "markdown",
   "metadata": {},
   "source": [
    "Select the parameters and models for training, validation and testing"
   ]
  },
  {
   "cell_type": "code",
   "execution_count": null,
   "metadata": {},
   "outputs": [],
   "source": [
    "task_list = [inputs.binary, inputs.six_transient, inputs.seven_transient, inputs.seven_class, inputs.eight_class]\n",
    "min_obs_list = [5,10]\n",
    "num_features_list = [31, 27, 21]\n",
    "oversample_list = [True, False]\n",
    "model_list = [classification.svc, classification.rf, classification.mlp]\n",
    "scaler_list = [StandardScaler, MinMaxScaler]"
   ]
  },
  {
   "cell_type": "markdown",
   "metadata": {},
   "source": [
    "For every combination of parameters selected, perform pre-processing and classification"
   ]
  },
  {
   "cell_type": "code",
   "execution_count": null,
   "metadata": {
    "scrolled": false
   },
   "outputs": [],
   "source": [
    "for combination in itertools.product(task_list, min_obs_list, num_features_list, oversample_list, model_list, scaler_list):\n",
    "    task, min_obs, num_features, oversample, model, scaler = combination\n",
    "    print('STARTING TASK: ', task.__name__, min_obs, num_features, oversample, model.__name__, scaler.__name__)\n",
    "    # Obtain inputs\n",
    "    X_train, X_test, y_train, y_test = task(min_obs, num_features, oversample=oversample)\n",
    "    # Scale inputs\n",
    "    scaler = scaler().fit(X_train)\n",
    "    X_train = scaler.transform(X_train)\n",
    "    X_test = scaler.transform(X_test)\n",
    "    # Perform Classification\n",
    "    model(X_train, y_train, X_test, y_test, min_obs, num_features, oversample, task, scaler)\n",
    "    print('Finished Task\\n')"
   ]
  }
 ],
 "metadata": {
  "kernelspec": {
   "display_name": "Python 3",
   "language": "python",
   "name": "python3"
  },
  "language_info": {
   "codemirror_mode": {
    "name": "ipython",
    "version": 3
   },
   "file_extension": ".py",
   "mimetype": "text/x-python",
   "name": "python",
   "nbconvert_exporter": "python",
   "pygments_lexer": "ipython3",
   "version": "3.4.0"
  }
 },
 "nbformat": 4,
 "nbformat_minor": 2
}
